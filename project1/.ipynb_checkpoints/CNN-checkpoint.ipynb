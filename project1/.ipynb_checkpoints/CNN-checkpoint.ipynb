{
 "cells": [
  {
   "cell_type": "markdown",
   "id": "88d430bf-d898-4f88-bbec-f605ba17c476",
   "metadata": {},
   "source": [
    "# Mini-projet n° 1 – Qui a peint ce tableau ?"
   ]
  },
  {
   "cell_type": "code",
   "execution_count": 1,
   "id": "41db2b72-c086-45ed-9334-189b92543909",
   "metadata": {},
   "outputs": [],
   "source": [
    "import PIL\n",
    "from PIL import Image\n",
    "import os, sys\n",
    "\n",
    "import math\n",
    "import numpy as np\n",
    "import pandas as pd\n",
    "import matplotlib.pyplot as plt\n",
    "%matplotlib inline\n",
    "\n",
    "import torch, torchvision\n",
    "from torch.utils.data import DataLoader\n",
    "from torchvision import datasets, transforms\n",
    "\n",
    "from sklearn.model_selection import train_test_split"
   ]
  },
  {
   "cell_type": "code",
   "execution_count": 2,
   "id": "36316d9e-2ca9-48d0-ab47-bfa0e25a9433",
   "metadata": {},
   "outputs": [
    {
     "name": "stdout",
     "output_type": "stream",
     "text": [
      "cuda\n"
     ]
    }
   ],
   "source": [
    "device = torch.device(\"cuda\" if torch.cuda.is_available() else \"cpu\")\n",
    "print(device)"
   ]
  },
  {
   "cell_type": "markdown",
   "id": "52f874bd-41ef-4962-abe8-81db8d057c28",
   "metadata": {},
   "source": [
    "### Loading datas"
   ]
  },
  {
   "cell_type": "code",
   "execution_count": 3,
   "id": "0e1d861a-d229-4727-af05-2020b0adad6a",
   "metadata": {},
   "outputs": [],
   "source": [
    "data_path = '../../data/art-challenge/'\n",
    "artists = pd.read_csv(data_path+'artists.csv')\n",
    "\n",
    "images_filenames = os.listdir(data_path + \"images_lq/\")\n",
    "\n",
    "list_name = []\n",
    "\n",
    "for filename in images_filenames:\n",
    "    parts = filename.split('_')\n",
    "    if len(parts) >2:\n",
    "        name_surname = f\"{parts[0]} {parts[1]}\"\n",
    "    elif len(parts) == 2:  # \"Name_xxx\" format\n",
    "        name_surname = parts[0]  # Only Name\n",
    "    list_name.append(name_surname)\n",
    "\n",
    "\n",
    "total_df = pd.DataFrame({\n",
    "    'filename': images_filenames,  # List of names of files\n",
    "    'artist': list_name            # List of artists for each painting\n",
    "})"
   ]
  },
  {
   "cell_type": "code",
   "execution_count": 4,
   "id": "372406b6-fed3-4ef9-8093-8b59fcea8e99",
   "metadata": {},
   "outputs": [
    {
     "data": {
      "text/html": [
       "<div>\n",
       "<style scoped>\n",
       "    .dataframe tbody tr th:only-of-type {\n",
       "        vertical-align: middle;\n",
       "    }\n",
       "\n",
       "    .dataframe tbody tr th {\n",
       "        vertical-align: top;\n",
       "    }\n",
       "\n",
       "    .dataframe thead th {\n",
       "        text-align: right;\n",
       "    }\n",
       "</style>\n",
       "<table border=\"1\" class=\"dataframe\">\n",
       "  <thead>\n",
       "    <tr style=\"text-align: right;\">\n",
       "      <th></th>\n",
       "      <th>id</th>\n",
       "      <th>name</th>\n",
       "      <th>years</th>\n",
       "      <th>genre</th>\n",
       "      <th>nationality</th>\n",
       "      <th>bio</th>\n",
       "      <th>wikipedia</th>\n",
       "      <th>paintings</th>\n",
       "    </tr>\n",
       "  </thead>\n",
       "  <tbody>\n",
       "    <tr>\n",
       "      <th>0</th>\n",
       "      <td>0</td>\n",
       "      <td>Amedeo Modigliani</td>\n",
       "      <td>1884 - 1920</td>\n",
       "      <td>Expressionism</td>\n",
       "      <td>Italian</td>\n",
       "      <td>Amedeo Clemente Modigliani (Italian pronunciat...</td>\n",
       "      <td>http://en.wikipedia.org/wiki/Amedeo_Modigliani</td>\n",
       "      <td>193</td>\n",
       "    </tr>\n",
       "    <tr>\n",
       "      <th>1</th>\n",
       "      <td>1</td>\n",
       "      <td>Vasiliy Kandinskiy</td>\n",
       "      <td>1866 - 1944</td>\n",
       "      <td>Expressionism,Abstractionism</td>\n",
       "      <td>Russian</td>\n",
       "      <td>Wassily Wassilyevich Kandinsky (Russian: Васи́...</td>\n",
       "      <td>http://en.wikipedia.org/wiki/Wassily_Kandinsky</td>\n",
       "      <td>88</td>\n",
       "    </tr>\n",
       "    <tr>\n",
       "      <th>2</th>\n",
       "      <td>2</td>\n",
       "      <td>Diego Rivera</td>\n",
       "      <td>1886 - 1957</td>\n",
       "      <td>Social Realism,Muralism</td>\n",
       "      <td>Mexican</td>\n",
       "      <td>Diego María de la Concepción Juan Nepomuceno E...</td>\n",
       "      <td>http://en.wikipedia.org/wiki/Diego_Rivera</td>\n",
       "      <td>70</td>\n",
       "    </tr>\n",
       "    <tr>\n",
       "      <th>3</th>\n",
       "      <td>3</td>\n",
       "      <td>Claude Monet</td>\n",
       "      <td>1840 - 1926</td>\n",
       "      <td>Impressionism</td>\n",
       "      <td>French</td>\n",
       "      <td>Oscar-Claude Monet (; French: [klod mɔnɛ]; 14 ...</td>\n",
       "      <td>http://en.wikipedia.org/wiki/Claude_Monet</td>\n",
       "      <td>73</td>\n",
       "    </tr>\n",
       "    <tr>\n",
       "      <th>4</th>\n",
       "      <td>4</td>\n",
       "      <td>Rene Magritte</td>\n",
       "      <td>1898 - 1967</td>\n",
       "      <td>Surrealism,Impressionism</td>\n",
       "      <td>Belgian</td>\n",
       "      <td>René François Ghislain Magritte (French: [ʁəne...</td>\n",
       "      <td>http://en.wikipedia.org/wiki/René_Magritte</td>\n",
       "      <td>194</td>\n",
       "    </tr>\n",
       "  </tbody>\n",
       "</table>\n",
       "</div>"
      ],
      "text/plain": [
       "   id                name        years                         genre  \\\n",
       "0   0   Amedeo Modigliani  1884 - 1920                 Expressionism   \n",
       "1   1  Vasiliy Kandinskiy  1866 - 1944  Expressionism,Abstractionism   \n",
       "2   2        Diego Rivera  1886 - 1957       Social Realism,Muralism   \n",
       "3   3        Claude Monet  1840 - 1926                 Impressionism   \n",
       "4   4       Rene Magritte  1898 - 1967      Surrealism,Impressionism   \n",
       "\n",
       "  nationality                                                bio  \\\n",
       "0     Italian  Amedeo Clemente Modigliani (Italian pronunciat...   \n",
       "1     Russian  Wassily Wassilyevich Kandinsky (Russian: Васи́...   \n",
       "2     Mexican  Diego María de la Concepción Juan Nepomuceno E...   \n",
       "3      French  Oscar-Claude Monet (; French: [klod mɔnɛ]; 14 ...   \n",
       "4     Belgian  René François Ghislain Magritte (French: [ʁəne...   \n",
       "\n",
       "                                        wikipedia  paintings  \n",
       "0  http://en.wikipedia.org/wiki/Amedeo_Modigliani        193  \n",
       "1  http://en.wikipedia.org/wiki/Wassily_Kandinsky         88  \n",
       "2       http://en.wikipedia.org/wiki/Diego_Rivera         70  \n",
       "3       http://en.wikipedia.org/wiki/Claude_Monet         73  \n",
       "4      http://en.wikipedia.org/wiki/René_Magritte        194  "
      ]
     },
     "execution_count": 4,
     "metadata": {},
     "output_type": "execute_result"
    }
   ],
   "source": [
    "artists.head()"
   ]
  },
  {
   "cell_type": "code",
   "execution_count": 5,
   "id": "d34c0065-12aa-45f1-8fde-6fe8048b87a0",
   "metadata": {},
   "outputs": [
    {
     "data": {
      "text/html": [
       "<div>\n",
       "<style scoped>\n",
       "    .dataframe tbody tr th:only-of-type {\n",
       "        vertical-align: middle;\n",
       "    }\n",
       "\n",
       "    .dataframe tbody tr th {\n",
       "        vertical-align: top;\n",
       "    }\n",
       "\n",
       "    .dataframe thead th {\n",
       "        text-align: right;\n",
       "    }\n",
       "</style>\n",
       "<table border=\"1\" class=\"dataframe\">\n",
       "  <thead>\n",
       "    <tr style=\"text-align: right;\">\n",
       "      <th></th>\n",
       "      <th>filename</th>\n",
       "      <th>artist</th>\n",
       "    </tr>\n",
       "  </thead>\n",
       "  <tbody>\n",
       "    <tr>\n",
       "      <th>0</th>\n",
       "      <td>Albrecht_Dürer_1.jpg</td>\n",
       "      <td>Albrecht Dürer</td>\n",
       "    </tr>\n",
       "    <tr>\n",
       "      <th>1</th>\n",
       "      <td>Albrecht_Dürer_10.jpg</td>\n",
       "      <td>Albrecht Dürer</td>\n",
       "    </tr>\n",
       "    <tr>\n",
       "      <th>2</th>\n",
       "      <td>Albrecht_Dürer_100.jpg</td>\n",
       "      <td>Albrecht Dürer</td>\n",
       "    </tr>\n",
       "    <tr>\n",
       "      <th>3</th>\n",
       "      <td>Albrecht_Dürer_101.jpg</td>\n",
       "      <td>Albrecht Dürer</td>\n",
       "    </tr>\n",
       "    <tr>\n",
       "      <th>4</th>\n",
       "      <td>Albrecht_Dürer_102.jpg</td>\n",
       "      <td>Albrecht Dürer</td>\n",
       "    </tr>\n",
       "    <tr>\n",
       "      <th>...</th>\n",
       "      <td>...</td>\n",
       "      <td>...</td>\n",
       "    </tr>\n",
       "    <tr>\n",
       "      <th>8350</th>\n",
       "      <td>William_Turner_65.jpg</td>\n",
       "      <td>William Turner</td>\n",
       "    </tr>\n",
       "    <tr>\n",
       "      <th>8351</th>\n",
       "      <td>William_Turner_66.jpg</td>\n",
       "      <td>William Turner</td>\n",
       "    </tr>\n",
       "    <tr>\n",
       "      <th>8352</th>\n",
       "      <td>William_Turner_7.jpg</td>\n",
       "      <td>William Turner</td>\n",
       "    </tr>\n",
       "    <tr>\n",
       "      <th>8353</th>\n",
       "      <td>William_Turner_8.jpg</td>\n",
       "      <td>William Turner</td>\n",
       "    </tr>\n",
       "    <tr>\n",
       "      <th>8354</th>\n",
       "      <td>William_Turner_9.jpg</td>\n",
       "      <td>William Turner</td>\n",
       "    </tr>\n",
       "  </tbody>\n",
       "</table>\n",
       "<p>8355 rows × 2 columns</p>\n",
       "</div>"
      ],
      "text/plain": [
       "                    filename          artist\n",
       "0       Albrecht_Dürer_1.jpg  Albrecht Dürer\n",
       "1      Albrecht_Dürer_10.jpg  Albrecht Dürer\n",
       "2     Albrecht_Dürer_100.jpg  Albrecht Dürer\n",
       "3     Albrecht_Dürer_101.jpg  Albrecht Dürer\n",
       "4     Albrecht_Dürer_102.jpg  Albrecht Dürer\n",
       "...                      ...             ...\n",
       "8350   William_Turner_65.jpg  William Turner\n",
       "8351   William_Turner_66.jpg  William Turner\n",
       "8352    William_Turner_7.jpg  William Turner\n",
       "8353    William_Turner_8.jpg  William Turner\n",
       "8354    William_Turner_9.jpg  William Turner\n",
       "\n",
       "[8355 rows x 2 columns]"
      ]
     },
     "execution_count": 5,
     "metadata": {},
     "output_type": "execute_result"
    }
   ],
   "source": [
    "total_df"
   ]
  },
  {
   "cell_type": "code",
   "execution_count": 6,
   "id": "8efe6e2c-84f7-4759-ab1b-40561e4687f0",
   "metadata": {},
   "outputs": [],
   "source": [
    "IMAGE_SIZE = 64\n",
    "DATASET_SIZE = len(images_filenames)\n",
    "\n",
    "\n",
    "def load_image_as_rgb_matrices(image_name):\n",
    "    \n",
    "    image_path = os.path.join('../../data/art-challenge/images_lq/', image_name)\n",
    "    \n",
    "    img = Image.open(image_path)\n",
    "    img = img.resize((IMAGE_SIZE,IMAGE_SIZE))\n",
    "    \n",
    "    img = img.convert('RGB')\n",
    "    img_array = np.array(img)\n",
    "    return img_array\n",
    "\n",
    "\n",
    "x = np.zeros((DATASET_SIZE,IMAGE_SIZE,IMAGE_SIZE, 3))\n",
    "for i in range(DATASET_SIZE):\n",
    "    x[i] = load_image_as_rgb_matrices(images_filenames[0])\n"
   ]
  },
  {
   "cell_type": "code",
   "execution_count": 7,
   "id": "7b5db7f5-7abd-4883-b7f2-3e4230fbaf74",
   "metadata": {},
   "outputs": [],
   "source": [
    "x_train, x_test, y_train, y_test = train_test_split(x, total_df['artist'], test_size = 0.15, random_state = 42)\n",
    "\n",
    "x_train, x_test = x_train/255, x_test/255"
   ]
  },
  {
   "cell_type": "code",
   "execution_count": 8,
   "id": "2e9b230b-2a22-4f56-9842-3d4f0f167e76",
   "metadata": {},
   "outputs": [],
   "source": [
    "import os"
   ]
  },
  {
   "cell_type": "code",
   "execution_count": 14,
   "id": "75579f32-cc21-489e-bdc1-2e38e86e16a9",
   "metadata": {},
   "outputs": [
    {
     "name": "stdout",
     "output_type": "stream",
     "text": [
      "/home/cornuejouls/Documents/5GMM/HDDL/High-Dimensional-Deep-Learning/PROJET/hddl_project/project1\n"
     ]
    }
   ],
   "source": [
    "transform = transforms.Compose([\n",
    "    transforms.Resize((150, 150)),  # Resize to 150x150\n",
    "    transforms.ToTensor(),  # Convert image to PyTorch tensor\n",
    "])\n",
    "print(os.getcwd())\n",
    "gc=\"../../data/art-challenge/images_hq\"\n",
    "dataset = datasets.ImageFolder(root=gc, transform=transform)"
   ]
  },
  {
   "cell_type": "code",
   "execution_count": 16,
   "id": "3a352b14-7024-4c78-b3b7-1f6e8ed035f7",
   "metadata": {},
   "outputs": [
    {
     "data": {
      "text/plain": [
       "Dataset ImageFolder\n",
       "    Number of datapoints: 8447\n",
       "    Root location: ../../data/art-challenge/images_hq\n",
       "    StandardTransform\n",
       "Transform: Compose(\n",
       "               Resize(size=(150, 150), interpolation=bilinear, max_size=None, antialias=True)\n",
       "               ToTensor()\n",
       "           )"
      ]
     },
     "execution_count": 16,
     "metadata": {},
     "output_type": "execute_result"
    }
   ],
   "source": [
    "dataset"
   ]
  },
  {
   "cell_type": "code",
   "execution_count": 15,
   "id": "6ceca1e6-de76-46aa-a2b4-ef2eb72e9535",
   "metadata": {},
   "outputs": [
    {
     "data": {
      "text/plain": [
       "['Albrecht_Dürer',\n",
       " 'Alfred_Sisley',\n",
       " 'Amedeo_Modigliani',\n",
       " 'Andrei_Rublev',\n",
       " 'Andy_Warhol',\n",
       " 'Camille_Pissarro',\n",
       " 'Caravaggio',\n",
       " 'Claude_Monet',\n",
       " 'Diego_Rivera',\n",
       " 'Diego_Velazquez',\n",
       " 'Edgar_Degas',\n",
       " 'Edouard_Manet',\n",
       " 'Edvard_Munch',\n",
       " 'El_Greco',\n",
       " 'Eugene_Delacroix',\n",
       " 'Francisco_Goya',\n",
       " 'Frida_Kahlo',\n",
       " 'Georges_Seurat',\n",
       " 'Giotto_di_Bondone',\n",
       " 'Gustav_Klimt',\n",
       " 'Gustave_Courbet',\n",
       " 'Henri_Matisse',\n",
       " 'Henri_Rousseau',\n",
       " 'Henri_de_Toulouse-Lautrec',\n",
       " 'Hieronymus_Bosch',\n",
       " 'Jackson_Pollock',\n",
       " 'Jan_van_Eyck',\n",
       " 'Joan_Miro',\n",
       " 'Kazimir_Malevich',\n",
       " 'Leonardo_da_Vinci',\n",
       " 'Marc_Chagall',\n",
       " 'Michelangelo',\n",
       " 'Mikhail_Vrubel',\n",
       " 'Pablo_Picasso',\n",
       " 'Paul_Cezanne',\n",
       " 'Paul_Gauguin',\n",
       " 'Paul_Klee',\n",
       " 'Peter_Paul_Rubens',\n",
       " 'Pierre-Auguste_Renoir',\n",
       " 'Piet_Mondrian',\n",
       " 'Pieter_Bruegel',\n",
       " 'Raphael',\n",
       " 'Rembrandt',\n",
       " 'Rene_Magritte',\n",
       " 'Salvador_Dali',\n",
       " 'Sandro_Botticelli',\n",
       " 'Titian',\n",
       " 'Vasiliy_Kandinskiy',\n",
       " 'Vincent_van_Gogh',\n",
       " 'William_Turner']"
      ]
     },
     "execution_count": 15,
     "metadata": {},
     "output_type": "execute_result"
    }
   ],
   "source": [
    "sorted(entry.name for entry in os.scandir(gc) if entry.is_dir())"
   ]
  }
 ],
 "metadata": {
  "kernelspec": {
   "display_name": "Python 3 (ipykernel)",
   "language": "python",
   "name": "python3"
  },
  "language_info": {
   "codemirror_mode": {
    "name": "ipython",
    "version": 3
   },
   "file_extension": ".py",
   "mimetype": "text/x-python",
   "name": "python",
   "nbconvert_exporter": "python",
   "pygments_lexer": "ipython3",
   "version": "3.10.14"
  }
 },
 "nbformat": 4,
 "nbformat_minor": 5
}
