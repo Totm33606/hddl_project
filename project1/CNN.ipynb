{
 "cells": [
  {
   "cell_type": "markdown",
   "id": "88d430bf-d898-4f88-bbec-f605ba17c476",
   "metadata": {},
   "source": [
    "# Mini-project n° 1 - Who painted this picture?"
   ]
  },
  {
   "cell_type": "code",
   "execution_count": null,
   "id": "41db2b72-c086-45ed-9334-189b92543909",
   "metadata": {},
   "outputs": [],
   "source": [
    "import PIL\n",
    "from PIL import Image\n",
    "import os, sys\n",
    "\n",
    "import math\n",
    "import numpy as np\n",
    "import pandas as pd\n",
    "import matplotlib.pyplot as plt\n",
    "%matplotlib inline\n",
    "\n",
    "import optuna\n",
    "from optuna.trial import TrialState\n",
    "\n",
    "import torch\n",
    "import torch.nn as nn\n",
    "import torch.optim as optim\n",
    "import torch.nn.functional as F\n",
    "from torch.utils.data import DataLoader, random_split, TensorDataset\n",
    "from torchvision import datasets, transforms, models\n",
    "from tqdm import tqdm\n",
    "\n",
    "from sklearn.model_selection import train_test_split"
   ]
  },
  {
   "cell_type": "code",
   "execution_count": null,
   "id": "36316d9e-2ca9-48d0-ab47-bfa0e25a9433",
   "metadata": {},
   "outputs": [],
   "source": [
    "DEVICE = torch.device(\"cuda\" if torch.cuda.is_available() else \"cpu\")\n",
    "print(DEVICE)"
   ]
  },
  {
   "cell_type": "markdown",
   "id": "52f874bd-41ef-4962-abe8-81db8d057c28",
   "metadata": {},
   "source": [
    "## Loading datas"
   ]
  },
  {
   "cell_type": "code",
   "execution_count": null,
   "id": "e49247f1-829e-447a-a27a-094e9164be49",
   "metadata": {},
   "outputs": [],
   "source": [
    "data_path = \"./art-challenge/\"\n",
    "if not os.path.isdir(data_path) or not os.listdir(data_path):\n",
    "    !git clone https://plmlab.math.cnrs.fr/chevallier-teaching/datasets/art-challenge.git\n",
    "else:\n",
    "    print(\"Data already downloaded!\")"
   ]
  },
  {
   "cell_type": "code",
   "execution_count": null,
   "id": "dc621763-aed3-4b67-b919-fc75caf1a1e1",
   "metadata": {},
   "outputs": [],
   "source": [
    "# Reading CSV\n",
    "artists = pd.read_csv(data_path + \"artists.csv\")\n",
    "artists.head()"
   ]
  },
  {
   "cell_type": "markdown",
   "id": "c4473c70-edc9-42be-941d-4ad046393770",
   "metadata": {},
   "source": [
    "## Global params"
   ]
  },
  {
   "cell_type": "code",
   "execution_count": null,
   "id": "d1c7c2c3-d39a-4c55-ab73-26b09cde18d7",
   "metadata": {},
   "outputs": [],
   "source": [
    "BATCH_SIZE = 32\n",
    "EPOCHS = 6"
   ]
  },
  {
   "cell_type": "markdown",
   "id": "3f9fc294-4296-4785-908c-43784d95318f",
   "metadata": {},
   "source": [
    "## Creating LQ images loaders"
   ]
  },
  {
   "cell_type": "code",
   "execution_count": null,
   "id": "0e1d861a-d229-4727-af05-2020b0adad6a",
   "metadata": {},
   "outputs": [],
   "source": [
    "# Loading LQ images\n",
    "images_lq_path = data_path + \"images_lq/\"\n",
    "images_filename = os.listdir(images_lq_path)\n",
    "\n",
    "list_name = []\n",
    "\n",
    "for filename in images_filename:\n",
    "    parts = filename.split('_')\n",
    "    if len(parts) > 2:\n",
    "        name_surname = f\"{parts[0]} {parts[1]}\"\n",
    "    elif len(parts) == 2:  # \"Name_xxx\" format\n",
    "        name_surname = parts[0]  # Only Name\n",
    "    list_name.append(name_surname)"
   ]
  },
  {
   "cell_type": "code",
   "execution_count": null,
   "id": "96fa61d8-90ab-44b5-b8b3-a74c8e157c57",
   "metadata": {},
   "outputs": [],
   "source": [
    "if len(images_filename) == len(list_name):\n",
    "    total_lq_df = pd.DataFrame({\n",
    "        'filename': images_filename,  # Liste des noms de fichiers\n",
    "        'artist': list_name,          # Liste des artistes pour chaque peinture\n",
    "    })\n",
    "    print(\"DataFrame created successfully!\")\n",
    "else:\n",
    "    print(\"Error: The lists have different lengths.\")"
   ]
  },
  {
   "cell_type": "code",
   "execution_count": null,
   "id": "df09f182-fc14-4abe-9155-9279568b3e7d",
   "metadata": {},
   "outputs": [],
   "source": [
    "# Prints df if previously created\n",
    "total_lq_df.head()"
   ]
  },
  {
   "cell_type": "code",
   "execution_count": null,
   "id": "8efe6e2c-84f7-4759-ab1b-40561e4687f0",
   "metadata": {},
   "outputs": [],
   "source": [
    "IMAGE_LQ_SIZE = 64\n",
    "DATASET_LQ_SIZE = len(images_filename)\n",
    "CHANNELS = 3\n",
    "\n",
    "def load_image_as_rgb_matrices(image_name):    \n",
    "    img = Image.open(images_lq_path + image_name)\n",
    "    img = img.resize((IMAGE_LQ_SIZE, IMAGE_LQ_SIZE))  \n",
    "    img = img.convert('RGB')\n",
    "    return np.array(img)\n",
    "\n",
    "x = np.zeros((DATASET_LQ_SIZE, IMAGE_LQ_SIZE, IMAGE_LQ_SIZE, CHANNELS))\n",
    "for i in range(DATASET_LQ_SIZE):\n",
    "    x[i] = load_image_as_rgb_matrices(images_filename[i])"
   ]
  },
  {
   "cell_type": "code",
   "execution_count": null,
   "id": "37a38021-7f61-447d-9d9c-9bbabd38ee72",
   "metadata": {},
   "outputs": [],
   "source": [
    "# Few plots\n",
    "number_of_plots = 3\n",
    "fig, axes = plt.subplots(nrows=1, ncols=3, figsize=(number_of_plots * 2, 2))\n",
    "\n",
    "for i in range(number_of_plots):\n",
    "    axes[i].imshow(x[i*100]/255.0)\n",
    "    axes[i].axis('off')\n",
    "    axes[i].set_title(f\"{list_name[i*100]}\")\n",
    "    \n",
    "plt.tight_layout()\n",
    "plt.show()"
   ]
  },
  {
   "cell_type": "code",
   "execution_count": null,
   "id": "7b5db7f5-7abd-4883-b7f2-3e4230fbaf74",
   "metadata": {},
   "outputs": [],
   "source": [
    "# All the artists\n",
    "classes = np.array(list(set(total_lq_df['artist'])))\n",
    "classes_as_int = np.array([np.where(classes == artist)[0][0] for artist in total_lq_df['artist']])\n",
    "\n",
    "x_train, x_test_val, y_train, y_test_val = train_test_split(\n",
    "    np.transpose(x, (0, 3, 1, 2)),  classes_as_int, test_size=0.2, random_state=42\n",
    ")\n",
    "\n",
    "x_test, x_val, y_test, y_val = train_test_split(\n",
    "    x_test_val, y_test_val, test_size=0.5, random_state=42\n",
    ")\n",
    "\n",
    "# Normalize images\n",
    "x_train, x_val, x_test = x_train / 255.0, x_val / 255.0, x_test / 255.0\n",
    "\n",
    "x_train_tensor = torch.tensor(x_train, dtype=torch.float32)\n",
    "y_train_tensor = torch.tensor(y_train, dtype=torch.long)\n",
    "\n",
    "x_val_tensor = torch.tensor(x_val, dtype=torch.float32)\n",
    "y_val_tensor = torch.tensor(y_val, dtype=torch.long)\n",
    "\n",
    "x_test_tensor = torch.tensor(x_test, dtype=torch.float32)\n",
    "y_test_tensor = torch.tensor(y_test, dtype=torch.long)\n",
    "\n",
    "train_dataset_lq = TensorDataset(x_train_tensor, y_train_tensor)\n",
    "val_dataset_lq = TensorDataset(x_val_tensor, y_val_tensor)\n",
    "test_dataset_lq = TensorDataset(x_test_tensor, y_test_tensor)\n",
    "\n",
    "train_loader_lq = DataLoader(train_dataset_lq, batch_size=BATCH_SIZE, shuffle=True)\n",
    "val_loader_lq = DataLoader(val_dataset_lq, batch_size=BATCH_SIZE, shuffle=True)\n",
    "test_loader_lq = DataLoader(test_dataset_lq, batch_size=1, shuffle=False)\n",
    "\n",
    "print(f\"Train dataset size: {len(train_dataset_lq)}\")\n",
    "print(f\"Validation dataset size: {len(val_dataset_lq)}\")\n",
    "print(f\"Test dataset size: {len(test_dataset_lq)}\")"
   ]
  },
  {
   "cell_type": "markdown",
   "id": "688b540b-feab-4acc-9e94-a618baa0b9bf",
   "metadata": {},
   "source": [
    "## Creating HQ images loaders"
   ]
  },
  {
   "cell_type": "code",
   "execution_count": null,
   "id": "75579f32-cc21-489e-bdc1-2e38e86e16a9",
   "metadata": {},
   "outputs": [],
   "source": [
    "# Loading HQ images\n",
    "IMAGE_HQ_SIZE = 150\n",
    "\n",
    "transform = transforms.Compose([\n",
    "    transforms.Resize((IMAGE_HQ_SIZE, IMAGE_HQ_SIZE)),  # Resize to 150x150\n",
    "    transforms.ToTensor(),  # Convert image to PyTorch tensor\n",
    "])\n",
    "\n",
    "gc = \"./art-challenge/images_hq\"\n",
    "dataset_hq = datasets.ImageFolder(root=gc, transform=transform)\n",
    "DATASET_HQ_SIZE = len(dataset_hq)\n",
    "dataset_hq"
   ]
  },
  {
   "cell_type": "code",
   "execution_count": null,
   "id": "2f4ff09b-291c-4629-af66-69e5bb864a34",
   "metadata": {},
   "outputs": [],
   "source": [
    "train_size = int(0.8 * DATASET_HQ_SIZE)  # 70% pour l'entraînement\n",
    "val_size = int(0.1 * DATASET_HQ_SIZE)   # 15% pour la validation\n",
    "test_size = DATASET_HQ_SIZE - train_size - val_size  # Reste pour le test\n",
    "\n",
    "train_dataset_hq, val_dataset_hq, test_dataset_hq = random_split(dataset_hq, [train_size, val_size, test_size])\n",
    "\n",
    "train_loader_hq = DataLoader(train_dataset_hq, batch_size=BATCH_SIZE, shuffle=True)\n",
    "val_loader_hq = DataLoader(val_dataset_hq, batch_size=BATCH_SIZE, shuffle=True)\n",
    "test_loader_hq = DataLoader(test_dataset_hq, batch_size=1, shuffle=False)\n",
    "\n",
    "print(f\"Train dataset size: {len(train_dataset_hq)}\")\n",
    "print(f\"Validation dataset size: {len(val_dataset_hq)}\")\n",
    "print(f\"Test dataset size: {len(test_dataset_hq)}\")"
   ]
  },
  {
   "cell_type": "markdown",
   "id": "e9dc463a-f19c-4641-be40-ceccc6be8137",
   "metadata": {},
   "source": [
    "## Training Part"
   ]
  },
  {
   "cell_type": "code",
   "execution_count": null,
   "id": "bc2b2df6-34f8-4991-af6c-3d18331b7667",
   "metadata": {},
   "outputs": [],
   "source": [
    "NUM_CLASSES = len(dataset_hq.classes) # Same value for lq dataset\n",
    "\n",
    "def get_model(name='resnet152', pretrained=True, verbose=False):\n",
    "    model = getattr(models, name)(pretrained=pretrained)\n",
    "    model.fc = nn.Linear(model.fc.in_features, num_classes)\n",
    "\n",
    "    if pretrained:\n",
    "        # We don't train the conv layers\n",
    "        for param in model.parameters():\n",
    "            param.requires_grad = False  \n",
    "        \n",
    "        # Train the fully connected layer\n",
    "        for param in model.fc.parameters():\n",
    "            param.requires_grad = True \n",
    "\n",
    "    if verbose:\n",
    "        trainable_params =  sum(p.numel() for p in model.parameters() if p.requires_grad)\n",
    "        print(f'Trainable params: {trainable_params}')\n",
    "        \n",
    "    return model"
   ]
  },
  {
   "cell_type": "code",
   "execution_count": null,
   "id": "f3cc92bc-9a9c-4219-a661-3be1aee4d969",
   "metadata": {},
   "outputs": [],
   "source": [
    "# Here we use Optuna to optimize the best hyper-params\n",
    "# Long time execution...\n",
    "# See https://github.com/optuna/optuna-examples/blob/main/pytorch/pytorch_simple.py\n",
    "def objective(trial):\n",
    "    # Define the model\n",
    "    model = get_model()\n",
    "    model = model.to(DEVICE)\n",
    "\n",
    "    # The different parameters we're trying to improve\n",
    "    optimizer_name = trial.suggest_categorical(\"optimizer\", [\"Adam\", \"SGD\"])\n",
    "    lr = trial.suggest_float(\"lr\", 1e-5, 1e-1, log=True)\n",
    "    optimizer = getattr(optim, optimizer_name)(filter(lambda p: p.requires_grad, model.parameters()), lr=lr)\n",
    "\n",
    "    # Loss\n",
    "    criterion = nn.CrossEntropyLoss()\n",
    "    \n",
    "    # Training of the model\n",
    "    for epoch in range(EPOCHS):\n",
    "        model.train()\n",
    "        for images, targets in train_loader_lq:\n",
    "            images, targets = images.to(DEVICE), targets.to(DEVICE)\n",
    "            optimizer.zero_grad()\n",
    "            outputs = model(images)\n",
    "            loss = criterion(outputs, targets)\n",
    "            loss.backward()\n",
    "            optimizer.step()\n",
    "\n",
    "        # Validation of the model\n",
    "        model.eval()\n",
    "        correct = 0\n",
    "        total = 0\n",
    "        with torch.no_grad():\n",
    "            for images, targets in val_loader_lq:\n",
    "                images, targets = images.to(DEVICE), targets.to(DEVICE)\n",
    "                outputs = model(images)\n",
    "                _, predicted = torch.max(outputs, 1)\n",
    "                total += targets.size(0)\n",
    "                correct += (predicted == targets).sum().item()\n",
    "\n",
    "        accuracy = correct / total\n",
    "\n",
    "        trial.report(accuracy, epoch)\n",
    "\n",
    "        # Handle pruning based on the intermediate value.\n",
    "        if trial.should_prune():\n",
    "            raise optuna.exceptions.TrialPruned()\n",
    "\n",
    "    return accuracy"
   ]
  },
  {
   "cell_type": "code",
   "execution_count": null,
   "id": "eeb3d6fc-1aa0-478f-9fd4-c7784505f8b2",
   "metadata": {},
   "outputs": [],
   "source": [
    "study = optuna.create_study(direction=\"maximize\")\n",
    "study.optimize(objective, n_trials=100)\n",
    "\n",
    "pruned_trials = study.get_trials(deepcopy=False, states=[TrialState.PRUNED])\n",
    "complete_trials = study.get_trials(deepcopy=False, states=[TrialState.COMPLETE])\n",
    "\n",
    "print(\"Study statistics: \")\n",
    "print(\"  Number of finished trials: \", len(study.trials))\n",
    "print(\"  Number of pruned trials: \", len(pruned_trials))\n",
    "print(\"  Number of complete trials: \", len(complete_trials))\n",
    "\n",
    "print(\"Best trial:\")\n",
    "trial = study.best_trial\n",
    "\n",
    "print(\"  Value: \", trial.value)\n",
    "\n",
    "print(\"  Params: \")\n",
    "for key, value in trial.params.items():\n",
    "    print(\"    {}: {}\".format(key, value))"
   ]
  }
 ],
 "metadata": {
  "kernelspec": {
   "display_name": "Python 3 (ipykernel)",
   "language": "python",
   "name": "python3"
  },
  "language_info": {
   "codemirror_mode": {
    "name": "ipython",
    "version": 3
   },
   "file_extension": ".py",
   "mimetype": "text/x-python",
   "name": "python",
   "nbconvert_exporter": "python",
   "pygments_lexer": "ipython3",
   "version": "3.10.13"
  }
 },
 "nbformat": 4,
 "nbformat_minor": 5
}
