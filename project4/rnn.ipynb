{
 "cells": [
  {
   "cell_type": "markdown",
   "metadata": {
    "id": "K_4GYWCBQ4RA"
   },
   "source": [
    "# Mini-projet n° 4 – **RNN, LSTM et GRU vs MLP et CNN**"
   ]
  },
  {
   "cell_type": "code",
   "execution_count": 26,
   "metadata": {
    "colab": {
     "base_uri": "https://localhost:8080/",
     "height": 426
    },
    "id": "ksaiDACTMAre",
    "outputId": "d26d1934-feab-420e-e9e0-e4b3b4cc6993"
   },
   "outputs": [],
   "source": [
    "import torch\n",
    "from torchtext.datasets import IMDB\n",
    "from torchtext.data.utils import get_tokenizer\n",
    "from torchtext.vocab import build_vocab_from_iterator\n",
    "from torch.utils.data import DataLoader, random_split\n",
    "from torch.nn.utils.rnn import pad_sequence\n",
    "from torchmetrics.classification import BinaryF1Score\n",
    "import torch.nn as nn\n",
    "import torch.nn.functional as F\n",
    "import torch.optim as optim\n",
    "from tqdm.notebook import tqdm\n",
    "import time\n",
    "import hashlib\n",
    "from transformers import DistilBertTokenizerFast, DistilBertModel\n",
    "from collections import Counter\n",
    "import matplotlib.pyplot as plt"
   ]
  },
  {
   "cell_type": "markdown",
   "metadata": {
    "id": "mPyJSGjhQ2lh"
   },
   "source": [
    "Cette section importe tous les packages et librairies nécessaires à l'exécution des cellules qui suivent.\n",
    "\n",
    "*Note : Si vous utilisez `Docker`, une image de base avec un fichier `requirements.txt` est fournie.*"
   ]
  },
  {
   "cell_type": "markdown",
   "metadata": {
    "id": "eTWy68m-Rv2S"
   },
   "source": [
    "Ici, on récupère le jeu de données [IMDB](https://ai.stanford.edu/~amaas/data/sentiment/). La partie labélisée va nous permettre de faire une étude de sentiments (positif ou négatif)."
   ]
  },
  {
   "cell_type": "code",
   "execution_count": 2,
   "metadata": {
    "id": "mOS8JAYTQiX_",
    "outputId": "df2a6a70-eb27-4d0d-a190-80809d955ad1"
   },
   "outputs": [
    {
     "name": "stdout",
     "output_type": "stream",
     "text": [
      "--2024-12-18 16:11:20--  https://nlp.stanford.edu/data/glove.6B.zip\n",
      "Resolving nlp.stanford.edu (nlp.stanford.edu)... 171.64.67.140\n",
      "Connecting to nlp.stanford.edu (nlp.stanford.edu)|171.64.67.140|:443... connected.\n",
      "HTTP request sent, awaiting response... 301 Moved Permanently\n",
      "Location: https://downloads.cs.stanford.edu/nlp/data/glove.6B.zip [following]\n",
      "--2024-12-18 16:11:21--  https://downloads.cs.stanford.edu/nlp/data/glove.6B.zip\n",
      "Resolving downloads.cs.stanford.edu (downloads.cs.stanford.edu)... 171.64.64.22\n",
      "Connecting to downloads.cs.stanford.edu (downloads.cs.stanford.edu)|171.64.64.22|:443... connected.\n",
      "HTTP request sent, awaiting response... 200 OK\n",
      "Length: 862182613 (822M) [application/zip]\n",
      "Saving to: ‘glove.6B.zip’\n",
      "\n",
      "glove.6B.zip        100%[===================>] 822.24M   381KB/s    in 37m 18s \n",
      "\n",
      "2024-12-18 16:48:40 (376 KB/s) - ‘glove.6B.zip’ saved [862182613/862182613]\n",
      "\n"
     ]
    }
   ],
   "source": [
    "# Takes a long time...\n",
    "!wget https://nlp.stanford.edu/data/glove.6B.zip\n",
    "!unzip glove.6B.zip > /dev/null 2>&1"
   ]
  },
  {
   "cell_type": "markdown",
   "metadata": {
    "id": "bKSsAg1HSaZa"
   },
   "source": [
    "Les quelques hyper-paramètres utiles pour la suite et qu'on a cherché à optimiser. On détaillera ce point un peu plus tard."
   ]
  },
  {
   "cell_type": "code",
   "execution_count": 2,
   "metadata": {
    "colab": {
     "base_uri": "https://localhost:8080/"
    },
    "id": "8wM79xFEX6yU",
    "outputId": "9a8c4881-c07d-4a69-ebca-77c552d7a372"
   },
   "outputs": [
    {
     "name": "stdout",
     "output_type": "stream",
     "text": [
      "cuda\n"
     ]
    }
   ],
   "source": [
    "# Global variables\n",
    "BATCH_SIZE = 8\n",
    "EMBEDDING_DIM = 100\n",
    "HIDDEN_DIM = 128\n",
    "OUTPUT_DIM = 1\n",
    "DROPOUT = 0.2\n",
    "NUM_LAYERS = 2\n",
    "NUM_EPOCHS = 5\n",
    "LEARNING_RATE = 1e-3\n",
    "GLOVE_PATH = \"glove.6B.100d.txt\"\n",
    "DEVICE = torch.device('cuda' if torch.cuda.is_available() else 'cpu')\n",
    "print(DEVICE)"
   ]
  },
  {
   "cell_type": "markdown",
   "metadata": {
    "id": "q8jOwUehQiYH"
   },
   "source": [
    "## **Construction du vocabulaire basique**"
   ]
  },
  {
   "cell_type": "markdown",
   "metadata": {
    "id": "MNiYR-DbS5Gy"
   },
   "source": [
    "L'intérêt de cette fonction est d'itérer sur toutes les données du jeu de `train` et de les *tokenizer* pour un `tokenizer` donné."
   ]
  },
  {
   "cell_type": "code",
   "execution_count": 3,
   "metadata": {
    "id": "CEUJ9zZxQiYL"
   },
   "outputs": [],
   "source": [
    "# Build vocab\n",
    "def yield_tokens(data_iter, tokenizer, model_name='basic'):\n",
    "    if model_name == 'basic':\n",
    "        for _, text in data_iter:\n",
    "            yield tokenizer(text)\n",
    "\n",
    "train_iter = IMDB(split='train')"
   ]
  },
  {
   "cell_type": "markdown",
   "metadata": {
    "id": "xZOefNNSTcW_"
   },
   "source": [
    "Le `tokenizer` choisi est assez basique. Il réalise quelques transformations sur nos textes anglais.\n",
    "*   Conversion en minuscules\n",
    "*   Suppression des ponctuations\n",
    "*   Découpage par espaces\n",
    "*   Conservation des mots composés\n",
    "\n",
    "Notre vocabulaire est ensuite construit et correspond à l'ensemble des `tokens` vus lors des itérations sur le jeu de `train`. On constate que nos textes d'entrainement contiennent ainsi plus de 100 000 `tokens` différents.\n",
    "\n",
    "*Note : De façon générale, les `tokens` ne correspondent ni à des mots ni à des caractères.*"
   ]
  },
  {
   "cell_type": "code",
   "execution_count": 4,
   "metadata": {
    "id": "Qt1i1uiqMKIV",
    "outputId": "4fe01434-713b-4f76-ed35-5adb60ffd1cb"
   },
   "outputs": [
    {
     "name": "stdout",
     "output_type": "stream",
     "text": [
      "Basic vocab length: 100683\n"
     ]
    }
   ],
   "source": [
    "# Load tokenizer\n",
    "basic_tokenizer = get_tokenizer(\"basic_english\")\n",
    "basic_vocab = build_vocab_from_iterator(yield_tokens(train_iter, basic_tokenizer, model_name='basic'), specials=['<unk>'])\n",
    "basic_vocab.set_default_index(basic_vocab['<unk>'])  # Default index for unknown words\n",
    "BASIC_VOCAB_SIZE = len(basic_vocab)\n",
    "BASIC_PAD_IDX = basic_vocab['<unk>'] # 0\n",
    "print(f\"Basic vocab length: {BASIC_VOCAB_SIZE}\")"
   ]
  },
  {
   "cell_type": "markdown",
   "metadata": {
    "id": "wORRPkSbQiYQ"
   },
   "source": [
    "## **Contrôle des données**"
   ]
  },
  {
   "cell_type": "markdown",
   "metadata": {
    "id": "zuCzn3BoVL9L"
   },
   "source": [
    "Pour éviter tout comportement problématique et éviter de biaiser nos modèles, on a décidé de faire une pré-analyse sur nos données. Concrétement, on vérifie que nos données sont **uniques** et que nos datasets sont **disjoints**."
   ]
  },
  {
   "cell_type": "code",
   "execution_count": 5,
   "metadata": {
    "id": "arLOXUWjO54l"
   },
   "outputs": [],
   "source": [
    "# Function for calculating a unique hash for each data item\n",
    "def hash_data(data):\n",
    "    _, text = data\n",
    "    return hashlib.md5(text.encode('utf-8')).hexdigest()\n",
    "\n",
    "# Deletes duplicates in the dataset\n",
    "def remove_duplicates(data):\n",
    "    seen = set()\n",
    "    unique_data = []\n",
    "    for item in data:\n",
    "        data_hash = hash_data(item)\n",
    "        if data_hash not in seen:\n",
    "            seen.add(data_hash)\n",
    "            unique_data.append(item)\n",
    "    return unique_data\n",
    "\n",
    "def verify_no_overlap(train_datas, val_datas, test_datas, hash_fn):\n",
    "    # Hashes calculations\n",
    "    train_hashes = set(hash_fn(data) for data in train_datas)\n",
    "    val_hashes = set(hash_fn(data) for data in val_datas)\n",
    "    test_hashes = set(hash_fn(data) for data in test_datas)\n",
    "\n",
    "    assert train_hashes.isdisjoint(val_hashes), \"Overlap between train and validation\"\n",
    "    assert train_hashes.isdisjoint(test_hashes), \"Overlap between train and test\"\n",
    "    assert val_hashes.isdisjoint(test_hashes), \"Overlap between validation and test\"\n",
    "\n",
    "    print(\"The data sets are well disjointed.\")"
   ]
  },
  {
   "cell_type": "code",
   "execution_count": 6,
   "metadata": {
    "id": "YniUwyeUQiYT",
    "outputId": "2aede8d8-922f-48b5-a6e5-cd19c46d4147"
   },
   "outputs": [
    {
     "name": "stdout",
     "output_type": "stream",
     "text": [
      "All data is unique.\n"
     ]
    }
   ],
   "source": [
    "train_iter = IMDB(split='train')\n",
    "test_iter = IMDB(split='test')\n",
    "all_data = list(train_iter) + list(test_iter)\n",
    "all_data = remove_duplicates(all_data)\n",
    "all_hashes = [hash_data(data) for data in all_data]\n",
    "\n",
    "# Check for duplicates\n",
    "if len(all_hashes) != len(set(all_hashes)):\n",
    "    print(\"Caution: Duplicate data exists!\")\n",
    "else:\n",
    "    print(\"All data is unique.\")"
   ]
  },
  {
   "cell_type": "code",
   "execution_count": 7,
   "metadata": {
    "id": "lLxH0go9QiYU",
    "outputId": "8f72cc76-2875-4578-eb02-5382ae507409"
   },
   "outputs": [
    {
     "name": "stdout",
     "output_type": "stream",
     "text": [
      "The data sets are well disjointed.\n"
     ]
    }
   ],
   "source": [
    "TRAIN_SIZE = int(0.8 * len(all_data))\n",
    "VAL_SIZE = int(0.1 * len(all_data))\n",
    "TEST_SIZE = len(all_data) - TRAIN_SIZE - VAL_SIZE\n",
    "\n",
    "train_datas, val_datas, test_datas = random_split(all_data, [TRAIN_SIZE, VAL_SIZE, TEST_SIZE])\n",
    "verify_no_overlap(train_datas, val_datas, test_datas, hash_fn=hash_data) # Useless if we called 'remove_duplicates' previously"
   ]
  },
  {
   "cell_type": "markdown",
   "metadata": {
    "id": "Fsl5s54ZWDbq"
   },
   "source": [
    "## **Analyse exploratoire**"
   ]
  },
  {
   "cell_type": "markdown",
   "metadata": {
    "id": "2cqmjPeCWMV-"
   },
   "source": [
    "### Répartition des données de `train` et de `test`"
   ]
  },
  {
   "cell_type": "code",
   "execution_count": 8,
   "metadata": {
    "id": "gfjWjS8AQiYV",
    "outputId": "7d6ea471-7c35-419f-b4ec-7fb1005dc884"
   },
   "outputs": [
    {
     "data": {
      "image/png": "[encoded data removed]",
      "text/plain": [
       "<Figure size 1400x600 with 2 Axes>"
      ]
     },
     "metadata": {},
     "output_type": "display_data"
    }
   ],
   "source": [
    "# Distribution des labels\n",
    "train_labels = [label for label, _ in train_datas]\n",
    "test_labels = [label for label, _ in test_datas]\n",
    "\n",
    "train_label_counts = Counter(train_labels)\n",
    "test_label_counts = Counter(test_labels)\n",
    "\n",
    "# Création des sous-plots\n",
    "fig, axes = plt.subplots(1, 2, figsize=(14, 6))\n",
    "\n",
    "# Répartition des labels (train)\n",
    "axes[0].bar(train_label_counts.keys(), train_label_counts.values(), color='royalblue', alpha=0.8, edgecolor='black')\n",
    "axes[0].set_title('Répartition des labels (Train)', fontsize=14)\n",
    "axes[0].set_xlabel('Labels', fontsize=12)\n",
    "axes[0].set_ylabel('Nombre', fontsize=12)\n",
    "axes[0].set_xticks(list(train_label_counts.keys()))\n",
    "axes[0].tick_params(axis='both', which='major', labelsize=10)\n",
    "for i, v in enumerate(train_label_counts.values()):\n",
    "    axes[0].text(list(train_label_counts.keys())[i], v + 0.5, str(v), ha='center', fontsize=10)\n",
    "\n",
    "# Répartition des labels (test)\n",
    "axes[1].bar(test_label_counts.keys(), test_label_counts.values(), color='darkorange', alpha=0.8, edgecolor='black')\n",
    "axes[1].set_title('Répartition des labels (Test)', fontsize=14)\n",
    "axes[1].set_xlabel('Labels', fontsize=12)\n",
    "axes[1].set_ylabel('Nombre', fontsize=12)\n",
    "axes[1].set_xticks(list(test_label_counts.keys()))\n",
    "axes[1].tick_params(axis='both', which='major', labelsize=10)\n",
    "for i, v in enumerate(test_label_counts.values()):\n",
    "    axes[1].text(list(test_label_counts.keys())[i], v + 0.5, str(v), ha='center', fontsize=10)\n",
    "\n",
    "# Ajustements finaux\n",
    "plt.tight_layout()\n",
    "plt.show()"
   ]
  },
  {
   "cell_type": "markdown",
   "metadata": {
    "id": "xdMrMj7gWVUX"
   },
   "source": [
    "Nos jeux de données possèdent donc (presque) autant de textes avec des sentiments positifs, que négatifs.\n",
    "\n",
    "*Note : Ici le 2 correspond aux textes aux sentiments positifs et 1 aux négatifs. On ramène plus tard lors de la création des `DataLoaders` les valeurs entre 1 et 0.*"
   ]
  },
  {
   "cell_type": "markdown",
   "metadata": {
    "id": "WRB930jrWyca"
   },
   "source": [
    "### Longueur des textes"
   ]
  },
  {
   "cell_type": "markdown",
   "metadata": {
    "id": "XR5ekRjIW5pD"
   },
   "source": [
    "Il est pertinent de regarder la taille des textes pour choisir plus tard un modèle. On sait que si l'information associée aux sentiments est contenue par les mots en début de texte, et que nos textes sont longs, il vaut mieux privilégier des LSTM/GRU plutôt que des RNN."
   ]
  },
  {
   "cell_type": "code",
   "execution_count": 9,
   "metadata": {
    "id": "H2Ww5rQHQiYW",
    "outputId": "83657e9a-0582-431e-9487-615ab6e1cb16"
   },
   "outputs": [
    {
     "data": {
      "image/png": "[encoded data removed]",
      "text/plain": [
       "<Figure size 1000x500 with 1 Axes>"
      ]
     },
     "metadata": {},
     "output_type": "display_data"
    }
   ],
   "source": [
    "# Fonction pour calculer la longueur des avis\n",
    "def review_lengths(data):\n",
    "    return [len(review.split()) for _, review in data]\n",
    "\n",
    "train_lengths = review_lengths(train_datas)\n",
    "test_lengths = review_lengths(test_datas)\n",
    "\n",
    "plt.figure(figsize=(10, 5))\n",
    "plt.hist(train_lengths, bins=50, alpha=0.6, label='Train', color='blue')\n",
    "plt.hist(test_lengths, bins=50, alpha=0.6, label='Test', color='orange')\n",
    "plt.title('Distribution des longueurs des avis')\n",
    "plt.xlabel('Longueur (nombre de mots)')\n",
    "plt.ylabel('Nombre')\n",
    "plt.legend()\n",
    "plt.show()"
   ]
  },
  {
   "cell_type": "markdown",
   "metadata": {
    "id": "_iQKqPbjXdXt"
   },
   "source": [
    "Sur la figure, il faut s'intéresser à la plage de valeurs en abscisse et non au nombre d'occurrences. On constate alors que les jeux de `train` et de `test` ont des textes de longueurs comparables. Ceci est une bonne nouvelle pour l'évaluation de la performance de nos modèles."
   ]
  },
  {
   "cell_type": "markdown",
   "metadata": {
    "id": "wir5cyO1ckiA"
   },
   "source": [
    "### Longueur des textes associés aux sentiments"
   ]
  },
  {
   "cell_type": "code",
   "execution_count": 10,
   "metadata": {
    "id": "hjK1_zH1QiYW",
    "outputId": "db325528-7a78-463d-ac22-1ecaff1687ed"
   },
   "outputs": [
    {
     "data": {
      "image/png": "[encoded data removed]",
      "text/plain": [
       "<Figure size 1500x500 with 2 Axes>"
      ]
     },
     "metadata": {},
     "output_type": "display_data"
    }
   ],
   "source": [
    "# Calcul des longueurs des avis positifs et négatifs dans les données d'entraînement\n",
    "pos_lengths_train = [len(review.split()) for label, review in train_datas if label == 1]\n",
    "neg_lengths_train = [len(review.split()) for label, review in train_datas if label == 2]\n",
    "\n",
    "# Calcul des longueurs des avis positifs et négatifs dans les données de test\n",
    "pos_lengths_test = [len(review.split()) for label, review in test_datas if label == 1]\n",
    "neg_lengths_test = [len(review.split()) for label, review in test_datas if label == 2]\n",
    "\n",
    "# Création des graphes côte à côte\n",
    "fig, axes = plt.subplots(1, 2, figsize=(15, 5), sharey=True)\n",
    "\n",
    "# Graphe des données d'entraînement\n",
    "axes[0].hist(pos_lengths_train, bins=50, alpha=0.8, label='Positifs', color='green')\n",
    "axes[0].hist(neg_lengths_train, bins=50, alpha=0.4, label='Négatifs', color='red')\n",
    "axes[0].set_title('Train Data: Longueur des avis')\n",
    "axes[0].set_xlabel('Longueur (nombre de mots)')\n",
    "axes[0].set_ylabel('Nombre')\n",
    "axes[0].legend()\n",
    "\n",
    "# Graphe des données de test\n",
    "axes[1].hist(pos_lengths_test, bins=50, alpha=0.8, label='Positifs', color='green')\n",
    "axes[1].hist(neg_lengths_test, bins=50, alpha=0.4, label='Négatifs', color='red')\n",
    "axes[1].set_title('Test Data: Longueur des avis')\n",
    "axes[1].set_xlabel('Longueur (nombre de mots)')\n",
    "axes[1].legend()\n",
    "\n",
    "plt.tight_layout()\n",
    "plt.show()"
   ]
  },
  {
   "cell_type": "markdown",
   "metadata": {},
   "source": [
    "Une fois encore, on constate que les avis associés aux sentiments positifs sont de longueurs environ équivalentes à celles des avis aux sentiments négatifs. On note tout de même que les avis négatifs sont globalement un peu plus courts que ceux positifs (en sachant qu'il y a environ autant d'avis positifs que négatifs). \n",
    "\n",
    "Ces différentes analyses nous autorisent à travailler avec des `loss`non pondérées selon la classe (`FocalLoss`)."
   ]
  },
  {
   "cell_type": "markdown",
   "metadata": {},
   "source": [
    "## **Création des `DataLoaders`**"
   ]
  },
  {
   "cell_type": "markdown",
   "metadata": {
    "id": "t0I6wmRqQiYX"
   },
   "source": [
    "### Basic"
   ]
  },
  {
   "cell_type": "markdown",
   "metadata": {},
   "source": [
    "Cette fonction permet de préparer nos données avant d'être utilisées pour construire nos `loaders`. Elle recentre nos labels entre 0 et 1 et fournit pour chaque texte une liste d'indices. Ces indices correspondent à ceux des `tokens` du texte en question dans le vocabulaire précédemment construit."
   ]
  },
  {
   "cell_type": "code",
   "execution_count": 11,
   "metadata": {
    "id": "Qx7rbD58QiYX"
   },
   "outputs": [],
   "source": [
    "def basic_collate_batch(batch):\n",
    "    text_list, label_list = [], []\n",
    "    for label, text in batch:\n",
    "        text_list.append(torch.tensor(basic_vocab(basic_tokenizer(text)), dtype=torch.int32))\n",
    "        label_list.append(label-1)\n",
    "    text_tensor = pad_sequence(text_list, batch_first=True, padding_value=BASIC_PAD_IDX)\n",
    "    label_tensor = torch.tensor(label_list, dtype=torch.float32)\n",
    "    return text_tensor, label_tensor"
   ]
  },
  {
   "cell_type": "code",
   "execution_count": 12,
   "metadata": {
    "id": "KHQ53NLRQiYY",
    "outputId": "c12b39d8-b91e-4c5a-b4fa-8a4943380b12"
   },
   "outputs": [
    {
     "name": "stdout",
     "output_type": "stream",
     "text": [
      "Size train loader : 39665\n",
      "Size validation loader : 4958\n",
      "Size test loader : 4959\n"
     ]
    }
   ],
   "source": [
    "basic_train_loader = DataLoader(train_datas, batch_size=BATCH_SIZE, shuffle=True, collate_fn=basic_collate_batch, drop_last=True)\n",
    "basic_val_loader = DataLoader(val_datas, batch_size=BATCH_SIZE, shuffle=True, collate_fn=basic_collate_batch, drop_last=False)\n",
    "basic_test_loader = DataLoader(test_datas, batch_size=1, shuffle=False, collate_fn=basic_collate_batch, drop_last=False)\n",
    "\n",
    "# Print loaders' sizes\n",
    "print(f\"Size train loader : {len(basic_train_loader.dataset)}\")\n",
    "print(f\"Size validation loader : {len(basic_val_loader.dataset)}\")\n",
    "print(f\"Size test loader : {len(basic_test_loader.dataset)}\")"
   ]
  },
  {
   "cell_type": "markdown",
   "metadata": {
    "id": "p3mAnhISQiYY"
   },
   "source": [
    "### Bert"
   ]
  },
  {
   "cell_type": "markdown",
   "metadata": {},
   "source": [
    "Le principe pour `Bert` est similaire à celui des cellules du dessus. Cependant, comme on utilise un `tokenizer` différent, et un vocabulaire différent, on est contraints de construire de nouveaux `DataLoaders`."
   ]
  },
  {
   "cell_type": "code",
   "execution_count": 13,
   "metadata": {
    "id": "xxo3jbDFQiYY"
   },
   "outputs": [],
   "source": [
    "bert_tokenizer = DistilBertTokenizerFast.from_pretrained('distilbert-base-uncased')\n",
    "BERT_PAD_IDX = bert_tokenizer.pad_token_id # 0\n",
    "\n",
    "def bert_collate_batch(batch):\n",
    "    text_list, label_list = [], []\n",
    "    for label, text in batch:\n",
    "        item = bert_tokenizer(text, truncation=True, return_tensors=\"pt\")  # possible ajout : padding=True\n",
    "        text_list.append(item[\"input_ids\"].squeeze(0))\n",
    "        label_list.append(label-1)\n",
    "    padded_text_ids = pad_sequence(text_list, batch_first=True, padding_value=BERT_PAD_IDX)\n",
    "    label_list = torch.tensor(label_list, dtype=torch.float32)\n",
    "    return padded_text_ids, label_list\n",
    "\n",
    "# Pour avoir le mask d'attention :\n",
    "# item[\"attention_mask\"]"
   ]
  },
  {
   "cell_type": "code",
   "execution_count": 14,
   "metadata": {
    "id": "uPU-fccQQiYZ",
    "outputId": "01370382-4684-4718-b407-32dbba06ee5a"
   },
   "outputs": [
    {
     "name": "stdout",
     "output_type": "stream",
     "text": [
      "Size train loader : 39665\n",
      "Size validation loader : 4958\n",
      "Size test loader : 4959\n"
     ]
    }
   ],
   "source": [
    "bert_train_loader = DataLoader(train_datas, batch_size=BATCH_SIZE, shuffle=True, collate_fn=bert_collate_batch, drop_last=True)\n",
    "bert_val_loader = DataLoader(val_datas, batch_size=BATCH_SIZE, shuffle=True, collate_fn=bert_collate_batch, drop_last=False)\n",
    "bert_test_loader = DataLoader(test_datas, batch_size=1, shuffle=False, collate_fn=bert_collate_batch, drop_last=False)\n",
    "\n",
    "# Print loaders' sizes\n",
    "print(f\"Size train loader : {len(bert_train_loader.dataset)}\")\n",
    "print(f\"Size validation loader : {len(bert_val_loader.dataset)}\")\n",
    "print(f\"Size test loader : {len(bert_test_loader.dataset)}\")"
   ]
  },
  {
   "cell_type": "markdown",
   "metadata": {
    "id": "79zyIaavQiYZ"
   },
   "source": [
    "## **Chargement d'embedings pré-entrainés**"
   ]
  },
  {
   "cell_type": "markdown",
   "metadata": {},
   "source": [
    "A chacun de nos `tokens`, on va faire correspondre un vecteur d'*embedings*. Il est possible pour le modèle d'apprendre ces vecteurs, ou bien encore d'en récupérer des existants. C'est ce que réalisent les deux cellules qui suivent. On récupère d'une part les *Glove embedings* et d'autre part les *Bert embedings*. Ces derniers sont à utiliser avec les `DataLoaders` correspondants."
   ]
  },
  {
   "cell_type": "markdown",
   "metadata": {
    "id": "LTXWpczsQiYZ"
   },
   "source": [
    "### Glove"
   ]
  },
  {
   "cell_type": "code",
   "execution_count": 15,
   "metadata": {
    "id": "xbr5AoyJQiYa",
    "outputId": "e0d05dc8-5bc6-4429-bc56-cb92cd4a486d"
   },
   "outputs": [
    {
     "name": "stdout",
     "output_type": "stream",
     "text": [
      "torch.Size([100683, 100])\n"
     ]
    }
   ],
   "source": [
    "def load_glove_embeddings(vocab, path=GLOVE_PATH, embedding_dim=EMBEDDING_DIM):\n",
    "    # Load GloVe embeddings into a dictionary\n",
    "    glove_embeddings = {}\n",
    "    with open(path, 'r', encoding='utf8') as f:\n",
    "        for line in f:\n",
    "            values = line.split()\n",
    "            word = values[0]\n",
    "            vector = torch.tensor([float(val) for val in values[1:embedding_dim+1]], dtype=torch.float32) # works if we choose an emb dim < 100\n",
    "            glove_embeddings[word] = vector\n",
    "\n",
    "    # Create a weights matrix for words in vocab\n",
    "    weights_matrix = torch.zeros((len(vocab), embedding_dim))\n",
    "    for word, idx in vocab.get_stoi().items():\n",
    "        if word in glove_embeddings:\n",
    "            weights_matrix[idx] = glove_embeddings[word]\n",
    "        else:\n",
    "            weights_matrix[idx] = torch.zeros(embedding_dim)\n",
    "    return weights_matrix\n",
    "\n",
    "GLOVE_EMBS = load_glove_embeddings(basic_vocab)\n",
    "print(GLOVE_EMBS.shape)"
   ]
  },
  {
   "cell_type": "markdown",
   "metadata": {
    "id": "8As8co4wQiYa"
   },
   "source": [
    "### Bert"
   ]
  },
  {
   "cell_type": "code",
   "execution_count": 16,
   "metadata": {
    "id": "pYvR1jfAQiYa",
    "outputId": "15a5da06-b450-4717-efc9-73d74ddf1ec2"
   },
   "outputs": [
    {
     "name": "stdout",
     "output_type": "stream",
     "text": [
      "torch.Size([30522, 768])\n"
     ]
    }
   ],
   "source": [
    "bert_model = DistilBertModel.from_pretrained(\"distilbert-base-uncased\")\n",
    "BERT_EMBS = bert_model.embeddings.word_embeddings.weight\n",
    "BERT_EMB_SIZE = 768\n",
    "print(BERT_EMBS.shape)"
   ]
  },
  {
   "cell_type": "markdown",
   "metadata": {
    "id": "S7yqDrglQiYb"
   },
   "source": [
    "## **Définition de nos modèles**"
   ]
  },
  {
   "cell_type": "markdown",
   "metadata": {},
   "source": [
    "### MLP"
   ]
  },
  {
   "cell_type": "code",
   "execution_count": 17,
   "metadata": {
    "id": "Gp-c1gM7QiYb"
   },
   "outputs": [],
   "source": [
    "class MLPClassifier(nn.Module):\n",
    "    def __init__(self, vocab_size=BASIC_VOCAB_SIZE, embed_size=EMBEDDING_DIM, hidden_size=HIDDEN_DIM, output_size=OUTPUT_DIM, dropout=DROPOUT, pretrained_embs=None, pretrained=False):\n",
    "        super(MLPClassifier, self).__init__()\n",
    "\n",
    "        # Embedding layer\n",
    "        if pretrained:\n",
    "            self.embedding = nn.Embedding.from_pretrained(pretrained_embs, freeze=True)\n",
    "        else:\n",
    "            self.embedding = nn.Embedding(vocab_size, embed_size)\n",
    "\n",
    "        self.fc1 = nn.Linear(embed_size, hidden_size)\n",
    "        self.fc2 = nn.Linear(hidden_size, hidden_size // 2)\n",
    "        self.fc3 = nn.Linear(hidden_size // 2, output_size)\n",
    "\n",
    "        self.dropout = nn.Dropout(dropout)\n",
    "\n",
    "        self.relu = nn.ReLU()\n",
    "        self.sigmoid = nn.Sigmoid()\n",
    "\n",
    "    def forward(self, x):\n",
    "        embedded = self.embedding(x)  # (batch_size, seq_len, embed_size)\n",
    "        x = embedded.mean(dim=1)\n",
    "\n",
    "        x = self.relu(self.fc1(x))\n",
    "        x = self.dropout(x)\n",
    "        x = self.relu(self.fc2(x))\n",
    "        x = self.dropout(x)\n",
    "        x = self.fc3(x)\n",
    "\n",
    "        return self.sigmoid(x)"
   ]
  },
  {
   "cell_type": "markdown",
   "metadata": {},
   "source": [
    "### CNN 1D"
   ]
  },
  {
   "cell_type": "code",
   "execution_count": 18,
   "metadata": {
    "id": "7A_V_MKVQiYc"
   },
   "outputs": [],
   "source": [
    "class CNN1DClassifier(nn.Module):\n",
    "    def __init__(self, vocab_size=BASIC_VOCAB_SIZE, embed_size=EMBEDDING_DIM, pretrained_embs=None, pretrained=False):\n",
    "        super(CNN1DClassifier, self).__init__()\n",
    "\n",
    "        if pretrained:\n",
    "            self.embedding = nn.Embedding.from_pretrained(pretrained_embs, freeze=True)\n",
    "        else:\n",
    "            self.embedding = nn.Embedding(vocab_size, embed_size)\n",
    "\n",
    "        self.conv1 = nn.Conv1d(in_channels=embed_size, out_channels=128, kernel_size=3, stride=1, padding=1)\n",
    "        self.conv2 = nn.Conv1d(in_channels=128, out_channels=256, kernel_size=3, stride=1, padding=1)\n",
    "        self.conv3 = nn.Conv1d(in_channels=256, out_channels=128, kernel_size=3, stride=1, padding=1)\n",
    "\n",
    "        self.fc1 = nn.Linear(128, 64)\n",
    "        self.fc2 = nn.Linear(64, 1)\n",
    "\n",
    "        self.dropout = nn.Dropout(DROPOUT)\n",
    "\n",
    "        self.relu = nn.ReLU()\n",
    "        self.sigmoid = nn.Sigmoid()\n",
    "\n",
    "    def forward(self, x):\n",
    "        embedded = self.embedding(x)  # Shape: (batch_size, seq_len, embed_size)\n",
    "        embedded = embedded.permute(0, 2, 1)  # Convert to (batch_size, embed_size, seq_len) for Conv1D\n",
    "\n",
    "        x = self.relu(self.conv1(embedded))\n",
    "        x = self.relu(self.conv2(x))\n",
    "        x = self.relu(self.conv3(x))\n",
    "\n",
    "        # Global max pooling\n",
    "        x = F.adaptive_max_pool1d(x, 1).squeeze(2)  # Shape: (batch_size, out_channels)\n",
    "\n",
    "        x = self.dropout(self.relu(self.fc1(x)))\n",
    "        x = self.fc2(x)\n",
    "\n",
    "        return self.sigmoid(x)"
   ]
  },
  {
   "cell_type": "markdown",
   "metadata": {},
   "source": [
    "### RNN"
   ]
  },
  {
   "cell_type": "code",
   "execution_count": 19,
   "metadata": {},
   "outputs": [],
   "source": [
    "class RNNClassifier(nn.Module):\n",
    "    def __init__(self, vocab_size = BASIC_VOCAB_SIZE, embed_size = EMBEDDING_DIM, hidden_size = HIDDEN_DIM, output_size = OUTPUT_DIM, num_layers=NUM_LAYERS, dropout=DROPOUT, pretrained_embs=None,\n",
    "                  pretrained=False):\n",
    "        super(RNNClassifier, self).__init__()\n",
    "\n",
    "        if pretrained:\n",
    "            self.embedding = nn.Embedding.from_pretrained(pretrained_embs, freeze=True)\n",
    "        else:\n",
    "            self.embedding = nn.Embedding(vocab_size, embed_size)\n",
    "\n",
    "        self.add_fc = False\n",
    "        if pretrained and pretrained_embs.size(1) != embed_size:\n",
    "            self.fc1 = nn.Linear(pretrained_embs.size(1), embed_size)\n",
    "            self.add_fc = True\n",
    "\n",
    "        self.rnn = nn.RNN(embed_size, hidden_size, num_layers=num_layers, dropout=dropout, batch_first=True, nonlinearity='tanh')\n",
    "        self.fc2 = nn.Linear(hidden_size, output_size)\n",
    "        self.sigmoid = nn.Sigmoid()\n",
    "\n",
    "    def forward(self, x):\n",
    "        embedded = self.embedding(x)\n",
    "        if self.add_fc:\n",
    "            embedded = self.fc1(embedded)\n",
    "\n",
    "        rnn_out, hidden = self.rnn(embedded)\n",
    "        last_hidden_state = hidden[-1]\n",
    "        output = self.fc2(last_hidden_state)\n",
    "        return self.sigmoid(output)\n"
   ]
  },
  {
   "cell_type": "markdown",
   "metadata": {},
   "source": [
    "### LSTM"
   ]
  },
  {
   "cell_type": "code",
   "execution_count": 20,
   "metadata": {},
   "outputs": [],
   "source": [
    "class LSTMClassifier(nn.Module):\n",
    "    def __init__(self, vocab_size=BASIC_VOCAB_SIZE, embed_size=EMBEDDING_DIM, hidden_size=HIDDEN_DIM,\n",
    "                 output_size=OUTPUT_DIM, dropout=DROPOUT, num_layers=NUM_LAYERS, pretrained_embs=GLOVE_EMBS, pretrained=False):\n",
    "        super(LSTMClassifier, self).__init__()\n",
    "        if pretrained:\n",
    "            self.embedding = nn.Embedding.from_pretrained(pretrained_embs, freeze=True) # To ensure weights are not trained\n",
    "        else:\n",
    "            self.embedding = nn.Embedding(vocab_size, embed_size)\n",
    "\n",
    "        self.add_fc = False\n",
    "        if pretrained and pretrained_embs.size(1) != embed_size:\n",
    "            self.fc1 = nn.Linear(pretrained_embs.size(1), embed_size)\n",
    "            self.add_fc = True\n",
    "\n",
    "        self.lstm = nn.LSTM(embed_size, hidden_size, num_layers=num_layers, dropout=dropout, batch_first=True)\n",
    "        self.fc2 = nn.Linear(hidden_size, output_size)\n",
    "        self.sigmoid = nn.Sigmoid()\n",
    "\n",
    "    def forward(self, x):\n",
    "        embedded = self.embedding(x)\n",
    "        if self.add_fc:\n",
    "            embedded = self.fc1(embedded)\n",
    "        lstm_out, (hidden, _) = self.lstm(embedded)\n",
    "        output = self.fc2(hidden[-1])\n",
    "        return self.sigmoid(output)"
   ]
  },
  {
   "cell_type": "markdown",
   "metadata": {},
   "source": [
    "### GRU"
   ]
  },
  {
   "cell_type": "code",
   "execution_count": 21,
   "metadata": {
    "id": "HeMSObJJQiYd"
   },
   "outputs": [],
   "source": [
    "class GRUClassifier(nn.Module):\n",
    "    def __init__(self, vocab_size=BASIC_VOCAB_SIZE, embed_size=EMBEDDING_DIM, hidden_size=HIDDEN_DIM,\n",
    "                 output_size=OUTPUT_DIM, dropout=DROPOUT, num_layers=NUM_LAYERS, pretrained_embs=GLOVE_EMBS, pretrained=False):\n",
    "        super(GRUClassifier, self).__init__()\n",
    "        if pretrained:\n",
    "            self.embedding = nn.Embedding.from_pretrained(pretrained_embs, freeze=True) # To ensure weights are not trained\n",
    "        else:\n",
    "            self.embedding = nn.Embedding(vocab_size, embed_size)\n",
    "\n",
    "        self.add_fc = False\n",
    "        if pretrained and pretrained_embs.size(1) != embed_size:\n",
    "            self.fc1 = nn.Linear(pretrained_embs.size(1), embed_size)\n",
    "            self.add_fc = True\n",
    "\n",
    "        self.gru = nn.GRU(embed_size, hidden_size, num_layers=num_layers,\n",
    "                          dropout=dropout, batch_first=True)\n",
    "        self.fc2 = nn.Linear(hidden_size, output_size)\n",
    "        self.sigmoid = nn.Sigmoid()\n",
    "\n",
    "    def forward(self, x):\n",
    "        embedded = self.embedding(x)\n",
    "        if self.add_fc:\n",
    "            embedded = self.fc1(embedded)\n",
    "        gru_out, _ = self.gru(embedded)\n",
    "        last_hidden_state = gru_out[:, -1, :]\n",
    "        output = self.fc2(last_hidden_state)\n",
    "        return self.sigmoid(output)"
   ]
  },
  {
   "cell_type": "markdown",
   "metadata": {
    "id": "lLX9i8FsQiYe"
   },
   "source": [
    "## **Fonctions de `test` et de `train`**"
   ]
  },
  {
   "cell_type": "code",
   "execution_count": 22,
   "metadata": {
    "id": "cYx4Wn8nVq_T"
   },
   "outputs": [],
   "source": [
    "def plot_loss(train_losses, val_losses):\n",
    "    plt.figure(figsize=(10, 6))\n",
    "    plt.plot(train_losses, label='Train Loss')\n",
    "    plt.plot(val_losses, label='Validation Loss')\n",
    "    plt.xlabel('Epochs')\n",
    "    plt.ylabel('Loss')\n",
    "    plt.title('Train vs Validation Loss')\n",
    "    plt.legend()\n",
    "    plt.grid(True)\n",
    "    plt.show()\n",
    "    \n",
    "# Train function\n",
    "def train_epoch(model, data_loader, criterion, optimizer):\n",
    "    model.train()\n",
    "    total_loss, total_acc = 0, 0\n",
    "    size_loader = 0\n",
    "    f1_metric = BinaryF1Score().to(DEVICE)\n",
    "    for text, labels in tqdm(data_loader):\n",
    "        text, labels = text.to(DEVICE), labels.to(DEVICE)\n",
    "        optimizer.zero_grad()\n",
    "        output = model(text).squeeze(dim=1) # could use .squeeze() if drop_last=True\n",
    "        loss = criterion(output, labels)\n",
    "        loss.backward()\n",
    "        optimizer.step()\n",
    "\n",
    "        # Metrics part\n",
    "        total_loss += loss.item()\n",
    "        preds = (output >= 0.5)\n",
    "        total_acc += (preds == labels).sum().item()\n",
    "        f1_metric.update(preds, labels)\n",
    "        size_loader += labels.size(0)\n",
    "\n",
    "    f1 = f1_metric.compute()\n",
    "    f1_metric.reset()\n",
    "    return total_loss / size_loader, total_acc / size_loader, f1\n",
    "\n",
    "# Test function\n",
    "def evaluate(model, data_loader, criterion):\n",
    "    model.eval()\n",
    "    total_loss, total_acc = 0, 0\n",
    "    size_loader = 0\n",
    "    f1_metric = BinaryF1Score().to(DEVICE)\n",
    "    with torch.no_grad():\n",
    "        for text, labels in tqdm(data_loader):\n",
    "            text, labels = text.to(DEVICE), labels.to(DEVICE)\n",
    "            output = model(text).squeeze(dim=1)\n",
    "            loss = criterion(output, labels)\n",
    "\n",
    "            # Metrics part\n",
    "            total_loss += loss.item()\n",
    "            preds = (output >= 0.5)\n",
    "            total_acc += (preds == labels).sum().item()\n",
    "            f1_metric.update(preds, labels)\n",
    "            size_loader += labels.size(0)\n",
    "\n",
    "    f1 = f1_metric.compute()\n",
    "    f1_metric.reset()\n",
    "    return total_loss / size_loader, total_acc / size_loader, f1\n",
    "\n",
    "def count_trainable_parameters(model):\n",
    "    return sum(p.numel() for p in model.parameters() if p.requires_grad)"
   ]
  },
  {
   "cell_type": "markdown",
   "metadata": {
    "id": "6TgkSaQpQiYe"
   },
   "source": [
    "## **MLP**"
   ]
  },
  {
   "cell_type": "markdown",
   "metadata": {
    "id": "VPHd71I9QiYf"
   },
   "source": [
    "### Basic"
   ]
  },
  {
   "cell_type": "code",
   "execution_count": 23,
   "metadata": {
    "colab": {
     "referenced_widgets": [
      "947e7ecf085b4957bacc8b1714c068ef",
      "04e30bc5d3f94093a97d4416296c318a",
      "2148ba50917643889ff4716d99b6a2c0",
      "3f343ff2f8c84221a57a3a0325e40d3c",
      "d67ff776aa6449c19f79e08400f2eeef",
      "09419ae650cc41cca89b0045d0092e83",
      "44f0ecf5c7e74cc3806a60c1810da09f",
      "84005709f1b84c66ad7625de4f4be716",
      "fce203cd712f49e99baa68b21e6ef1ff",
      "e250f24106434cde8fd7edc25ff7263a"
     ]
    },
    "id": "nmcZGvvuQiYf",
    "outputId": "ea96c06c-ca45-4c60-d303-45b3c2351298"
   },
   "outputs": [
    {
     "name": "stdout",
     "output_type": "stream",
     "text": [
      "Number of trainable params: 10089549\n"
     ]
    },
    {
     "data": {
      "application/vnd.jupyter.widget-view+json": {
       "model_id": "afcce4ea05b0437496e689a4a5975600",
       "version_major": 2,
       "version_minor": 0
      },
      "text/plain": [
       "  0%|          | 0/4958 [00:00<?, ?it/s]"
      ]
     },
     "metadata": {},
     "output_type": "display_data"
    },
    {
     "data": {
      "application/vnd.jupyter.widget-view+json": {
       "model_id": "f45bfda4de73460b8cc3af82263f4e75",
       "version_major": 2,
       "version_minor": 0
      },
      "text/plain": [
       "  0%|          | 0/620 [00:00<?, ?it/s]"
      ]
     },
     "metadata": {},
     "output_type": "display_data"
    },
    {
     "name": "stdout",
     "output_type": "stream",
     "text": [
      "Epoch: 1/5 | Train Loss: 0.4771 | Train Acc: 0.7464 | Train F1: 0.7556 | Val Loss: 0.4566 | Val Acc: 0.7775 | Val F1: 0.8124 | Time: 33.22s\n"
     ]
    },
    {
     "data": {
      "application/vnd.jupyter.widget-view+json": {
       "model_id": "ea4d62cd4de14bdf9e87403604f07557",
       "version_major": 2,
       "version_minor": 0
      },
      "text/plain": [
       "  0%|          | 0/4958 [00:00<?, ?it/s]"
      ]
     },
     "metadata": {},
     "output_type": "display_data"
    },
    {
     "data": {
      "application/vnd.jupyter.widget-view+json": {
       "model_id": "3351c4ecfa144905b8988861bf8965be",
       "version_major": 2,
       "version_minor": 0
      },
      "text/plain": [
       "  0%|          | 0/620 [00:00<?, ?it/s]"
      ]
     },
     "metadata": {},
     "output_type": "display_data"
    },
    {
     "name": "stdout",
     "output_type": "stream",
     "text": [
      "Epoch: 2/5 | Train Loss: 0.2808 | Train Acc: 0.8865 | Train F1: 0.8873 | Val Loss: 0.3190 | Val Acc: 0.8594 | Val F1: 0.8713 | Time: 35.01s\n"
     ]
    },
    {
     "data": {
      "application/vnd.jupyter.widget-view+json": {
       "model_id": "c59f04414f994faaac6293735b6ee723",
       "version_major": 2,
       "version_minor": 0
      },
      "text/plain": [
       "  0%|          | 0/4958 [00:00<?, ?it/s]"
      ]
     },
     "metadata": {},
     "output_type": "display_data"
    },
    {
     "data": {
      "application/vnd.jupyter.widget-view+json": {
       "model_id": "24366f7a59e04359948982b9f7cc6008",
       "version_major": 2,
       "version_minor": 0
      },
      "text/plain": [
       "  0%|          | 0/620 [00:00<?, ?it/s]"
      ]
     },
     "metadata": {},
     "output_type": "display_data"
    },
    {
     "name": "stdout",
     "output_type": "stream",
     "text": [
      "Epoch: 3/5 | Train Loss: 0.2228 | Train Acc: 0.9126 | Train F1: 0.9132 | Val Loss: 0.2537 | Val Acc: 0.8994 | Val F1: 0.9026 | Time: 36.52s\n"
     ]
    },
    {
     "data": {
      "application/vnd.jupyter.widget-view+json": {
       "model_id": "6763201169114640844a3d9c1479094a",
       "version_major": 2,
       "version_minor": 0
      },
      "text/plain": [
       "  0%|          | 0/4958 [00:00<?, ?it/s]"
      ]
     },
     "metadata": {},
     "output_type": "display_data"
    },
    {
     "data": {
      "application/vnd.jupyter.widget-view+json": {
       "model_id": "d4537deb560849ecb397af03ccd6ecf9",
       "version_major": 2,
       "version_minor": 0
      },
      "text/plain": [
       "  0%|          | 0/620 [00:00<?, ?it/s]"
      ]
     },
     "metadata": {},
     "output_type": "display_data"
    },
    {
     "name": "stdout",
     "output_type": "stream",
     "text": [
      "Epoch: 4/5 | Train Loss: 0.1806 | Train Acc: 0.9332 | Train F1: 0.9336 | Val Loss: 0.2667 | Val Acc: 0.8996 | Val F1: 0.8983 | Time: 35.09s\n"
     ]
    },
    {
     "data": {
      "application/vnd.jupyter.widget-view+json": {
       "model_id": "84fe6f3372b244a1b092eade25f088cd",
       "version_major": 2,
       "version_minor": 0
      },
      "text/plain": [
       "  0%|          | 0/4958 [00:00<?, ?it/s]"
      ]
     },
     "metadata": {},
     "output_type": "display_data"
    },
    {
     "data": {
      "application/vnd.jupyter.widget-view+json": {
       "model_id": "1ffb64a977514993b2ba614a81e56c68",
       "version_major": 2,
       "version_minor": 0
      },
      "text/plain": [
       "  0%|          | 0/620 [00:00<?, ?it/s]"
      ]
     },
     "metadata": {},
     "output_type": "display_data"
    },
    {
     "name": "stdout",
     "output_type": "stream",
     "text": [
      "Epoch: 5/5 | Train Loss: 0.1512 | Train Acc: 0.9447 | Train F1: 0.9450 | Val Loss: 0.2905 | Val Acc: 0.8907 | Val F1: 0.8960 | Time: 35.19s\n"
     ]
    },
    {
     "data": {
      "image/png": "[encoded data removed]",
      "text/plain": [
       "<Figure size 1000x600 with 1 Axes>"
      ]
     },
     "metadata": {},
     "output_type": "display_data"
    }
   ],
   "source": [
    "model_mlp = MLPClassifier(pretrained=False)\n",
    "model_mlp.to(DEVICE)\n",
    "criterion = nn.BCELoss(reduction='sum')\n",
    "optimizer = optim.Adam(model_mlp.parameters(), lr=LEARNING_RATE)\n",
    "print(f\"Number of trainable params: {count_trainable_parameters(model_mlp)}\")\n",
    "train_losses = []\n",
    "val_losses = []\n",
    "for epoch in range(NUM_EPOCHS):\n",
    "    start_time = time.time()\n",
    "    train_loss, train_acc, train_f1 = train_epoch(model_mlp, basic_train_loader, criterion, optimizer)\n",
    "    train_losses.append(train_loss)\n",
    "    val_loss, val_acc, val_f1 = evaluate(model_mlp, basic_val_loader, criterion)\n",
    "    val_losses.append(val_loss)\n",
    "    end_time = time.time()\n",
    "\n",
    "    print(f\"Epoch: {epoch+1}/{NUM_EPOCHS} | Train Loss: {train_loss:.4f} | Train Acc: {train_acc:.4f} | \"\n",
    "          f\"Train F1: {train_f1:.4f} | Val Loss: {val_loss:.4f} | Val Acc: {val_acc:.4f} | Val F1: {val_f1:.4f} | Time: {end_time-start_time:.2f}s\")\n",
    "plot_loss(train_losses, val_losses)"
   ]
  },
  {
   "cell_type": "code",
   "execution_count": 24,
   "metadata": {
    "colab": {
     "referenced_widgets": [
      "0f4fcefe63e04540a7408ce22fae1056"
     ]
    },
    "id": "Hm3U4rjYQiYf",
    "outputId": "5eb9074b-0c90-432d-d194-0d064c404fbe"
   },
   "outputs": [
    {
     "data": {
      "application/vnd.jupyter.widget-view+json": {
       "model_id": "373b277676424bc3976201275f25a51b",
       "version_major": 2,
       "version_minor": 0
      },
      "text/plain": [
       "  0%|          | 0/4959 [00:00<?, ?it/s]"
      ]
     },
     "metadata": {},
     "output_type": "display_data"
    },
    {
     "name": "stdout",
     "output_type": "stream",
     "text": [
      "Ensemble Model - Loss: 0.4393, Accuracy: 0.9103, F1 Score: 0.9148\n"
     ]
    }
   ],
   "source": [
    "test_loss, test_acc_mlp, test_f1_mlp = evaluate(model_mlp, basic_test_loader, criterion)\n",
    "print(f\"Ensemble Model - Loss: {test_loss:.4f}, Accuracy: {test_acc_mlp:.4f}, F1 Score: {test_f1_mlp:.4f}\")"
   ]
  },
  {
   "cell_type": "markdown",
   "metadata": {
    "id": "kQ04yvFOQiYg"
   },
   "source": [
    "## CNN 1D"
   ]
  },
  {
   "cell_type": "markdown",
   "metadata": {
    "id": "883uOBeuQiYg"
   },
   "source": [
    "### Basic"
   ]
  },
  {
   "cell_type": "code",
   "execution_count": 33,
   "metadata": {
    "colab": {
     "referenced_widgets": [
      "fae6022899504baa9652251dd18db122",
      "755bc7bd1f4c4a2b99502ea673aace79",
      "882e85b30a434878a81f19f8f3fc701e",
      "458d66190e814aae891a81dd4b5560e8",
      "65ab2fe963f549c6a317f9588221cd03",
      "1c455fe6a3db4829b254e0d680827fbd",
      "fcd63f18b3984b5a9455cd3fa4d84f42",
      "1148115ef6ec4c56b99b1170275df036",
      "2b5d826176d645549ee8df228f798014",
      "0ad8825e4443476bb59a119335e4df61"
     ]
    },
    "id": "lpyYPW3AQiYg",
    "outputId": "e9039c14-a922-46c6-8810-3b15c8d7518e"
   },
   "outputs": [
    {
     "name": "stdout",
     "output_type": "stream",
     "text": [
      "Number of trainable params: 10312141\n"
     ]
    },
    {
     "data": {
      "application/vnd.jupyter.widget-view+json": {
       "model_id": "f34069c35df2444ca199ad580ab19553",
       "version_major": 2,
       "version_minor": 0
      },
      "text/plain": [
       "  0%|          | 0/4958 [00:00<?, ?it/s]"
      ]
     },
     "metadata": {},
     "output_type": "display_data"
    },
    {
     "data": {
      "application/vnd.jupyter.widget-view+json": {
       "model_id": "14063856037346d7b947166fe63c3331",
       "version_major": 2,
       "version_minor": 0
      },
      "text/plain": [
       "  0%|          | 0/620 [00:00<?, ?it/s]"
      ]
     },
     "metadata": {},
     "output_type": "display_data"
    },
    {
     "name": "stdout",
     "output_type": "stream",
     "text": [
      "Epoch: 1/3 | Train Loss: 0.4893 | Train Acc: 0.7478 | Train F1: 0.7572 | Val Loss: 0.3428 | Val Acc: 0.8479 | Val F1: 0.8479 | Time: 71.73s\n"
     ]
    },
    {
     "data": {
      "application/vnd.jupyter.widget-view+json": {
       "model_id": "c5835a9e46fb47ab8690ee47d1a3d516",
       "version_major": 2,
       "version_minor": 0
      },
      "text/plain": [
       "  0%|          | 0/4958 [00:00<?, ?it/s]"
      ]
     },
     "metadata": {},
     "output_type": "display_data"
    },
    {
     "data": {
      "application/vnd.jupyter.widget-view+json": {
       "model_id": "a18c5c6e2b964abcb041c70a36d9fc51",
       "version_major": 2,
       "version_minor": 0
      },
      "text/plain": [
       "  0%|          | 0/620 [00:00<?, ?it/s]"
      ]
     },
     "metadata": {},
     "output_type": "display_data"
    },
    {
     "name": "stdout",
     "output_type": "stream",
     "text": [
      "Epoch: 2/3 | Train Loss: 0.2930 | Train Acc: 0.8780 | Train F1: 0.8792 | Val Loss: 0.3315 | Val Acc: 0.8590 | Val F1: 0.8711 | Time: 65.26s\n"
     ]
    },
    {
     "data": {
      "application/vnd.jupyter.widget-view+json": {
       "model_id": "6c9fb56093384c379a3e2abaaddfa4d1",
       "version_major": 2,
       "version_minor": 0
      },
      "text/plain": [
       "  0%|          | 0/4958 [00:00<?, ?it/s]"
      ]
     },
     "metadata": {},
     "output_type": "display_data"
    },
    {
     "data": {
      "application/vnd.jupyter.widget-view+json": {
       "model_id": "5163052f4aae4a0bac5d1b1f8352d5f4",
       "version_major": 2,
       "version_minor": 0
      },
      "text/plain": [
       "  0%|          | 0/620 [00:00<?, ?it/s]"
      ]
     },
     "metadata": {},
     "output_type": "display_data"
    },
    {
     "name": "stdout",
     "output_type": "stream",
     "text": [
      "Epoch: 3/3 | Train Loss: 0.2083 | Train Acc: 0.9197 | Train F1: 0.9201 | Val Loss: 0.2735 | Val Acc: 0.8901 | Val F1: 0.8884 | Time: 65.15s\n"
     ]
    },
    {
     "data": {
      "image/png": "[encoded data removed]",
      "text/plain": [
       "<Figure size 1000x600 with 1 Axes>"
      ]
     },
     "metadata": {},
     "output_type": "display_data"
    }
   ],
   "source": [
    "model_cnn = CNN1DClassifier(pretrained=False)\n",
    "model_cnn.to(DEVICE)\n",
    "criterion = nn.BCELoss(reduction='sum')\n",
    "optimizer = optim.Adam(model_cnn.parameters(), lr=LEARNING_RATE)\n",
    "print(f\"Number of trainable params: {count_trainable_parameters(model_cnn)}\")\n",
    "train_losses = []\n",
    "val_losses = []\n",
    "epochs = 3\n",
    "for epoch in range(epochs):\n",
    "    start_time = time.time()\n",
    "    train_loss, train_acc, train_f1 = train_epoch(model_cnn, basic_train_loader, criterion, optimizer)\n",
    "    train_losses.append(train_loss)\n",
    "    val_loss, val_acc, val_f1 = evaluate(model_cnn, basic_val_loader, criterion)\n",
    "    val_losses.append(val_loss)\n",
    "    end_time = time.time()\n",
    "\n",
    "    print(f\"Epoch: {epoch+1}/{epochs} | Train Loss: {train_loss:.4f} | Train Acc: {train_acc:.4f} | \"\n",
    "          f\"Train F1: {train_f1:.4f} | Val Loss: {val_loss:.4f} | Val Acc: {val_acc:.4f} | Val F1: {val_f1:.4f} | Time: {end_time-start_time:.2f}s\")\n",
    "plot_loss(train_losses, val_losses)"
   ]
  },
  {
   "cell_type": "code",
   "execution_count": 34,
   "metadata": {
    "colab": {
     "referenced_widgets": [
      "c86916898aa64baaa1c9891e8cdfd02b"
     ]
    },
    "id": "K1JxAZxAQiYg",
    "outputId": "ccb48a32-8375-4ab5-c0bc-fa1a5091023e"
   },
   "outputs": [
    {
     "data": {
      "application/vnd.jupyter.widget-view+json": {
       "model_id": "da350bc57e1d4f16ba5273f8492394ce",
       "version_major": 2,
       "version_minor": 0
      },
      "text/plain": [
       "  0%|          | 0/4959 [00:00<?, ?it/s]"
      ]
     },
     "metadata": {},
     "output_type": "display_data"
    },
    {
     "name": "stdout",
     "output_type": "stream",
     "text": [
      "Ensemble Model - Loss: 0.2574, Accuracy: 0.8941, F1 Score: 0.8945\n"
     ]
    }
   ],
   "source": [
    "test_loss, test_acc_cnn, test_f1_cnn = evaluate(model_cnn, basic_test_loader, criterion)\n",
    "print(f\"Ensemble Model - Loss: {test_loss:.4f}, Accuracy: {test_acc_cnn:.4f}, F1 Score: {test_f1_cnn:.4f}\")"
   ]
  },
  {
   "cell_type": "markdown",
   "metadata": {
    "id": "idLnOLEJQiYh"
   },
   "source": [
    "## RNN"
   ]
  },
  {
   "cell_type": "markdown",
   "metadata": {
    "id": "31LxZ7IxQiYh"
   },
   "source": [
    "### Basic"
   ]
  },
  {
   "cell_type": "code",
   "execution_count": 37,
   "metadata": {
    "colab": {
     "referenced_widgets": [
      "e06f8785df2a4ef988025dcb1d5e4421",
      "40e2fd2db7d049c1b62b1d62109ab6cc",
      "7eac1470bb8f40a2bef80d5d3801e2c5",
      "0ded53e8cb0e4565b2f132ba3860c396",
      "abd451f9891247aca25a6375763018c6",
      "77e6338d4fb147959802772245a3655f",
      "c040b9d815434161b754894f4e6be37f",
      "630257eb9a434e9eb5477303728a08d4",
      "ca5da08f80c4447b8441e513875a7f12",
      "1f495063bf9b40f9b7f7e8f5b731e79e"
     ]
    },
    "id": "r30lpyXnQiYh",
    "outputId": "9525b1b4-40fc-4708-aabc-fdfba9f5f173"
   },
   "outputs": [
    {
     "name": "stdout",
     "output_type": "stream",
     "text": [
      "Number of trainable params: 10130893\n"
     ]
    },
    {
     "data": {
      "application/vnd.jupyter.widget-view+json": {
       "model_id": "4ab5cab93037473aa70dbe4551728526",
       "version_major": 2,
       "version_minor": 0
      },
      "text/plain": [
       "  0%|          | 0/4958 [00:00<?, ?it/s]"
      ]
     },
     "metadata": {},
     "output_type": "display_data"
    },
    {
     "data": {
      "application/vnd.jupyter.widget-view+json": {
       "model_id": "d61a83cd239e4019bf95c5f811920eb5",
       "version_major": 2,
       "version_minor": 0
      },
      "text/plain": [
       "  0%|          | 0/620 [00:00<?, ?it/s]"
      ]
     },
     "metadata": {},
     "output_type": "display_data"
    },
    {
     "name": "stdout",
     "output_type": "stream",
     "text": [
      "Epoch: 1/1 | Train Loss: 0.6981 | Train Acc: 0.5034 | Train F1: 0.5049 | Val Loss: 0.6934 | Val Acc: 0.4988 | Val F1: 0.6644 | Time: 45.20s\n"
     ]
    },
    {
     "data": {
      "image/png": "[encoded data removed]",
      "text/plain": [
       "<Figure size 1000x600 with 1 Axes>"
      ]
     },
     "metadata": {},
     "output_type": "display_data"
    }
   ],
   "source": [
    "model_rnn = RNNClassifier(pretrained=False)\n",
    "model_rnn.to(DEVICE)\n",
    "criterion = nn.BCELoss(reduction='sum')\n",
    "optimizer = optim.Adam(model_rnn.parameters(), lr=LEARNING_RATE)\n",
    "print(f\"Number of trainable params: {count_trainable_parameters(model_rnn)}\")\n",
    "train_losses = []\n",
    "val_losses = []\n",
    "epochs = 1\n",
    "for epoch in range(epochs):\n",
    "    start_time = time.time()\n",
    "    train_loss, train_acc, train_f1 = train_epoch(model_rnn, basic_train_loader, criterion, optimizer)\n",
    "    train_losses.append(train_loss)\n",
    "    val_loss, val_acc, val_f1 = evaluate(model_rnn, basic_val_loader, criterion)\n",
    "    val_losses.append(val_loss)\n",
    "    end_time = time.time()\n",
    "\n",
    "    print(f\"Epoch: {epoch+1}/{epochs} | Train Loss: {train_loss:.4f} | Train Acc: {train_acc:.4f} | \"\n",
    "          f\"Train F1: {train_f1:.4f} | Val Loss: {val_loss:.4f} | Val Acc: {val_acc:.4f} | Val F1: {val_f1:.4f} | Time: {end_time-start_time:.2f}s\")\n",
    "plot_loss(train_losses, val_losses)"
   ]
  },
  {
   "cell_type": "code",
   "execution_count": 38,
   "metadata": {
    "colab": {
     "referenced_widgets": [
      "a3747c180a2243a0b1e34508e66fa9ee"
     ]
    },
    "id": "o9PTCEdPQiYi",
    "outputId": "a0536bc3-78c3-4dbe-a7b5-707b5b260614"
   },
   "outputs": [
    {
     "data": {
      "application/vnd.jupyter.widget-view+json": {
       "model_id": "a05f10ddf2fb4ffc83fcf8fb5ae65684",
       "version_major": 2,
       "version_minor": 0
      },
      "text/plain": [
       "  0%|          | 0/4959 [00:00<?, ?it/s]"
      ]
     },
     "metadata": {},
     "output_type": "display_data"
    },
    {
     "name": "stdout",
     "output_type": "stream",
     "text": [
      "Ensemble Model - Loss: 0.6930, Accuracy: 0.5090, F1 Score: 0.6580\n"
     ]
    }
   ],
   "source": [
    "test_loss, test_acc_rnn, test_f1_rnn = evaluate(model_rnn, basic_test_loader, criterion)\n",
    "print(f\"Ensemble Model - Loss: {test_loss:.4f}, Accuracy: {test_acc_rnn:.4f}, F1 Score: {test_f1_rnn:.4f}\")"
   ]
  },
  {
   "cell_type": "markdown",
   "metadata": {
    "id": "7p-b2YHIQiYi"
   },
   "source": [
    "### Bert"
   ]
  },
  {
   "cell_type": "code",
   "execution_count": 41,
   "metadata": {
    "id": "zobo7Y0mQiYi"
   },
   "outputs": [
    {
     "name": "stdout",
     "output_type": "stream",
     "text": [
      "Number of trainable params: 148097\n"
     ]
    },
    {
     "data": {
      "application/vnd.jupyter.widget-view+json": {
       "model_id": "588a0e7c128b42e7ac7e7525aff82474",
       "version_major": 2,
       "version_minor": 0
      },
      "text/plain": [
       "  0%|          | 0/4958 [00:00<?, ?it/s]"
      ]
     },
     "metadata": {},
     "output_type": "display_data"
    },
    {
     "data": {
      "application/vnd.jupyter.widget-view+json": {
       "model_id": "263e4b09d5264ee6ac13e384d4e74fc8",
       "version_major": 2,
       "version_minor": 0
      },
      "text/plain": [
       "  0%|          | 0/620 [00:00<?, ?it/s]"
      ]
     },
     "metadata": {},
     "output_type": "display_data"
    },
    {
     "name": "stdout",
     "output_type": "stream",
     "text": [
      "Epoch: 1/1 | Train Loss: 0.6982 | Train Acc: 0.5036 | Train F1: 0.5035 | Val Loss: 0.7404 | Val Acc: 0.4994 | Val F1: 0.6661 | Time: 68.45s\n"
     ]
    }
   ],
   "source": [
    "model = RNNClassifier(pretrained=True, pretrained_embs=BERT_EMBS, embed_size=BERT_EMB_SIZE)\n",
    "model.to(DEVICE)\n",
    "criterion = nn.BCELoss(reduction='sum')\n",
    "optimizer = optim.AdamW(model.parameters(), lr=LEARNING_RATE)\n",
    "print(f\"Number of trainable params: {count_trainable_parameters(model)}\")\n",
    "\n",
    "epochs = 1\n",
    "for epoch in range(epochs):\n",
    "    start_time = time.time()\n",
    "    train_loss, train_acc, train_f1 = train_epoch(model, bert_train_loader, criterion, optimizer)\n",
    "    val_loss, val_acc, val_f1 = evaluate(model, bert_val_loader, criterion)\n",
    "    end_time = time.time()\n",
    "\n",
    "    print(f\"Epoch: {epoch+1}/{epochs} | Train Loss: {train_loss:.4f} | Train Acc: {train_acc:.4f} | \"\n",
    "          f\"Train F1: {train_f1:.4f} | Val Loss: {val_loss:.4f} | Val Acc: {val_acc:.4f} | Val F1: {val_f1:.4f} | Time: {end_time-start_time:.2f}s\")"
   ]
  },
  {
   "cell_type": "markdown",
   "metadata": {
    "id": "5Zb315r1QiYi"
   },
   "source": [
    "## LSTM"
   ]
  },
  {
   "cell_type": "markdown",
   "metadata": {
    "id": "et_OB41HQiYj"
   },
   "source": [
    "### Basic"
   ]
  },
  {
   "cell_type": "code",
   "execution_count": 44,
   "metadata": {
    "colab": {
     "base_uri": "https://localhost:8080/",
     "height": 560,
     "referenced_widgets": [
      "75ce53d9eab14307b847ea543ad02883",
      "9e04b4502bd342c182124833dcc37eba",
      "5e12996719cd48b2bd828a56291ee2af",
      "5393d99a1286484596cfc926f6ae74af",
      "93409cc4f1e64dabaf7767ada5a5223c",
      "39afc41adf7f468198a71d1b25b999e7",
      "65fc0bbcfd3742e9bee79302d7a1277b",
      "d2d640f1a3484b39a92bd6dcb04bdef3",
      "2b9e55fdbc3c4e189fdc1c2198b9170f",
      "c8505e0d5a1940a28fac9958200b175f",
      "24044f0067244e6489b030f050d82f89",
      "c63f54708c4041a6ab3e32a99479a6a2",
      "ec9a0656fb174c8ba6955fdb9b06c493",
      "6246b0199ac745948b1f2f0da66b4521",
      "351c71d027d94e54a0f7c58be36c0765",
      "28bfbf6fa2444908a4b0bb32ecbe83eb",
      "8dd6434056d348a787186b14cd6a6056",
      "b2f496cf22bd41faae80497b752ec52f",
      "1d867171d1d14a518209fa005402793e",
      "b53acba2cef1446a899ca39d73941326",
      "a6e02e6954234a23b6e599921ca68f57",
      "70551c31ee274ed786115597cf282eb7",
      "e6609fcd7fab4f4dbdc52b710bc3b1d8",
      "75ccb9f733384271bc2f1ceee0b514fa",
      "4ddced00f5ab4feaaa806d4323bcb04f",
      "b42f4f726d8f49818071c76f7a1e03fe",
      "53c774499b4c42599d5142c21bd35e13",
      "b5bfdb1aaca947f3b512781b9380e366",
      "0e3c34a19a694c25993835ca94c3eca0",
      "8958f47c79b54c3baa9a7adb3ca653fc",
      "cf94d3505310473a8a209fb9ca77a93b",
      "96d25979448e47359c492d4b93ede575",
      "79b1107b81a34366ada25e817bb8b2ea",
      "7fdd2d04f66844c983e917d47cd567ac",
      "bcc45e669fcb4100b271a0e38f4b7763",
      "0a9277f3f1de4a4b9893be39307ddef3",
      "de63f8c13c8f45bbb4fb999f2e2a2c6e",
      "e60405459ef845489bda83986cf2f0cf",
      "733ea58f9e7747f6b204b41996ec6aba",
      "21015f982bff4e50a9db9efe0712b716",
      "9066e72a3ceb4658b6ad21471ce0fc8d",
      "a2a68afdb79546c8a823ff994ca49028",
      "a890170804dc4131852c258bd75d19d1",
      "a66897ac3072471499f4645eaf4fb96a",
      "b8c26f5691874d0cb870ed6cdea7d8ed",
      "85023ff0857c401fb6818da19c8738a6",
      "d86456fffa164669907b3d0274f013da",
      "34a47d9727384f4a90dc577cd079268c",
      "1d9c697c7b4c4404b2e85a4f11784bdf",
      "3858018a54cd4ea8ba2e504fc54111ab",
      "e6fb120e91944e588ea288f312f4e545",
      "a7f6d2c855914634917519ccd3cfbcc8",
      "658826963613491187866af607456a6f",
      "01e740d8852a467e98d4ff215779173d",
      "24e52bb8dc734827b3581d8fa2472703",
      "d41062412ba748b5b6a67e28b6f0a22b",
      "745d0af366474e3e8f7ef2e9939b3648",
      "57f77aa360184ed28b4ad8e71a71d808",
      "b28ad891b7c94e70869f32493a77a800",
      "5ff99bb8bb124168b9380f680ab740e8",
      "0b56e86a8a70475599df69c1e5801749",
      "2c6bf7295591459e849d222d430e5a04",
      "8e2bffb00ffa4820a6ac54185819dbec",
      "db960f7c6ee241148ba0520362b91a6b",
      "d9b409636f824690804f3947d1e4343b"
     ]
    },
    "id": "hWzKexYyWuvD",
    "outputId": "f910b519-a132-47e6-f535-5ac16eaf1b93"
   },
   "outputs": [
    {
     "name": "stdout",
     "output_type": "stream",
     "text": [
      "Number of trainable params: 10318285\n"
     ]
    },
    {
     "data": {
      "application/vnd.jupyter.widget-view+json": {
       "model_id": "d073484b2cbe40329376f73fedd81fd6",
       "version_major": 2,
       "version_minor": 0
      },
      "text/plain": [
       "  0%|          | 0/4958 [00:00<?, ?it/s]"
      ]
     },
     "metadata": {},
     "output_type": "display_data"
    },
    {
     "data": {
      "application/vnd.jupyter.widget-view+json": {
       "model_id": "67ae2ce7d0a4447da1eb8204215bc60c",
       "version_major": 2,
       "version_minor": 0
      },
      "text/plain": [
       "  0%|          | 0/620 [00:00<?, ?it/s]"
      ]
     },
     "metadata": {},
     "output_type": "display_data"
    },
    {
     "name": "stdout",
     "output_type": "stream",
     "text": [
      "Epoch: 1/4 | Train Loss: 0.6926 | Train Acc: 0.5056 | Train F1: 0.5171 | Val Loss: 0.6898 | Val Acc: 0.5163 | Val F1: 0.1793 | Time: 104.50s\n"
     ]
    },
    {
     "data": {
      "application/vnd.jupyter.widget-view+json": {
       "model_id": "54111eaa3a564f5ab2b2927a3f6b8275",
       "version_major": 2,
       "version_minor": 0
      },
      "text/plain": [
       "  0%|          | 0/4958 [00:00<?, ?it/s]"
      ]
     },
     "metadata": {},
     "output_type": "display_data"
    },
    {
     "data": {
      "application/vnd.jupyter.widget-view+json": {
       "model_id": "18f8b3ffa98c4c1a907ae64bcd86d145",
       "version_major": 2,
       "version_minor": 0
      },
      "text/plain": [
       "  0%|          | 0/620 [00:00<?, ?it/s]"
      ]
     },
     "metadata": {},
     "output_type": "display_data"
    },
    {
     "name": "stdout",
     "output_type": "stream",
     "text": [
      "Epoch: 2/4 | Train Loss: 0.6562 | Train Acc: 0.5751 | Train F1: 0.5570 | Val Loss: 0.5434 | Val Acc: 0.7275 | Val F1: 0.7064 | Time: 99.87s\n"
     ]
    },
    {
     "data": {
      "application/vnd.jupyter.widget-view+json": {
       "model_id": "6535f0fb69c44b96a394dc599dc78870",
       "version_major": 2,
       "version_minor": 0
      },
      "text/plain": [
       "  0%|          | 0/4958 [00:00<?, ?it/s]"
      ]
     },
     "metadata": {},
     "output_type": "display_data"
    },
    {
     "data": {
      "application/vnd.jupyter.widget-view+json": {
       "model_id": "d7be91c03afc4275b2dfaf833b79fad4",
       "version_major": 2,
       "version_minor": 0
      },
      "text/plain": [
       "  0%|          | 0/620 [00:00<?, ?it/s]"
      ]
     },
     "metadata": {},
     "output_type": "display_data"
    },
    {
     "name": "stdout",
     "output_type": "stream",
     "text": [
      "Epoch: 3/4 | Train Loss: 0.3693 | Train Acc: 0.8447 | Train F1: 0.8456 | Val Loss: 0.2843 | Val Acc: 0.8883 | Val F1: 0.8906 | Time: 89.84s\n"
     ]
    },
    {
     "data": {
      "application/vnd.jupyter.widget-view+json": {
       "model_id": "55c454dd193b4e58b6e8b3125d85ae36",
       "version_major": 2,
       "version_minor": 0
      },
      "text/plain": [
       "  0%|          | 0/4958 [00:00<?, ?it/s]"
      ]
     },
     "metadata": {},
     "output_type": "display_data"
    },
    {
     "data": {
      "application/vnd.jupyter.widget-view+json": {
       "model_id": "ba96903693b34bcea9e8720dfbc9087d",
       "version_major": 2,
       "version_minor": 0
      },
      "text/plain": [
       "  0%|          | 0/620 [00:00<?, ?it/s]"
      ]
     },
     "metadata": {},
     "output_type": "display_data"
    },
    {
     "name": "stdout",
     "output_type": "stream",
     "text": [
      "Epoch: 4/4 | Train Loss: 0.2265 | Train Acc: 0.9150 | Train F1: 0.9158 | Val Loss: 0.2496 | Val Acc: 0.9002 | Val F1: 0.9012 | Time: 89.57s\n"
     ]
    },
    {
     "data": {
      "image/png": "[encoded data removed]",
      "text/plain": [
       "<Figure size 1000x600 with 1 Axes>"
      ]
     },
     "metadata": {},
     "output_type": "display_data"
    }
   ],
   "source": [
    "model_lstm = LSTMClassifier(pretrained=False)\n",
    "model_lstm.to(DEVICE)\n",
    "criterion = nn.BCELoss(reduction='sum')\n",
    "optimizer = optim.Adam(model_lstm.parameters(), lr=LEARNING_RATE)\n",
    "print(f\"Number of trainable params: {count_trainable_parameters(model_lstm)}\")\n",
    "train_losses = []\n",
    "val_losses = []\n",
    "epochs = 4\n",
    "for epoch in range(epochs):\n",
    "    start_time = time.time()\n",
    "    train_loss, train_acc, train_f1 = train_epoch(model_lstm, basic_train_loader, criterion, optimizer)\n",
    "    train_losses.append(train_loss)\n",
    "    val_loss, val_acc, val_f1 = evaluate(model_lstm, basic_val_loader, criterion)\n",
    "    val_losses.append(val_loss)\n",
    "    end_time = time.time()\n",
    "\n",
    "    print(f\"Epoch: {epoch+1}/{epochs} | Train Loss: {train_loss:.4f} | Train Acc: {train_acc:.4f} | \"\n",
    "          f\"Train F1: {train_f1:.4f} | Val Loss: {val_loss:.4f} | Val Acc: {val_acc:.4f} | Val F1: {val_f1:.4f} | Time: {end_time-start_time:.2f}s\")\n",
    "plot_loss(train_losses, val_losses)"
   ]
  },
  {
   "cell_type": "code",
   "execution_count": 45,
   "metadata": {
    "colab": {
     "referenced_widgets": [
      "a202ad7b5e244dedb6f1c1202ada4e63"
     ]
    },
    "id": "wjN7N0EoQiYk",
    "outputId": "65b7c239-5fc7-4152-d990-e3951552ac1c"
   },
   "outputs": [
    {
     "data": {
      "application/vnd.jupyter.widget-view+json": {
       "model_id": "31bb59d268d14b468ce4cc19769b78b0",
       "version_major": 2,
       "version_minor": 0
      },
      "text/plain": [
       "  0%|          | 0/4959 [00:00<?, ?it/s]"
      ]
     },
     "metadata": {},
     "output_type": "display_data"
    },
    {
     "name": "stdout",
     "output_type": "stream",
     "text": [
      "Ensemble Model - Loss: 0.2617, Accuracy: 0.9022, F1 Score: 0.9062\n"
     ]
    }
   ],
   "source": [
    "test_loss, test_acc_lstm, test_f1_lstm = evaluate(model_lstm, basic_test_loader, criterion)\n",
    "print(f\"Ensemble Model - Loss: {test_loss:.4f}, Accuracy: {test_acc_lstm:.4f}, F1 Score: {test_f1_lstm:.4f}\")"
   ]
  },
  {
   "cell_type": "markdown",
   "metadata": {
    "id": "5ACakpgiQiYk"
   },
   "source": [
    "### Bert"
   ]
  },
  {
   "cell_type": "code",
   "execution_count": 47,
   "metadata": {
    "colab": {
     "referenced_widgets": [
      "f73c79f3cc5a448f8a500bbde7582b87"
     ]
    },
    "id": "1iEiiljZQiYl",
    "outputId": "03e1446e-6d19-4c22-fc2b-57ab85718cc1"
   },
   "outputs": [
    {
     "name": "stdout",
     "output_type": "stream",
     "text": [
      "Number of trainable params: 592001\n"
     ]
    },
    {
     "data": {
      "application/vnd.jupyter.widget-view+json": {
       "model_id": "e66250197a4f411ea68c729ad0ba3e79",
       "version_major": 2,
       "version_minor": 0
      },
      "text/plain": [
       "  0%|          | 0/4958 [00:00<?, ?it/s]"
      ]
     },
     "metadata": {},
     "output_type": "display_data"
    },
    {
     "data": {
      "application/vnd.jupyter.widget-view+json": {
       "model_id": "c2087c7133594f13ac5c5f318172caf8",
       "version_major": 2,
       "version_minor": 0
      },
      "text/plain": [
       "  0%|          | 0/620 [00:00<?, ?it/s]"
      ]
     },
     "metadata": {},
     "output_type": "display_data"
    },
    {
     "name": "stdout",
     "output_type": "stream",
     "text": [
      "Epoch: 1/1 | Train Loss: 0.6934 | Train Acc: 0.4996 | Train F1: 0.5242 | Val Loss: 0.6931 | Val Acc: 0.5036 | Val F1: 0.2665 | Time: 104.44s\n"
     ]
    }
   ],
   "source": [
    "model = LSTMClassifier(pretrained=True, pretrained_embs=BERT_EMBS, embed_size=BERT_EMB_SIZE)\n",
    "model.to(DEVICE)\n",
    "criterion = nn.BCELoss(reduction='sum')\n",
    "optimizer = optim.AdamW(model.parameters(), lr=LEARNING_RATE)\n",
    "print(f\"Number of trainable params: {count_trainable_parameters(model)}\")\n",
    "\n",
    "epochs = 1\n",
    "for epoch in range(epochs):\n",
    "    start_time = time.time()\n",
    "    train_loss, train_acc, train_f1 = train_epoch(model, bert_train_loader, criterion, optimizer)\n",
    "    val_loss, val_acc, val_f1 = evaluate(model, bert_val_loader, criterion)\n",
    "    end_time = time.time()\n",
    "\n",
    "    print(f\"Epoch: {epoch+1}/{epochs} | Train Loss: {train_loss:.4f} | Train Acc: {train_acc:.4f} | \"\n",
    "          f\"Train F1: {train_f1:.4f} | Val Loss: {val_loss:.4f} | Val Acc: {val_acc:.4f} | Val F1: {val_f1:.4f} | Time: {end_time-start_time:.2f}s\")"
   ]
  },
  {
   "cell_type": "markdown",
   "metadata": {
    "id": "s5lWHTwhQiYl"
   },
   "source": [
    "## GRU"
   ]
  },
  {
   "cell_type": "markdown",
   "metadata": {
    "id": "jDMnZL6KQiYl"
   },
   "source": [
    "### Basic"
   ]
  },
  {
   "cell_type": "code",
   "execution_count": 48,
   "metadata": {},
   "outputs": [
    {
     "name": "stdout",
     "output_type": "stream",
     "text": [
      "Number of trainable params: 10255821\n"
     ]
    },
    {
     "data": {
      "application/vnd.jupyter.widget-view+json": {
       "model_id": "2c27e5eea3c44b2e97d66e7b4518542a",
       "version_major": 2,
       "version_minor": 0
      },
      "text/plain": [
       "  0%|          | 0/4958 [00:00<?, ?it/s]"
      ]
     },
     "metadata": {},
     "output_type": "display_data"
    },
    {
     "data": {
      "application/vnd.jupyter.widget-view+json": {
       "model_id": "36db7b80b0374e4ea6beb86c1ac2bce5",
       "version_major": 2,
       "version_minor": 0
      },
      "text/plain": [
       "  0%|          | 0/620 [00:00<?, ?it/s]"
      ]
     },
     "metadata": {},
     "output_type": "display_data"
    },
    {
     "name": "stdout",
     "output_type": "stream",
     "text": [
      "Epoch: 1/3 | Train Loss: 0.6859 | Train Acc: 0.5266 | Train F1: 0.5373 | Val Loss: 0.7618 | Val Acc: 0.5944 | Val F1: 0.3422 | Time: 60.83s\n"
     ]
    },
    {
     "data": {
      "application/vnd.jupyter.widget-view+json": {
       "model_id": "f958eb74c3fe456b866ed7375c86ade4",
       "version_major": 2,
       "version_minor": 0
      },
      "text/plain": [
       "  0%|          | 0/4958 [00:00<?, ?it/s]"
      ]
     },
     "metadata": {},
     "output_type": "display_data"
    },
    {
     "data": {
      "application/vnd.jupyter.widget-view+json": {
       "model_id": "59a31c15f3bb4077ba70a45f92d80986",
       "version_major": 2,
       "version_minor": 0
      },
      "text/plain": [
       "  0%|          | 0/620 [00:00<?, ?it/s]"
      ]
     },
     "metadata": {},
     "output_type": "display_data"
    },
    {
     "name": "stdout",
     "output_type": "stream",
     "text": [
      "Epoch: 2/3 | Train Loss: 0.2993 | Train Acc: 0.8720 | Train F1: 0.8728 | Val Loss: 0.2266 | Val Acc: 0.9064 | Val F1: 0.9084 | Time: 62.41s\n"
     ]
    },
    {
     "data": {
      "application/vnd.jupyter.widget-view+json": {
       "model_id": "ba75e03b460948f6bb635eb0cc2599da",
       "version_major": 2,
       "version_minor": 0
      },
      "text/plain": [
       "  0%|          | 0/4958 [00:00<?, ?it/s]"
      ]
     },
     "metadata": {},
     "output_type": "display_data"
    },
    {
     "data": {
      "application/vnd.jupyter.widget-view+json": {
       "model_id": "38d2547fd1554400b738d9b02c665f5f",
       "version_major": 2,
       "version_minor": 0
      },
      "text/plain": [
       "  0%|          | 0/620 [00:00<?, ?it/s]"
      ]
     },
     "metadata": {},
     "output_type": "display_data"
    },
    {
     "name": "stdout",
     "output_type": "stream",
     "text": [
      "Epoch: 3/3 | Train Loss: 0.1517 | Train Acc: 0.9434 | Train F1: 0.9436 | Val Loss: 0.2158 | Val Acc: 0.9171 | Val F1: 0.9179 | Time: 66.48s\n"
     ]
    },
    {
     "data": {
      "image/png": "[encoded data removed]",
      "text/plain": [
       "<Figure size 1000x600 with 1 Axes>"
      ]
     },
     "metadata": {},
     "output_type": "display_data"
    }
   ],
   "source": [
    "model_gru = GRUClassifier(pretrained=False)\n",
    "model_gru.to(DEVICE)\n",
    "criterion = nn.BCELoss(reduction='sum')\n",
    "optimizer = optim.Adam(model_gru.parameters(), lr=LEARNING_RATE)\n",
    "print(f\"Number of trainable params: {count_trainable_parameters(model_gru)}\")\n",
    "train_losses = []\n",
    "val_losses = []\n",
    "epochs = 3\n",
    "for epoch in range(epochs):\n",
    "    start_time = time.time()\n",
    "    train_loss, train_acc, train_f1 = train_epoch(model_gru, basic_train_loader, criterion, optimizer)\n",
    "    train_losses.append(train_loss)\n",
    "    val_loss, val_acc, val_f1 = evaluate(model_gru, basic_val_loader, criterion)\n",
    "    val_losses.append(val_loss)\n",
    "    end_time = time.time()\n",
    "\n",
    "    print(f\"Epoch: {epoch+1}/{epochs} | Train Loss: {train_loss:.4f} | Train Acc: {train_acc:.4f} | \"\n",
    "          f\"Train F1: {train_f1:.4f} | Val Loss: {val_loss:.4f} | Val Acc: {val_acc:.4f} | Val F1: {val_f1:.4f} | Time: {end_time-start_time:.2f}s\")\n",
    "plot_loss(train_losses, val_losses)"
   ]
  },
  {
   "cell_type": "code",
   "execution_count": 49,
   "metadata": {},
   "outputs": [
    {
     "data": {
      "application/vnd.jupyter.widget-view+json": {
       "model_id": "8d9746b8dfb64737aa7de7dab4e4d359",
       "version_major": 2,
       "version_minor": 0
      },
      "text/plain": [
       "  0%|          | 0/4959 [00:00<?, ?it/s]"
      ]
     },
     "metadata": {},
     "output_type": "display_data"
    },
    {
     "name": "stdout",
     "output_type": "stream",
     "text": [
      "Ensemble Model - Loss: 0.2111, Accuracy: 0.9181, F1 Score: 0.9205\n"
     ]
    }
   ],
   "source": [
    "test_loss, test_acc_gru, test_f1_gru = evaluate(model_gru, basic_test_loader, criterion)\n",
    "print(f\"Ensemble Model - Loss: {test_loss:.4f}, Accuracy: {test_acc_gru:.4f}, F1 Score: {test_f1_gru:.4f}\")"
   ]
  },
  {
   "cell_type": "markdown",
   "metadata": {
    "id": "tAvCVNCaQiYm"
   },
   "source": [
    "### Bert"
   ]
  },
  {
   "cell_type": "code",
   "execution_count": 50,
   "metadata": {},
   "outputs": [
    {
     "name": "stdout",
     "output_type": "stream",
     "text": [
      "Number of trainable params: 444033\n"
     ]
    },
    {
     "data": {
      "application/vnd.jupyter.widget-view+json": {
       "model_id": "2fc7f9aa950d478d957025bae421a6c0",
       "version_major": 2,
       "version_minor": 0
      },
      "text/plain": [
       "  0%|          | 0/4958 [00:00<?, ?it/s]"
      ]
     },
     "metadata": {},
     "output_type": "display_data"
    },
    {
     "data": {
      "application/vnd.jupyter.widget-view+json": {
       "model_id": "c37ffb90d6bb4db996fea0af0518c232",
       "version_major": 2,
       "version_minor": 0
      },
      "text/plain": [
       "  0%|          | 0/620 [00:00<?, ?it/s]"
      ]
     },
     "metadata": {},
     "output_type": "display_data"
    },
    {
     "name": "stdout",
     "output_type": "stream",
     "text": [
      "Epoch: 1/1 | Train Loss: 0.6939 | Train Acc: 0.4966 | Train F1: 0.4816 | Val Loss: 0.6932 | Val Acc: 0.5012 | Val F1: 0.2633 | Time: 80.95s\n"
     ]
    }
   ],
   "source": [
    "model = GRUClassifier(pretrained=True, pretrained_embs=BERT_EMBS, embed_size=BERT_EMB_SIZE)\n",
    "model.to(DEVICE)\n",
    "criterion = nn.BCELoss(reduction='sum')\n",
    "optimizer = optim.AdamW(model.parameters(), lr=LEARNING_RATE)\n",
    "print(f\"Number of trainable params: {count_trainable_parameters(model)}\")\n",
    "\n",
    "epochs = 1\n",
    "for epoch in range(epochs):\n",
    "    start_time = time.time()\n",
    "    train_loss, train_acc, train_f1 = train_epoch(model, bert_train_loader, criterion, optimizer)\n",
    "    val_loss, val_acc, val_f1 = evaluate(model, bert_val_loader, criterion)\n",
    "    end_time = time.time()\n",
    "\n",
    "    print(f\"Epoch: {epoch+1}/{epochs} | Train Loss: {train_loss:.4f} | Train Acc: {train_acc:.4f} | \"\n",
    "          f\"Train F1: {train_f1:.4f} | Val Loss: {val_loss:.4f} | Val Acc: {val_acc:.4f} | Val F1: {val_f1:.4f} | Time: {end_time-start_time:.2f}s\")"
   ]
  },
  {
   "cell_type": "markdown",
   "metadata": {
    "id": "Vtp0oYs1QiYn"
   },
   "source": [
    "## **Modèle Global**"
   ]
  },
  {
   "cell_type": "code",
   "execution_count": 51,
   "metadata": {
    "id": "5GfW4LQcQiYn"
   },
   "outputs": [],
   "source": [
    "class EnsembleModel(nn.Module):\n",
    "    def __init__(self, models):\n",
    "        super(EnsembleModel, self).__init__()\n",
    "        self.models = nn.ModuleList(models)\n",
    "\n",
    "    def forward(self, x):\n",
    "        predictions = []\n",
    "        for model in self.models:\n",
    "            model.eval()\n",
    "            with torch.no_grad():\n",
    "                outputs = model(x)\n",
    "                predictions.append((outputs >= 0.5).float())\n",
    "\n",
    "        predictions = torch.stack(predictions, dim=0)  # Shape: (num_models, batch_size)\n",
    "        majority_vote = predictions.sum(dim=0) >= (len(self.models) / 2)\n",
    "        return majority_vote.float()"
   ]
  },
  {
   "cell_type": "code",
   "execution_count": 53,
   "metadata": {
    "colab": {
     "referenced_widgets": [
      "4e81326923a84ec69afadc5b07679886"
     ]
    },
    "id": "gXLhN_CVQiYn",
    "outputId": "f372b016-06ab-4ada-81df-03ed8c98bfaf"
   },
   "outputs": [
    {
     "data": {
      "application/vnd.jupyter.widget-view+json": {
       "model_id": "3c02f5a20b524a0ab86a185025461dd4",
       "version_major": 2,
       "version_minor": 0
      },
      "text/plain": [
       "  0%|          | 0/4959 [00:00<?, ?it/s]"
      ]
     },
     "metadata": {},
     "output_type": "display_data"
    },
    {
     "name": "stdout",
     "output_type": "stream",
     "text": [
      "Ensemble Model - Loss: 7.4209, Accuracy: 0.9258, F1 Score: 0.9293\n"
     ]
    }
   ],
   "source": [
    "models = [model_mlp, model_cnn, model_rnn, model_gru, model_lstm]\n",
    "ensemble_model = EnsembleModel(models)\n",
    "\n",
    "# Évaluez le modèle ensemble\n",
    "test_loss, test_acc_ensemble, test_f1_ensemble = evaluate(ensemble_model, basic_test_loader, criterion)\n",
    "print(f\"Ensemble Model - Loss: {test_loss:.4f}, Accuracy: {test_acc_ensemble:.4f}, F1 Score: {test_f1_ensemble:.4f}\")"
   ]
  },
  {
   "cell_type": "code",
   "execution_count": 58,
   "metadata": {
    "id": "zOGBqkm2QiYn",
    "outputId": "bb149f27-1b67-4791-9db2-3cae91e15398"
   },
   "outputs": [
    {
     "data": {
      "image/png": "[encoded data removed]",
      "text/plain": [
       "<Figure size 1600x600 with 2 Axes>"
      ]
     },
     "metadata": {},
     "output_type": "display_data"
    }
   ],
   "source": [
    "model_list = ['MLP', 'CNN', 'RNN', 'LSTM', 'GRU','Global']\n",
    "test_scores = [test_acc_mlp.cpu().item() if hasattr(test_acc_mlp, \"cpu\") else test_acc_mlp,\n",
    "               test_acc_cnn.cpu().item() if hasattr(test_acc_cnn, \"cpu\") else test_acc_cnn,\n",
    "               test_acc_rnn.cpu().item() if hasattr(test_acc_rnn, \"cpu\") else test_acc_rnn,\n",
    "               test_acc_lstm.cpu().item() if hasattr(test_acc_lstm, \"cpu\") else test_acc_lstm,\n",
    "               test_acc_gru.cpu().item() if hasattr(test_acc_gru, \"cpu\") else test_acc_gru,\n",
    "               test_acc_ensemble.cpu().item() if hasattr(test_acc_ensemble, \"cpu\") else test_acc_ensemble]\n",
    "\n",
    "f1_scores = [test_f1_mlp.cpu().item() if hasattr(test_f1_mlp, \"cpu\") else test_f1_mlp,\n",
    "             test_f1_cnn.cpu().item() if hasattr(test_f1_cnn, \"cpu\") else test_f1_cnn,\n",
    "             test_f1_rnn.cpu().item() if hasattr(test_f1_rnn, \"cpu\") else test_f1_rnn,\n",
    "             test_f1_lstm.cpu().item() if hasattr(test_f1_lstm, \"cpu\") else test_f1_lstm,\n",
    "             test_f1_gru.cpu().item() if hasattr(test_f1_gru, \"cpu\") else test_f1_gru,\n",
    "             test_f1_ensemble.cpu().item() if hasattr(test_f1_ensemble, \"cpu\") else test_f1_ensemble]\n",
    "\n",
    "# Création des plots\n",
    "fig, axes = plt.subplots(1, 2, figsize=(16, 6))\n",
    "\n",
    "# Couleurs pour les barres\n",
    "colors_test_scores = ['#4CAF50', '#2196F3', '#FFC107', '#FF5722', '#9C27B0', '#795548']\n",
    "colors_f1_scores = ['#FF9800', '#03A9F4', '#8BC34A', '#E91E63', '#673AB7', '#607D8B']\n",
    "\n",
    "# Premier plot : Test Accuracy\n",
    "bars1 = axes[0].bar(model_list, test_scores, color=colors_test_scores, edgecolor='black', alpha=0.85)\n",
    "axes[0].set_title('Test Accuracy by Model', fontsize=16, fontweight='bold', pad=15)\n",
    "axes[0].set_xlabel('Models', fontsize=14)\n",
    "axes[0].set_ylabel('Test Accuracy', fontsize=14)\n",
    "axes[0].set_ylim(0, 1)\n",
    "axes[0].tick_params(axis='both', which='major', labelsize=12)\n",
    "for bar, acc in zip(bars1, test_scores):\n",
    "    axes[0].text(bar.get_x() + bar.get_width() / 2, bar.get_height() + 0.02, f'{acc:.2f}', \n",
    "                 ha='center', va='bottom', fontsize=12, fontweight='bold')\n",
    "\n",
    "# Deuxième plot : F1 Score\n",
    "bars2 = axes[1].bar(model_list, f1_scores, color=colors_f1_scores, edgecolor='black', alpha=0.85)\n",
    "axes[1].set_title('F1 Score by Model', fontsize=16, fontweight='bold', pad=15)\n",
    "axes[1].set_xlabel('Models', fontsize=14)\n",
    "axes[1].set_ylabel('F1 Score', fontsize=14)\n",
    "axes[1].set_ylim(0, 1)\n",
    "axes[1].tick_params(axis='both', which='major', labelsize=12)\n",
    "for bar, f1 in zip(bars2, f1_scores):\n",
    "    axes[1].text(bar.get_x() + bar.get_width() / 2, bar.get_height() + 0.02, f'{f1:.2f}', \n",
    "                 ha='center', va='bottom', fontsize=12, fontweight='bold')\n",
    "\n",
    "# Ajustement du layout\n",
    "plt.tight_layout()\n",
    "plt.show()"
   ]
  }
 ],
 "metadata": {
  "accelerator": "GPU",
  "colab": {
   "gpuType": "T4",
   "provenance": []
  },
  "kernelspec": {
   "display_name": "Python 3 (ipykernel)",
   "language": "python",
   "name": "python3"
  },
  "language_info": {
   "codemirror_mode": {
    "name": "ipython",
    "version": 3
   },
   "file_extension": ".py",
   "mimetype": "text/x-python",
   "name": "python",
   "nbconvert_exporter": "python",
   "pygments_lexer": "ipython3",
   "version": "3.10.13"
  },
  "widgets": {
   "application/vnd.jupyter.widget-state+json": {
    "01e740d8852a467e98d4ff215779173d": {
     "model_module": "@jupyter-widgets/base",
     "model_module_version": "1.2.0",
     "model_name": "LayoutModel",
     "state": {
      "_model_module": "@jupyter-widgets/base",
      "_model_module_version": "1.2.0",
      "_model_name": "LayoutModel",
      "_view_count": null,
      "_view_module": "@jupyter-widgets/base",
      "_view_module_version": "1.2.0",
      "_view_name": "LayoutView",
      "align_content": null,
      "align_items": null,
      "align_self": null,
      "border": null,
      "bottom": null,
      "display": null,
      "flex": null,
      "flex_flow": null,
      "grid_area": null,
      "grid_auto_columns": null,
      "grid_auto_flow": null,
      "grid_auto_rows": null,
      "grid_column": null,
      "grid_gap": null,
      "grid_row": null,
      "grid_template_areas": null,
      "grid_template_columns": null,
      "grid_template_rows": null,
      "height": null,
      "justify_content": null,
      "justify_items": null,
      "left": null,
      "margin": null,
      "max_height": null,
      "max_width": null,
      "min_height": null,
      "min_width": null,
      "object_fit": null,
      "object_position": null,
      "order": null,
      "overflow": null,
      "overflow_x": null,
      "overflow_y": null,
      "padding": null,
      "right": null,
      "top": null,
      "visibility": null,
      "width": null
     }
    },
    "0a9277f3f1de4a4b9893be39307ddef3": {
     "model_module": "@jupyter-widgets/controls",
     "model_module_version": "1.5.0",
     "model_name": "FloatProgressModel",
     "state": {
      "_dom_classes": [],
      "_model_module": "@jupyter-widgets/controls",
      "_model_module_version": "1.5.0",
      "_model_name": "FloatProgressModel",
      "_view_count": null,
      "_view_module": "@jupyter-widgets/controls",
      "_view_module_version": "1.5.0",
      "_view_name": "ProgressView",
      "bar_style": "success",
      "description": "",
      "description_tooltip": null,
      "layout": "IPY_MODEL_9066e72a3ceb4658b6ad21471ce0fc8d",
      "max": 1563,
      "min": 0,
      "orientation": "horizontal",
      "style": "IPY_MODEL_a2a68afdb79546c8a823ff994ca49028",
      "value": 1563
     }
    },
    "0e3c34a19a694c25993835ca94c3eca0": {
     "model_module": "@jupyter-widgets/controls",
     "model_module_version": "1.5.0",
     "model_name": "DescriptionStyleModel",
     "state": {
      "_model_module": "@jupyter-widgets/controls",
      "_model_module_version": "1.5.0",
      "_model_name": "DescriptionStyleModel",
      "_view_count": null,
      "_view_module": "@jupyter-widgets/base",
      "_view_module_version": "1.2.0",
      "_view_name": "StyleView",
      "description_width": ""
     }
    },
    "1d867171d1d14a518209fa005402793e": {
     "model_module": "@jupyter-widgets/base",
     "model_module_version": "1.2.0",
     "model_name": "LayoutModel",
     "state": {
      "_model_module": "@jupyter-widgets/base",
      "_model_module_version": "1.2.0",
      "_model_name": "LayoutModel",
      "_view_count": null,
      "_view_module": "@jupyter-widgets/base",
      "_view_module_version": "1.2.0",
      "_view_name": "LayoutView",
      "align_content": null,
      "align_items": null,
      "align_self": null,
      "border": null,
      "bottom": null,
      "display": null,
      "flex": null,
      "flex_flow": null,
      "grid_area": null,
      "grid_auto_columns": null,
      "grid_auto_flow": null,
      "grid_auto_rows": null,
      "grid_column": null,
      "grid_gap": null,
      "grid_row": null,
      "grid_template_areas": null,
      "grid_template_columns": null,
      "grid_template_rows": null,
      "height": null,
      "justify_content": null,
      "justify_items": null,
      "left": null,
      "margin": null,
      "max_height": null,
      "max_width": null,
      "min_height": null,
      "min_width": null,
      "object_fit": null,
      "object_position": null,
      "order": null,
      "overflow": null,
      "overflow_x": null,
      "overflow_y": null,
      "padding": null,
      "right": null,
      "top": null,
      "visibility": null,
      "width": null
     }
    },
    "1d9c697c7b4c4404b2e85a4f11784bdf": {
     "model_module": "@jupyter-widgets/base",
     "model_module_version": "1.2.0",
     "model_name": "LayoutModel",
     "state": {
      "_model_module": "@jupyter-widgets/base",
      "_model_module_version": "1.2.0",
      "_model_name": "LayoutModel",
      "_view_count": null,
      "_view_module": "@jupyter-widgets/base",
      "_view_module_version": "1.2.0",
      "_view_name": "LayoutView",
      "align_content": null,
      "align_items": null,
      "align_self": null,
      "border": null,
      "bottom": null,
      "display": null,
      "flex": null,
      "flex_flow": null,
      "grid_area": null,
      "grid_auto_columns": null,
      "grid_auto_flow": null,
      "grid_auto_rows": null,
      "grid_column": null,
      "grid_gap": null,
      "grid_row": null,
      "grid_template_areas": null,
      "grid_template_columns": null,
      "grid_template_rows": null,
      "height": null,
      "justify_content": null,
      "justify_items": null,
      "left": null,
      "margin": null,
      "max_height": null,
      "max_width": null,
      "min_height": null,
      "min_width": null,
      "object_fit": null,
      "object_position": null,
      "order": null,
      "overflow": null,
      "overflow_x": null,
      "overflow_y": null,
      "padding": null,
      "right": null,
      "top": null,
      "visibility": null,
      "width": null
     }
    },
    "21015f982bff4e50a9db9efe0712b716": {
     "model_module": "@jupyter-widgets/controls",
     "model_module_version": "1.5.0",
     "model_name": "DescriptionStyleModel",
     "state": {
      "_model_module": "@jupyter-widgets/controls",
      "_model_module_version": "1.5.0",
      "_model_name": "DescriptionStyleModel",
      "_view_count": null,
      "_view_module": "@jupyter-widgets/base",
      "_view_module_version": "1.2.0",
      "_view_name": "StyleView",
      "description_width": ""
     }
    },
    "24044f0067244e6489b030f050d82f89": {
     "model_module": "@jupyter-widgets/controls",
     "model_module_version": "1.5.0",
     "model_name": "DescriptionStyleModel",
     "state": {
      "_model_module": "@jupyter-widgets/controls",
      "_model_module_version": "1.5.0",
      "_model_name": "DescriptionStyleModel",
      "_view_count": null,
      "_view_module": "@jupyter-widgets/base",
      "_view_module_version": "1.2.0",
      "_view_name": "StyleView",
      "description_width": ""
     }
    },
    "24e52bb8dc734827b3581d8fa2472703": {
     "model_module": "@jupyter-widgets/controls",
     "model_module_version": "1.5.0",
     "model_name": "DescriptionStyleModel",
     "state": {
      "_model_module": "@jupyter-widgets/controls",
      "_model_module_version": "1.5.0",
      "_model_name": "DescriptionStyleModel",
      "_view_count": null,
      "_view_module": "@jupyter-widgets/base",
      "_view_module_version": "1.2.0",
      "_view_name": "StyleView",
      "description_width": ""
     }
    },
    "28bfbf6fa2444908a4b0bb32ecbe83eb": {
     "model_module": "@jupyter-widgets/base",
     "model_module_version": "1.2.0",
     "model_name": "LayoutModel",
     "state": {
      "_model_module": "@jupyter-widgets/base",
      "_model_module_version": "1.2.0",
      "_model_name": "LayoutModel",
      "_view_count": null,
      "_view_module": "@jupyter-widgets/base",
      "_view_module_version": "1.2.0",
      "_view_name": "LayoutView",
      "align_content": null,
      "align_items": null,
      "align_self": null,
      "border": null,
      "bottom": null,
      "display": null,
      "flex": null,
      "flex_flow": null,
      "grid_area": null,
      "grid_auto_columns": null,
      "grid_auto_flow": null,
      "grid_auto_rows": null,
      "grid_column": null,
      "grid_gap": null,
      "grid_row": null,
      "grid_template_areas": null,
      "grid_template_columns": null,
      "grid_template_rows": null,
      "height": null,
      "justify_content": null,
      "justify_items": null,
      "left": null,
      "margin": null,
      "max_height": null,
      "max_width": null,
      "min_height": null,
      "min_width": null,
      "object_fit": null,
      "object_position": null,
      "order": null,
      "overflow": null,
      "overflow_x": null,
      "overflow_y": null,
      "padding": null,
      "right": null,
      "top": null,
      "visibility": null,
      "width": null
     }
    },
    "2b9e55fdbc3c4e189fdc1c2198b9170f": {
     "model_module": "@jupyter-widgets/controls",
     "model_module_version": "1.5.0",
     "model_name": "ProgressStyleModel",
     "state": {
      "_model_module": "@jupyter-widgets/controls",
      "_model_module_version": "1.5.0",
      "_model_name": "ProgressStyleModel",
      "_view_count": null,
      "_view_module": "@jupyter-widgets/base",
      "_view_module_version": "1.2.0",
      "_view_name": "StyleView",
      "bar_color": null,
      "description_width": ""
     }
    },
    "34a47d9727384f4a90dc577cd079268c": {
     "model_module": "@jupyter-widgets/controls",
     "model_module_version": "1.5.0",
     "model_name": "HTMLModel",
     "state": {
      "_dom_classes": [],
      "_model_module": "@jupyter-widgets/controls",
      "_model_module_version": "1.5.0",
      "_model_name": "HTMLModel",
      "_view_count": null,
      "_view_module": "@jupyter-widgets/controls",
      "_view_module_version": "1.5.0",
      "_view_name": "HTMLView",
      "description": "",
      "description_tooltip": null,
      "layout": "IPY_MODEL_01e740d8852a467e98d4ff215779173d",
      "placeholder": "​",
      "style": "IPY_MODEL_24e52bb8dc734827b3581d8fa2472703",
      "value": " 1252/3125 [00:19&lt;00:29, 63.12it/s]"
     }
    },
    "351c71d027d94e54a0f7c58be36c0765": {
     "model_module": "@jupyter-widgets/controls",
     "model_module_version": "1.5.0",
     "model_name": "HTMLModel",
     "state": {
      "_dom_classes": [],
      "_model_module": "@jupyter-widgets/controls",
      "_model_module_version": "1.5.0",
      "_model_name": "HTMLModel",
      "_view_count": null,
      "_view_module": "@jupyter-widgets/controls",
      "_view_module_version": "1.5.0",
      "_view_name": "HTMLView",
      "description": "",
      "description_tooltip": null,
      "layout": "IPY_MODEL_a6e02e6954234a23b6e599921ca68f57",
      "placeholder": "​",
      "style": "IPY_MODEL_70551c31ee274ed786115597cf282eb7",
      "value": " 1563/1563 [00:11&lt;00:00, 132.79it/s]"
     }
    },
    "3858018a54cd4ea8ba2e504fc54111ab": {
     "model_module": "@jupyter-widgets/base",
     "model_module_version": "1.2.0",
     "model_name": "LayoutModel",
     "state": {
      "_model_module": "@jupyter-widgets/base",
      "_model_module_version": "1.2.0",
      "_model_name": "LayoutModel",
      "_view_count": null,
      "_view_module": "@jupyter-widgets/base",
      "_view_module_version": "1.2.0",
      "_view_name": "LayoutView",
      "align_content": null,
      "align_items": null,
      "align_self": null,
      "border": null,
      "bottom": null,
      "display": null,
      "flex": null,
      "flex_flow": null,
      "grid_area": null,
      "grid_auto_columns": null,
      "grid_auto_flow": null,
      "grid_auto_rows": null,
      "grid_column": null,
      "grid_gap": null,
      "grid_row": null,
      "grid_template_areas": null,
      "grid_template_columns": null,
      "grid_template_rows": null,
      "height": null,
      "justify_content": null,
      "justify_items": null,
      "left": null,
      "margin": null,
      "max_height": null,
      "max_width": null,
      "min_height": null,
      "min_width": null,
      "object_fit": null,
      "object_position": null,
      "order": null,
      "overflow": null,
      "overflow_x": null,
      "overflow_y": null,
      "padding": null,
      "right": null,
      "top": null,
      "visibility": null,
      "width": null
     }
    },
    "39afc41adf7f468198a71d1b25b999e7": {
     "model_module": "@jupyter-widgets/base",
     "model_module_version": "1.2.0",
     "model_name": "LayoutModel",
     "state": {
      "_model_module": "@jupyter-widgets/base",
      "_model_module_version": "1.2.0",
      "_model_name": "LayoutModel",
      "_view_count": null,
      "_view_module": "@jupyter-widgets/base",
      "_view_module_version": "1.2.0",
      "_view_name": "LayoutView",
      "align_content": null,
      "align_items": null,
      "align_self": null,
      "border": null,
      "bottom": null,
      "display": null,
      "flex": null,
      "flex_flow": null,
      "grid_area": null,
      "grid_auto_columns": null,
      "grid_auto_flow": null,
      "grid_auto_rows": null,
      "grid_column": null,
      "grid_gap": null,
      "grid_row": null,
      "grid_template_areas": null,
      "grid_template_columns": null,
      "grid_template_rows": null,
      "height": null,
      "justify_content": null,
      "justify_items": null,
      "left": null,
      "margin": null,
      "max_height": null,
      "max_width": null,
      "min_height": null,
      "min_width": null,
      "object_fit": null,
      "object_position": null,
      "order": null,
      "overflow": null,
      "overflow_x": null,
      "overflow_y": null,
      "padding": null,
      "right": null,
      "top": null,
      "visibility": null,
      "width": null
     }
    },
    "4ddced00f5ab4feaaa806d4323bcb04f": {
     "model_module": "@jupyter-widgets/controls",
     "model_module_version": "1.5.0",
     "model_name": "FloatProgressModel",
     "state": {
      "_dom_classes": [],
      "_model_module": "@jupyter-widgets/controls",
      "_model_module_version": "1.5.0",
      "_model_name": "FloatProgressModel",
      "_view_count": null,
      "_view_module": "@jupyter-widgets/controls",
      "_view_module_version": "1.5.0",
      "_view_name": "ProgressView",
      "bar_style": "success",
      "description": "",
      "description_tooltip": null,
      "layout": "IPY_MODEL_8958f47c79b54c3baa9a7adb3ca653fc",
      "max": 3125,
      "min": 0,
      "orientation": "horizontal",
      "style": "IPY_MODEL_cf94d3505310473a8a209fb9ca77a93b",
      "value": 3125
     }
    },
    "5393d99a1286484596cfc926f6ae74af": {
     "model_module": "@jupyter-widgets/controls",
     "model_module_version": "1.5.0",
     "model_name": "HTMLModel",
     "state": {
      "_dom_classes": [],
      "_model_module": "@jupyter-widgets/controls",
      "_model_module_version": "1.5.0",
      "_model_name": "HTMLModel",
      "_view_count": null,
      "_view_module": "@jupyter-widgets/controls",
      "_view_module_version": "1.5.0",
      "_view_name": "HTMLView",
      "description": "",
      "description_tooltip": null,
      "layout": "IPY_MODEL_c8505e0d5a1940a28fac9958200b175f",
      "placeholder": "​",
      "style": "IPY_MODEL_24044f0067244e6489b030f050d82f89",
      "value": " 3125/3125 [00:49&lt;00:00, 67.30it/s]"
     }
    },
    "53c774499b4c42599d5142c21bd35e13": {
     "model_module": "@jupyter-widgets/base",
     "model_module_version": "1.2.0",
     "model_name": "LayoutModel",
     "state": {
      "_model_module": "@jupyter-widgets/base",
      "_model_module_version": "1.2.0",
      "_model_name": "LayoutModel",
      "_view_count": null,
      "_view_module": "@jupyter-widgets/base",
      "_view_module_version": "1.2.0",
      "_view_name": "LayoutView",
      "align_content": null,
      "align_items": null,
      "align_self": null,
      "border": null,
      "bottom": null,
      "display": null,
      "flex": null,
      "flex_flow": null,
      "grid_area": null,
      "grid_auto_columns": null,
      "grid_auto_flow": null,
      "grid_auto_rows": null,
      "grid_column": null,
      "grid_gap": null,
      "grid_row": null,
      "grid_template_areas": null,
      "grid_template_columns": null,
      "grid_template_rows": null,
      "height": null,
      "justify_content": null,
      "justify_items": null,
      "left": null,
      "margin": null,
      "max_height": null,
      "max_width": null,
      "min_height": null,
      "min_width": null,
      "object_fit": null,
      "object_position": null,
      "order": null,
      "overflow": null,
      "overflow_x": null,
      "overflow_y": null,
      "padding": null,
      "right": null,
      "top": null,
      "visibility": null,
      "width": null
     }
    },
    "5e12996719cd48b2bd828a56291ee2af": {
     "model_module": "@jupyter-widgets/controls",
     "model_module_version": "1.5.0",
     "model_name": "FloatProgressModel",
     "state": {
      "_dom_classes": [],
      "_model_module": "@jupyter-widgets/controls",
      "_model_module_version": "1.5.0",
      "_model_name": "FloatProgressModel",
      "_view_count": null,
      "_view_module": "@jupyter-widgets/controls",
      "_view_module_version": "1.5.0",
      "_view_name": "ProgressView",
      "bar_style": "success",
      "description": "",
      "description_tooltip": null,
      "layout": "IPY_MODEL_d2d640f1a3484b39a92bd6dcb04bdef3",
      "max": 3125,
      "min": 0,
      "orientation": "horizontal",
      "style": "IPY_MODEL_2b9e55fdbc3c4e189fdc1c2198b9170f",
      "value": 3125
     }
    },
    "6246b0199ac745948b1f2f0da66b4521": {
     "model_module": "@jupyter-widgets/controls",
     "model_module_version": "1.5.0",
     "model_name": "FloatProgressModel",
     "state": {
      "_dom_classes": [],
      "_model_module": "@jupyter-widgets/controls",
      "_model_module_version": "1.5.0",
      "_model_name": "FloatProgressModel",
      "_view_count": null,
      "_view_module": "@jupyter-widgets/controls",
      "_view_module_version": "1.5.0",
      "_view_name": "ProgressView",
      "bar_style": "success",
      "description": "",
      "description_tooltip": null,
      "layout": "IPY_MODEL_1d867171d1d14a518209fa005402793e",
      "max": 1563,
      "min": 0,
      "orientation": "horizontal",
      "style": "IPY_MODEL_b53acba2cef1446a899ca39d73941326",
      "value": 1563
     }
    },
    "658826963613491187866af607456a6f": {
     "model_module": "@jupyter-widgets/controls",
     "model_module_version": "1.5.0",
     "model_name": "ProgressStyleModel",
     "state": {
      "_model_module": "@jupyter-widgets/controls",
      "_model_module_version": "1.5.0",
      "_model_name": "ProgressStyleModel",
      "_view_count": null,
      "_view_module": "@jupyter-widgets/base",
      "_view_module_version": "1.2.0",
      "_view_name": "StyleView",
      "bar_color": null,
      "description_width": ""
     }
    },
    "65fc0bbcfd3742e9bee79302d7a1277b": {
     "model_module": "@jupyter-widgets/controls",
     "model_module_version": "1.5.0",
     "model_name": "DescriptionStyleModel",
     "state": {
      "_model_module": "@jupyter-widgets/controls",
      "_model_module_version": "1.5.0",
      "_model_name": "DescriptionStyleModel",
      "_view_count": null,
      "_view_module": "@jupyter-widgets/base",
      "_view_module_version": "1.2.0",
      "_view_name": "StyleView",
      "description_width": ""
     }
    },
    "70551c31ee274ed786115597cf282eb7": {
     "model_module": "@jupyter-widgets/controls",
     "model_module_version": "1.5.0",
     "model_name": "DescriptionStyleModel",
     "state": {
      "_model_module": "@jupyter-widgets/controls",
      "_model_module_version": "1.5.0",
      "_model_name": "DescriptionStyleModel",
      "_view_count": null,
      "_view_module": "@jupyter-widgets/base",
      "_view_module_version": "1.2.0",
      "_view_name": "StyleView",
      "description_width": ""
     }
    },
    "733ea58f9e7747f6b204b41996ec6aba": {
     "model_module": "@jupyter-widgets/base",
     "model_module_version": "1.2.0",
     "model_name": "LayoutModel",
     "state": {
      "_model_module": "@jupyter-widgets/base",
      "_model_module_version": "1.2.0",
      "_model_name": "LayoutModel",
      "_view_count": null,
      "_view_module": "@jupyter-widgets/base",
      "_view_module_version": "1.2.0",
      "_view_name": "LayoutView",
      "align_content": null,
      "align_items": null,
      "align_self": null,
      "border": null,
      "bottom": null,
      "display": null,
      "flex": null,
      "flex_flow": null,
      "grid_area": null,
      "grid_auto_columns": null,
      "grid_auto_flow": null,
      "grid_auto_rows": null,
      "grid_column": null,
      "grid_gap": null,
      "grid_row": null,
      "grid_template_areas": null,
      "grid_template_columns": null,
      "grid_template_rows": null,
      "height": null,
      "justify_content": null,
      "justify_items": null,
      "left": null,
      "margin": null,
      "max_height": null,
      "max_width": null,
      "min_height": null,
      "min_width": null,
      "object_fit": null,
      "object_position": null,
      "order": null,
      "overflow": null,
      "overflow_x": null,
      "overflow_y": null,
      "padding": null,
      "right": null,
      "top": null,
      "visibility": null,
      "width": null
     }
    },
    "75ccb9f733384271bc2f1ceee0b514fa": {
     "model_module": "@jupyter-widgets/controls",
     "model_module_version": "1.5.0",
     "model_name": "HTMLModel",
     "state": {
      "_dom_classes": [],
      "_model_module": "@jupyter-widgets/controls",
      "_model_module_version": "1.5.0",
      "_model_name": "HTMLModel",
      "_view_count": null,
      "_view_module": "@jupyter-widgets/controls",
      "_view_module_version": "1.5.0",
      "_view_name": "HTMLView",
      "description": "",
      "description_tooltip": null,
      "layout": "IPY_MODEL_b5bfdb1aaca947f3b512781b9380e366",
      "placeholder": "​",
      "style": "IPY_MODEL_0e3c34a19a694c25993835ca94c3eca0",
      "value": "100%"
     }
    },
    "75ce53d9eab14307b847ea543ad02883": {
     "model_module": "@jupyter-widgets/controls",
     "model_module_version": "1.5.0",
     "model_name": "HBoxModel",
     "state": {
      "_dom_classes": [],
      "_model_module": "@jupyter-widgets/controls",
      "_model_module_version": "1.5.0",
      "_model_name": "HBoxModel",
      "_view_count": null,
      "_view_module": "@jupyter-widgets/controls",
      "_view_module_version": "1.5.0",
      "_view_name": "HBoxView",
      "box_style": "",
      "children": [
       "IPY_MODEL_9e04b4502bd342c182124833dcc37eba",
       "IPY_MODEL_5e12996719cd48b2bd828a56291ee2af",
       "IPY_MODEL_5393d99a1286484596cfc926f6ae74af"
      ],
      "layout": "IPY_MODEL_93409cc4f1e64dabaf7767ada5a5223c"
     }
    },
    "79b1107b81a34366ada25e817bb8b2ea": {
     "model_module": "@jupyter-widgets/controls",
     "model_module_version": "1.5.0",
     "model_name": "DescriptionStyleModel",
     "state": {
      "_model_module": "@jupyter-widgets/controls",
      "_model_module_version": "1.5.0",
      "_model_name": "DescriptionStyleModel",
      "_view_count": null,
      "_view_module": "@jupyter-widgets/base",
      "_view_module_version": "1.2.0",
      "_view_name": "StyleView",
      "description_width": ""
     }
    },
    "7fdd2d04f66844c983e917d47cd567ac": {
     "model_module": "@jupyter-widgets/controls",
     "model_module_version": "1.5.0",
     "model_name": "HBoxModel",
     "state": {
      "_dom_classes": [],
      "_model_module": "@jupyter-widgets/controls",
      "_model_module_version": "1.5.0",
      "_model_name": "HBoxModel",
      "_view_count": null,
      "_view_module": "@jupyter-widgets/controls",
      "_view_module_version": "1.5.0",
      "_view_name": "HBoxView",
      "box_style": "",
      "children": [
       "IPY_MODEL_bcc45e669fcb4100b271a0e38f4b7763",
       "IPY_MODEL_0a9277f3f1de4a4b9893be39307ddef3",
       "IPY_MODEL_de63f8c13c8f45bbb4fb999f2e2a2c6e"
      ],
      "layout": "IPY_MODEL_e60405459ef845489bda83986cf2f0cf"
     }
    },
    "85023ff0857c401fb6818da19c8738a6": {
     "model_module": "@jupyter-widgets/controls",
     "model_module_version": "1.5.0",
     "model_name": "HTMLModel",
     "state": {
      "_dom_classes": [],
      "_model_module": "@jupyter-widgets/controls",
      "_model_module_version": "1.5.0",
      "_model_name": "HTMLModel",
      "_view_count": null,
      "_view_module": "@jupyter-widgets/controls",
      "_view_module_version": "1.5.0",
      "_view_name": "HTMLView",
      "description": "",
      "description_tooltip": null,
      "layout": "IPY_MODEL_3858018a54cd4ea8ba2e504fc54111ab",
      "placeholder": "​",
      "style": "IPY_MODEL_e6fb120e91944e588ea288f312f4e545",
      "value": " 40%"
     }
    },
    "8958f47c79b54c3baa9a7adb3ca653fc": {
     "model_module": "@jupyter-widgets/base",
     "model_module_version": "1.2.0",
     "model_name": "LayoutModel",
     "state": {
      "_model_module": "@jupyter-widgets/base",
      "_model_module_version": "1.2.0",
      "_model_name": "LayoutModel",
      "_view_count": null,
      "_view_module": "@jupyter-widgets/base",
      "_view_module_version": "1.2.0",
      "_view_name": "LayoutView",
      "align_content": null,
      "align_items": null,
      "align_self": null,
      "border": null,
      "bottom": null,
      "display": null,
      "flex": null,
      "flex_flow": null,
      "grid_area": null,
      "grid_auto_columns": null,
      "grid_auto_flow": null,
      "grid_auto_rows": null,
      "grid_column": null,
      "grid_gap": null,
      "grid_row": null,
      "grid_template_areas": null,
      "grid_template_columns": null,
      "grid_template_rows": null,
      "height": null,
      "justify_content": null,
      "justify_items": null,
      "left": null,
      "margin": null,
      "max_height": null,
      "max_width": null,
      "min_height": null,
      "min_width": null,
      "object_fit": null,
      "object_position": null,
      "order": null,
      "overflow": null,
      "overflow_x": null,
      "overflow_y": null,
      "padding": null,
      "right": null,
      "top": null,
      "visibility": null,
      "width": null
     }
    },
    "8dd6434056d348a787186b14cd6a6056": {
     "model_module": "@jupyter-widgets/base",
     "model_module_version": "1.2.0",
     "model_name": "LayoutModel",
     "state": {
      "_model_module": "@jupyter-widgets/base",
      "_model_module_version": "1.2.0",
      "_model_name": "LayoutModel",
      "_view_count": null,
      "_view_module": "@jupyter-widgets/base",
      "_view_module_version": "1.2.0",
      "_view_name": "LayoutView",
      "align_content": null,
      "align_items": null,
      "align_self": null,
      "border": null,
      "bottom": null,
      "display": null,
      "flex": null,
      "flex_flow": null,
      "grid_area": null,
      "grid_auto_columns": null,
      "grid_auto_flow": null,
      "grid_auto_rows": null,
      "grid_column": null,
      "grid_gap": null,
      "grid_row": null,
      "grid_template_areas": null,
      "grid_template_columns": null,
      "grid_template_rows": null,
      "height": null,
      "justify_content": null,
      "justify_items": null,
      "left": null,
      "margin": null,
      "max_height": null,
      "max_width": null,
      "min_height": null,
      "min_width": null,
      "object_fit": null,
      "object_position": null,
      "order": null,
      "overflow": null,
      "overflow_x": null,
      "overflow_y": null,
      "padding": null,
      "right": null,
      "top": null,
      "visibility": null,
      "width": null
     }
    },
    "9066e72a3ceb4658b6ad21471ce0fc8d": {
     "model_module": "@jupyter-widgets/base",
     "model_module_version": "1.2.0",
     "model_name": "LayoutModel",
     "state": {
      "_model_module": "@jupyter-widgets/base",
      "_model_module_version": "1.2.0",
      "_model_name": "LayoutModel",
      "_view_count": null,
      "_view_module": "@jupyter-widgets/base",
      "_view_module_version": "1.2.0",
      "_view_name": "LayoutView",
      "align_content": null,
      "align_items": null,
      "align_self": null,
      "border": null,
      "bottom": null,
      "display": null,
      "flex": null,
      "flex_flow": null,
      "grid_area": null,
      "grid_auto_columns": null,
      "grid_auto_flow": null,
      "grid_auto_rows": null,
      "grid_column": null,
      "grid_gap": null,
      "grid_row": null,
      "grid_template_areas": null,
      "grid_template_columns": null,
      "grid_template_rows": null,
      "height": null,
      "justify_content": null,
      "justify_items": null,
      "left": null,
      "margin": null,
      "max_height": null,
      "max_width": null,
      "min_height": null,
      "min_width": null,
      "object_fit": null,
      "object_position": null,
      "order": null,
      "overflow": null,
      "overflow_x": null,
      "overflow_y": null,
      "padding": null,
      "right": null,
      "top": null,
      "visibility": null,
      "width": null
     }
    },
    "93409cc4f1e64dabaf7767ada5a5223c": {
     "model_module": "@jupyter-widgets/base",
     "model_module_version": "1.2.0",
     "model_name": "LayoutModel",
     "state": {
      "_model_module": "@jupyter-widgets/base",
      "_model_module_version": "1.2.0",
      "_model_name": "LayoutModel",
      "_view_count": null,
      "_view_module": "@jupyter-widgets/base",
      "_view_module_version": "1.2.0",
      "_view_name": "LayoutView",
      "align_content": null,
      "align_items": null,
      "align_self": null,
      "border": null,
      "bottom": null,
      "display": null,
      "flex": null,
      "flex_flow": null,
      "grid_area": null,
      "grid_auto_columns": null,
      "grid_auto_flow": null,
      "grid_auto_rows": null,
      "grid_column": null,
      "grid_gap": null,
      "grid_row": null,
      "grid_template_areas": null,
      "grid_template_columns": null,
      "grid_template_rows": null,
      "height": null,
      "justify_content": null,
      "justify_items": null,
      "left": null,
      "margin": null,
      "max_height": null,
      "max_width": null,
      "min_height": null,
      "min_width": null,
      "object_fit": null,
      "object_position": null,
      "order": null,
      "overflow": null,
      "overflow_x": null,
      "overflow_y": null,
      "padding": null,
      "right": null,
      "top": null,
      "visibility": null,
      "width": null
     }
    },
    "96d25979448e47359c492d4b93ede575": {
     "model_module": "@jupyter-widgets/base",
     "model_module_version": "1.2.0",
     "model_name": "LayoutModel",
     "state": {
      "_model_module": "@jupyter-widgets/base",
      "_model_module_version": "1.2.0",
      "_model_name": "LayoutModel",
      "_view_count": null,
      "_view_module": "@jupyter-widgets/base",
      "_view_module_version": "1.2.0",
      "_view_name": "LayoutView",
      "align_content": null,
      "align_items": null,
      "align_self": null,
      "border": null,
      "bottom": null,
      "display": null,
      "flex": null,
      "flex_flow": null,
      "grid_area": null,
      "grid_auto_columns": null,
      "grid_auto_flow": null,
      "grid_auto_rows": null,
      "grid_column": null,
      "grid_gap": null,
      "grid_row": null,
      "grid_template_areas": null,
      "grid_template_columns": null,
      "grid_template_rows": null,
      "height": null,
      "justify_content": null,
      "justify_items": null,
      "left": null,
      "margin": null,
      "max_height": null,
      "max_width": null,
      "min_height": null,
      "min_width": null,
      "object_fit": null,
      "object_position": null,
      "order": null,
      "overflow": null,
      "overflow_x": null,
      "overflow_y": null,
      "padding": null,
      "right": null,
      "top": null,
      "visibility": null,
      "width": null
     }
    },
    "9e04b4502bd342c182124833dcc37eba": {
     "model_module": "@jupyter-widgets/controls",
     "model_module_version": "1.5.0",
     "model_name": "HTMLModel",
     "state": {
      "_dom_classes": [],
      "_model_module": "@jupyter-widgets/controls",
      "_model_module_version": "1.5.0",
      "_model_name": "HTMLModel",
      "_view_count": null,
      "_view_module": "@jupyter-widgets/controls",
      "_view_module_version": "1.5.0",
      "_view_name": "HTMLView",
      "description": "",
      "description_tooltip": null,
      "layout": "IPY_MODEL_39afc41adf7f468198a71d1b25b999e7",
      "placeholder": "​",
      "style": "IPY_MODEL_65fc0bbcfd3742e9bee79302d7a1277b",
      "value": "100%"
     }
    },
    "a2a68afdb79546c8a823ff994ca49028": {
     "model_module": "@jupyter-widgets/controls",
     "model_module_version": "1.5.0",
     "model_name": "ProgressStyleModel",
     "state": {
      "_model_module": "@jupyter-widgets/controls",
      "_model_module_version": "1.5.0",
      "_model_name": "ProgressStyleModel",
      "_view_count": null,
      "_view_module": "@jupyter-widgets/base",
      "_view_module_version": "1.2.0",
      "_view_name": "StyleView",
      "bar_color": null,
      "description_width": ""
     }
    },
    "a66897ac3072471499f4645eaf4fb96a": {
     "model_module": "@jupyter-widgets/controls",
     "model_module_version": "1.5.0",
     "model_name": "DescriptionStyleModel",
     "state": {
      "_model_module": "@jupyter-widgets/controls",
      "_model_module_version": "1.5.0",
      "_model_name": "DescriptionStyleModel",
      "_view_count": null,
      "_view_module": "@jupyter-widgets/base",
      "_view_module_version": "1.2.0",
      "_view_name": "StyleView",
      "description_width": ""
     }
    },
    "a6e02e6954234a23b6e599921ca68f57": {
     "model_module": "@jupyter-widgets/base",
     "model_module_version": "1.2.0",
     "model_name": "LayoutModel",
     "state": {
      "_model_module": "@jupyter-widgets/base",
      "_model_module_version": "1.2.0",
      "_model_name": "LayoutModel",
      "_view_count": null,
      "_view_module": "@jupyter-widgets/base",
      "_view_module_version": "1.2.0",
      "_view_name": "LayoutView",
      "align_content": null,
      "align_items": null,
      "align_self": null,
      "border": null,
      "bottom": null,
      "display": null,
      "flex": null,
      "flex_flow": null,
      "grid_area": null,
      "grid_auto_columns": null,
      "grid_auto_flow": null,
      "grid_auto_rows": null,
      "grid_column": null,
      "grid_gap": null,
      "grid_row": null,
      "grid_template_areas": null,
      "grid_template_columns": null,
      "grid_template_rows": null,
      "height": null,
      "justify_content": null,
      "justify_items": null,
      "left": null,
      "margin": null,
      "max_height": null,
      "max_width": null,
      "min_height": null,
      "min_width": null,
      "object_fit": null,
      "object_position": null,
      "order": null,
      "overflow": null,
      "overflow_x": null,
      "overflow_y": null,
      "padding": null,
      "right": null,
      "top": null,
      "visibility": null,
      "width": null
     }
    },
    "a7f6d2c855914634917519ccd3cfbcc8": {
     "model_module": "@jupyter-widgets/base",
     "model_module_version": "1.2.0",
     "model_name": "LayoutModel",
     "state": {
      "_model_module": "@jupyter-widgets/base",
      "_model_module_version": "1.2.0",
      "_model_name": "LayoutModel",
      "_view_count": null,
      "_view_module": "@jupyter-widgets/base",
      "_view_module_version": "1.2.0",
      "_view_name": "LayoutView",
      "align_content": null,
      "align_items": null,
      "align_self": null,
      "border": null,
      "bottom": null,
      "display": null,
      "flex": null,
      "flex_flow": null,
      "grid_area": null,
      "grid_auto_columns": null,
      "grid_auto_flow": null,
      "grid_auto_rows": null,
      "grid_column": null,
      "grid_gap": null,
      "grid_row": null,
      "grid_template_areas": null,
      "grid_template_columns": null,
      "grid_template_rows": null,
      "height": null,
      "justify_content": null,
      "justify_items": null,
      "left": null,
      "margin": null,
      "max_height": null,
      "max_width": null,
      "min_height": null,
      "min_width": null,
      "object_fit": null,
      "object_position": null,
      "order": null,
      "overflow": null,
      "overflow_x": null,
      "overflow_y": null,
      "padding": null,
      "right": null,
      "top": null,
      "visibility": null,
      "width": null
     }
    },
    "a890170804dc4131852c258bd75d19d1": {
     "model_module": "@jupyter-widgets/base",
     "model_module_version": "1.2.0",
     "model_name": "LayoutModel",
     "state": {
      "_model_module": "@jupyter-widgets/base",
      "_model_module_version": "1.2.0",
      "_model_name": "LayoutModel",
      "_view_count": null,
      "_view_module": "@jupyter-widgets/base",
      "_view_module_version": "1.2.0",
      "_view_name": "LayoutView",
      "align_content": null,
      "align_items": null,
      "align_self": null,
      "border": null,
      "bottom": null,
      "display": null,
      "flex": null,
      "flex_flow": null,
      "grid_area": null,
      "grid_auto_columns": null,
      "grid_auto_flow": null,
      "grid_auto_rows": null,
      "grid_column": null,
      "grid_gap": null,
      "grid_row": null,
      "grid_template_areas": null,
      "grid_template_columns": null,
      "grid_template_rows": null,
      "height": null,
      "justify_content": null,
      "justify_items": null,
      "left": null,
      "margin": null,
      "max_height": null,
      "max_width": null,
      "min_height": null,
      "min_width": null,
      "object_fit": null,
      "object_position": null,
      "order": null,
      "overflow": null,
      "overflow_x": null,
      "overflow_y": null,
      "padding": null,
      "right": null,
      "top": null,
      "visibility": null,
      "width": null
     }
    },
    "b2f496cf22bd41faae80497b752ec52f": {
     "model_module": "@jupyter-widgets/controls",
     "model_module_version": "1.5.0",
     "model_name": "DescriptionStyleModel",
     "state": {
      "_model_module": "@jupyter-widgets/controls",
      "_model_module_version": "1.5.0",
      "_model_name": "DescriptionStyleModel",
      "_view_count": null,
      "_view_module": "@jupyter-widgets/base",
      "_view_module_version": "1.2.0",
      "_view_name": "StyleView",
      "description_width": ""
     }
    },
    "b42f4f726d8f49818071c76f7a1e03fe": {
     "model_module": "@jupyter-widgets/controls",
     "model_module_version": "1.5.0",
     "model_name": "HTMLModel",
     "state": {
      "_dom_classes": [],
      "_model_module": "@jupyter-widgets/controls",
      "_model_module_version": "1.5.0",
      "_model_name": "HTMLModel",
      "_view_count": null,
      "_view_module": "@jupyter-widgets/controls",
      "_view_module_version": "1.5.0",
      "_view_name": "HTMLView",
      "description": "",
      "description_tooltip": null,
      "layout": "IPY_MODEL_96d25979448e47359c492d4b93ede575",
      "placeholder": "​",
      "style": "IPY_MODEL_79b1107b81a34366ada25e817bb8b2ea",
      "value": " 3125/3125 [00:50&lt;00:00, 63.35it/s]"
     }
    },
    "b53acba2cef1446a899ca39d73941326": {
     "model_module": "@jupyter-widgets/controls",
     "model_module_version": "1.5.0",
     "model_name": "ProgressStyleModel",
     "state": {
      "_model_module": "@jupyter-widgets/controls",
      "_model_module_version": "1.5.0",
      "_model_name": "ProgressStyleModel",
      "_view_count": null,
      "_view_module": "@jupyter-widgets/base",
      "_view_module_version": "1.2.0",
      "_view_name": "StyleView",
      "bar_color": null,
      "description_width": ""
     }
    },
    "b5bfdb1aaca947f3b512781b9380e366": {
     "model_module": "@jupyter-widgets/base",
     "model_module_version": "1.2.0",
     "model_name": "LayoutModel",
     "state": {
      "_model_module": "@jupyter-widgets/base",
      "_model_module_version": "1.2.0",
      "_model_name": "LayoutModel",
      "_view_count": null,
      "_view_module": "@jupyter-widgets/base",
      "_view_module_version": "1.2.0",
      "_view_name": "LayoutView",
      "align_content": null,
      "align_items": null,
      "align_self": null,
      "border": null,
      "bottom": null,
      "display": null,
      "flex": null,
      "flex_flow": null,
      "grid_area": null,
      "grid_auto_columns": null,
      "grid_auto_flow": null,
      "grid_auto_rows": null,
      "grid_column": null,
      "grid_gap": null,
      "grid_row": null,
      "grid_template_areas": null,
      "grid_template_columns": null,
      "grid_template_rows": null,
      "height": null,
      "justify_content": null,
      "justify_items": null,
      "left": null,
      "margin": null,
      "max_height": null,
      "max_width": null,
      "min_height": null,
      "min_width": null,
      "object_fit": null,
      "object_position": null,
      "order": null,
      "overflow": null,
      "overflow_x": null,
      "overflow_y": null,
      "padding": null,
      "right": null,
      "top": null,
      "visibility": null,
      "width": null
     }
    },
    "b8c26f5691874d0cb870ed6cdea7d8ed": {
     "model_module": "@jupyter-widgets/controls",
     "model_module_version": "1.5.0",
     "model_name": "HBoxModel",
     "state": {
      "_dom_classes": [],
      "_model_module": "@jupyter-widgets/controls",
      "_model_module_version": "1.5.0",
      "_model_name": "HBoxModel",
      "_view_count": null,
      "_view_module": "@jupyter-widgets/controls",
      "_view_module_version": "1.5.0",
      "_view_name": "HBoxView",
      "box_style": "",
      "children": [
       "IPY_MODEL_85023ff0857c401fb6818da19c8738a6",
       "IPY_MODEL_d86456fffa164669907b3d0274f013da",
       "IPY_MODEL_34a47d9727384f4a90dc577cd079268c"
      ],
      "layout": "IPY_MODEL_1d9c697c7b4c4404b2e85a4f11784bdf"
     }
    },
    "bcc45e669fcb4100b271a0e38f4b7763": {
     "model_module": "@jupyter-widgets/controls",
     "model_module_version": "1.5.0",
     "model_name": "HTMLModel",
     "state": {
      "_dom_classes": [],
      "_model_module": "@jupyter-widgets/controls",
      "_model_module_version": "1.5.0",
      "_model_name": "HTMLModel",
      "_view_count": null,
      "_view_module": "@jupyter-widgets/controls",
      "_view_module_version": "1.5.0",
      "_view_name": "HTMLView",
      "description": "",
      "description_tooltip": null,
      "layout": "IPY_MODEL_733ea58f9e7747f6b204b41996ec6aba",
      "placeholder": "​",
      "style": "IPY_MODEL_21015f982bff4e50a9db9efe0712b716",
      "value": "100%"
     }
    },
    "c63f54708c4041a6ab3e32a99479a6a2": {
     "model_module": "@jupyter-widgets/controls",
     "model_module_version": "1.5.0",
     "model_name": "HBoxModel",
     "state": {
      "_dom_classes": [],
      "_model_module": "@jupyter-widgets/controls",
      "_model_module_version": "1.5.0",
      "_model_name": "HBoxModel",
      "_view_count": null,
      "_view_module": "@jupyter-widgets/controls",
      "_view_module_version": "1.5.0",
      "_view_name": "HBoxView",
      "box_style": "",
      "children": [
       "IPY_MODEL_ec9a0656fb174c8ba6955fdb9b06c493",
       "IPY_MODEL_6246b0199ac745948b1f2f0da66b4521",
       "IPY_MODEL_351c71d027d94e54a0f7c58be36c0765"
      ],
      "layout": "IPY_MODEL_28bfbf6fa2444908a4b0bb32ecbe83eb"
     }
    },
    "c8505e0d5a1940a28fac9958200b175f": {
     "model_module": "@jupyter-widgets/base",
     "model_module_version": "1.2.0",
     "model_name": "LayoutModel",
     "state": {
      "_model_module": "@jupyter-widgets/base",
      "_model_module_version": "1.2.0",
      "_model_name": "LayoutModel",
      "_view_count": null,
      "_view_module": "@jupyter-widgets/base",
      "_view_module_version": "1.2.0",
      "_view_name": "LayoutView",
      "align_content": null,
      "align_items": null,
      "align_self": null,
      "border": null,
      "bottom": null,
      "display": null,
      "flex": null,
      "flex_flow": null,
      "grid_area": null,
      "grid_auto_columns": null,
      "grid_auto_flow": null,
      "grid_auto_rows": null,
      "grid_column": null,
      "grid_gap": null,
      "grid_row": null,
      "grid_template_areas": null,
      "grid_template_columns": null,
      "grid_template_rows": null,
      "height": null,
      "justify_content": null,
      "justify_items": null,
      "left": null,
      "margin": null,
      "max_height": null,
      "max_width": null,
      "min_height": null,
      "min_width": null,
      "object_fit": null,
      "object_position": null,
      "order": null,
      "overflow": null,
      "overflow_x": null,
      "overflow_y": null,
      "padding": null,
      "right": null,
      "top": null,
      "visibility": null,
      "width": null
     }
    },
    "cf94d3505310473a8a209fb9ca77a93b": {
     "model_module": "@jupyter-widgets/controls",
     "model_module_version": "1.5.0",
     "model_name": "ProgressStyleModel",
     "state": {
      "_model_module": "@jupyter-widgets/controls",
      "_model_module_version": "1.5.0",
      "_model_name": "ProgressStyleModel",
      "_view_count": null,
      "_view_module": "@jupyter-widgets/base",
      "_view_module_version": "1.2.0",
      "_view_name": "StyleView",
      "bar_color": null,
      "description_width": ""
     }
    },
    "d2d640f1a3484b39a92bd6dcb04bdef3": {
     "model_module": "@jupyter-widgets/base",
     "model_module_version": "1.2.0",
     "model_name": "LayoutModel",
     "state": {
      "_model_module": "@jupyter-widgets/base",
      "_model_module_version": "1.2.0",
      "_model_name": "LayoutModel",
      "_view_count": null,
      "_view_module": "@jupyter-widgets/base",
      "_view_module_version": "1.2.0",
      "_view_name": "LayoutView",
      "align_content": null,
      "align_items": null,
      "align_self": null,
      "border": null,
      "bottom": null,
      "display": null,
      "flex": null,
      "flex_flow": null,
      "grid_area": null,
      "grid_auto_columns": null,
      "grid_auto_flow": null,
      "grid_auto_rows": null,
      "grid_column": null,
      "grid_gap": null,
      "grid_row": null,
      "grid_template_areas": null,
      "grid_template_columns": null,
      "grid_template_rows": null,
      "height": null,
      "justify_content": null,
      "justify_items": null,
      "left": null,
      "margin": null,
      "max_height": null,
      "max_width": null,
      "min_height": null,
      "min_width": null,
      "object_fit": null,
      "object_position": null,
      "order": null,
      "overflow": null,
      "overflow_x": null,
      "overflow_y": null,
      "padding": null,
      "right": null,
      "top": null,
      "visibility": null,
      "width": null
     }
    },
    "d86456fffa164669907b3d0274f013da": {
     "model_module": "@jupyter-widgets/controls",
     "model_module_version": "1.5.0",
     "model_name": "FloatProgressModel",
     "state": {
      "_dom_classes": [],
      "_model_module": "@jupyter-widgets/controls",
      "_model_module_version": "1.5.0",
      "_model_name": "FloatProgressModel",
      "_view_count": null,
      "_view_module": "@jupyter-widgets/controls",
      "_view_module_version": "1.5.0",
      "_view_name": "ProgressView",
      "bar_style": "danger",
      "description": "",
      "description_tooltip": null,
      "layout": "IPY_MODEL_a7f6d2c855914634917519ccd3cfbcc8",
      "max": 3125,
      "min": 0,
      "orientation": "horizontal",
      "style": "IPY_MODEL_658826963613491187866af607456a6f",
      "value": 1252
     }
    },
    "de63f8c13c8f45bbb4fb999f2e2a2c6e": {
     "model_module": "@jupyter-widgets/controls",
     "model_module_version": "1.5.0",
     "model_name": "HTMLModel",
     "state": {
      "_dom_classes": [],
      "_model_module": "@jupyter-widgets/controls",
      "_model_module_version": "1.5.0",
      "_model_name": "HTMLModel",
      "_view_count": null,
      "_view_module": "@jupyter-widgets/controls",
      "_view_module_version": "1.5.0",
      "_view_name": "HTMLView",
      "description": "",
      "description_tooltip": null,
      "layout": "IPY_MODEL_a890170804dc4131852c258bd75d19d1",
      "placeholder": "​",
      "style": "IPY_MODEL_a66897ac3072471499f4645eaf4fb96a",
      "value": " 1563/1563 [00:10&lt;00:00, 119.32it/s]"
     }
    },
    "e60405459ef845489bda83986cf2f0cf": {
     "model_module": "@jupyter-widgets/base",
     "model_module_version": "1.2.0",
     "model_name": "LayoutModel",
     "state": {
      "_model_module": "@jupyter-widgets/base",
      "_model_module_version": "1.2.0",
      "_model_name": "LayoutModel",
      "_view_count": null,
      "_view_module": "@jupyter-widgets/base",
      "_view_module_version": "1.2.0",
      "_view_name": "LayoutView",
      "align_content": null,
      "align_items": null,
      "align_self": null,
      "border": null,
      "bottom": null,
      "display": null,
      "flex": null,
      "flex_flow": null,
      "grid_area": null,
      "grid_auto_columns": null,
      "grid_auto_flow": null,
      "grid_auto_rows": null,
      "grid_column": null,
      "grid_gap": null,
      "grid_row": null,
      "grid_template_areas": null,
      "grid_template_columns": null,
      "grid_template_rows": null,
      "height": null,
      "justify_content": null,
      "justify_items": null,
      "left": null,
      "margin": null,
      "max_height": null,
      "max_width": null,
      "min_height": null,
      "min_width": null,
      "object_fit": null,
      "object_position": null,
      "order": null,
      "overflow": null,
      "overflow_x": null,
      "overflow_y": null,
      "padding": null,
      "right": null,
      "top": null,
      "visibility": null,
      "width": null
     }
    },
    "e6609fcd7fab4f4dbdc52b710bc3b1d8": {
     "model_module": "@jupyter-widgets/controls",
     "model_module_version": "1.5.0",
     "model_name": "HBoxModel",
     "state": {
      "_dom_classes": [],
      "_model_module": "@jupyter-widgets/controls",
      "_model_module_version": "1.5.0",
      "_model_name": "HBoxModel",
      "_view_count": null,
      "_view_module": "@jupyter-widgets/controls",
      "_view_module_version": "1.5.0",
      "_view_name": "HBoxView",
      "box_style": "",
      "children": [
       "IPY_MODEL_75ccb9f733384271bc2f1ceee0b514fa",
       "IPY_MODEL_4ddced00f5ab4feaaa806d4323bcb04f",
       "IPY_MODEL_b42f4f726d8f49818071c76f7a1e03fe"
      ],
      "layout": "IPY_MODEL_53c774499b4c42599d5142c21bd35e13"
     }
    },
    "e6fb120e91944e588ea288f312f4e545": {
     "model_module": "@jupyter-widgets/controls",
     "model_module_version": "1.5.0",
     "model_name": "DescriptionStyleModel",
     "state": {
      "_model_module": "@jupyter-widgets/controls",
      "_model_module_version": "1.5.0",
      "_model_name": "DescriptionStyleModel",
      "_view_count": null,
      "_view_module": "@jupyter-widgets/base",
      "_view_module_version": "1.2.0",
      "_view_name": "StyleView",
      "description_width": ""
     }
    },
    "ec9a0656fb174c8ba6955fdb9b06c493": {
     "model_module": "@jupyter-widgets/controls",
     "model_module_version": "1.5.0",
     "model_name": "HTMLModel",
     "state": {
      "_dom_classes": [],
      "_model_module": "@jupyter-widgets/controls",
      "_model_module_version": "1.5.0",
      "_model_name": "HTMLModel",
      "_view_count": null,
      "_view_module": "@jupyter-widgets/controls",
      "_view_module_version": "1.5.0",
      "_view_name": "HTMLView",
      "description": "",
      "description_tooltip": null,
      "layout": "IPY_MODEL_8dd6434056d348a787186b14cd6a6056",
      "placeholder": "​",
      "style": "IPY_MODEL_b2f496cf22bd41faae80497b752ec52f",
      "value": "100%"
     }
    }
   }
  }
 },
 "nbformat": 4,
 "nbformat_minor": 4
}
