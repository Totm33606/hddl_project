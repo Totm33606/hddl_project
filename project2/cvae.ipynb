{
 "cells": [
  {
   "cell_type": "markdown",
   "metadata": {
    "vscode": {
     "languageId": "latex"
    }
   },
   "source": [
    "Project CVAE on MNIST datas"
   ]
  },
  {
   "cell_type": "code",
   "execution_count": 19,
   "metadata": {},
   "outputs": [],
   "source": [
    "# Imports\n",
    "import torch\n",
    "import torch.nn as nn\n",
    "from torchvision import datasets, transforms\n",
    "from torch.utils.data import DataLoader, random_split\n",
    "import torch.nn.functional as F\n",
    "import torch.optim as optim\n",
    "import matplotlib.pyplot as plt\n",
    "from tqdm import tqdm"
   ]
  },
  {
   "cell_type": "code",
   "execution_count": 2,
   "metadata": {},
   "outputs": [],
   "source": [
    "# Loading Fashion-MNIST datasets\n",
    "train_dataset = datasets.FashionMNIST(root='./data', train=True, transform=transforms.ToTensor(), download=True)\n",
    "test_dataset = datasets.FashionMNIST(root='./data', train=False, transform=transforms.ToTensor(), download=True)"
   ]
  },
  {
   "cell_type": "code",
   "execution_count": 3,
   "metadata": {},
   "outputs": [],
   "source": [
    "# Global values\n",
    "DEVICE = torch.device(\"cuda\" if torch.cuda.is_available() else \"cpu\")\n",
    "BATCH_SIZE = 64\n",
    "MAX_EPOCHS = 10\n",
    "LEARNING_RATE = 1e-3\n",
    "CLASSES_TO_IDX = train_dataset.class_to_idx\n",
    "FEATURE_SIZE = train_dataset.data[0].shape[0] * train_dataset.data[0].shape[1]\n",
    "CLASS_SIZE = 10\n",
    "LATENT_SIZE = 10"
   ]
  },
  {
   "cell_type": "code",
   "execution_count": 4,
   "metadata": {},
   "outputs": [
    {
     "data": {
      "image/png": "[encoded data removed]",
      "text/plain": [
       "<Figure size 1000x300 with 2 Axes>"
      ]
     },
     "metadata": {},
     "output_type": "display_data"
    }
   ],
   "source": [
    "# Print the first image of each dataset\n",
    "fig, axs = plt.subplots(nrows=1, ncols=2, figsize=(10, 3))\n",
    "\n",
    "axs[0].imshow(train_dataset.data[100], cmap='gray')\n",
    "axs[0].set_title(f\"{list(CLASSES_TO_IDX.keys())[train_dataset.targets[100]]}\")\n",
    "\n",
    "axs[1].imshow(test_dataset.data[0], cmap='gray')\n",
    "axs[1].set_title(f\"{list(CLASSES_TO_IDX.keys())[test_dataset.targets[0]]}\")\n",
    "\n",
    "plt.tight_layout()\n",
    "plt.show()"
   ]
  },
  {
   "cell_type": "code",
   "execution_count": 5,
   "metadata": {},
   "outputs": [
    {
     "name": "stdout",
     "output_type": "stream",
     "text": [
      "Train dataset size: 60000\n",
      "Validation dataset size: 5000\n",
      "Test dataset size: 5000\n"
     ]
    }
   ],
   "source": [
    "# Split test between validation and test\n",
    "val_size = int(test_dataset.data.shape[0] / 2)\n",
    "test_size = test_dataset.data.shape[0] - val_size\n",
    "test_dataset, val_dataset = random_split(test_dataset, [test_size, val_size])\n",
    "\n",
    "# Some prints\n",
    "print(f\"Train dataset size: {len(train_dataset.data)}\")\n",
    "print(f\"Validation dataset size: {len(val_dataset)}\")\n",
    "print(f\"Test dataset size: {len(test_dataset)}\")\n",
    "\n",
    "# Makes dataloaders\n",
    "train_loader = DataLoader(train_dataset, batch_size=BATCH_SIZE, shuffle=True)\n",
    "val_loader = DataLoader(val_dataset, batch_size=BATCH_SIZE, shuffle=False)\n",
    "test_loader = DataLoader(test_dataset, batch_size=1, shuffle=False)"
   ]
  },
  {
   "cell_type": "code",
   "execution_count": 6,
   "metadata": {},
   "outputs": [],
   "source": [
    "class CVAE(nn.Module):\n",
    "    def __init__(self, feature_size, latent_size, class_size):\n",
    "        super(CVAE, self).__init__()\n",
    "        self.feature_size = feature_size\n",
    "        self.class_size = class_size\n",
    "\n",
    "        # encode\n",
    "        self.fc1  = nn.Linear(feature_size + class_size, 400)\n",
    "        self.fc21 = nn.Linear(400, latent_size)\n",
    "        self.fc22 = nn.Linear(400, latent_size)\n",
    "\n",
    "        # decode\n",
    "        self.fc3 = nn.Linear(latent_size + class_size, 400)\n",
    "        self.fc4 = nn.Linear(400, feature_size)\n",
    "\n",
    "        self.elu = nn.ELU()\n",
    "        self.sigmoid = nn.Sigmoid()\n",
    "\n",
    "    def encode(self, x, c): # Q(z|x, c)\n",
    "        '''\n",
    "        x: (bs, feature_size)\n",
    "        c: (bs, class_size)\n",
    "        '''\n",
    "        inputs = torch.cat([x, c], 1) # (bs, feature_size+class_size)\n",
    "        h1 = self.elu(self.fc1(inputs))\n",
    "        z_mu = self.fc21(h1)\n",
    "        z_var = self.fc22(h1)\n",
    "        return z_mu, z_var\n",
    "\n",
    "    def sample(self, mu, logvar):\n",
    "        std = torch.exp(0.5*logvar)\n",
    "        eps = torch.randn_like(std)\n",
    "        return mu + eps*std\n",
    "\n",
    "    def decode(self, z, c): # P(x|z, c)\n",
    "        '''\n",
    "        z: (bs, latent_size)\n",
    "        c: (bs, class_size)\n",
    "        '''\n",
    "        inputs = torch.cat([z, c], 1) # (bs, latent_size+class_size)\n",
    "        h3 = self.elu(self.fc3(inputs))\n",
    "        return self.sigmoid(self.fc4(h3))\n",
    "\n",
    "    def forward(self, x, c):\n",
    "        x = x.view(x.size(0), -1)\n",
    "        mu, logvar = self.encode(x, c)\n",
    "        z = self.sample(mu, logvar)\n",
    "        return self.decode(z, c), mu, logvar"
   ]
  },
  {
   "cell_type": "code",
   "execution_count": 7,
   "metadata": {},
   "outputs": [],
   "source": [
    "def loss_function(recon_x, x, mu, logvar, beta=1):\n",
    "    BCE = F.binary_cross_entropy(recon_x, x, reduction='sum')\n",
    "    KLD = -0.5 * torch.sum(1 + logvar - mu.pow(2) - logvar.exp())\n",
    "    return BCE + beta * KLD"
   ]
  },
  {
   "cell_type": "code",
   "execution_count": 8,
   "metadata": {},
   "outputs": [],
   "source": [
    "def one_hot(labels, class_size):\n",
    "    targets = torch.zeros(labels.size(0), class_size)\n",
    "    for i, label in enumerate(labels):\n",
    "        targets[i, label] = 1\n",
    "    return targets.to(DEVICE)"
   ]
  },
  {
   "cell_type": "code",
   "execution_count": 13,
   "metadata": {},
   "outputs": [
    {
     "name": "stderr",
     "output_type": "stream",
     "text": [
      "Epoch 1/10 Training: 100%|██████████| 938/938 [00:14<00:00, 66.85it/s]\n",
      "Epoch 1/10 Validation: 100%|██████████| 79/79 [00:00<00:00, 87.96it/s]\n"
     ]
    },
    {
     "name": "stdout",
     "output_type": "stream",
     "text": [
      "Epoch 1, Training loss: 266.7549, Validation loss: 257.3870\n"
     ]
    },
    {
     "name": "stderr",
     "output_type": "stream",
     "text": [
      "Epoch 2/10 Training: 100%|██████████| 938/938 [00:13<00:00, 68.54it/s]\n",
      "Epoch 2/10 Validation: 100%|██████████| 79/79 [00:00<00:00, 89.34it/s]\n"
     ]
    },
    {
     "name": "stdout",
     "output_type": "stream",
     "text": [
      "Epoch 2, Training loss: 250.5633, Validation loss: 251.6641\n"
     ]
    },
    {
     "name": "stderr",
     "output_type": "stream",
     "text": [
      "Epoch 3/10 Training: 100%|██████████| 938/938 [00:13<00:00, 69.73it/s]\n",
      "Epoch 3/10 Validation: 100%|██████████| 79/79 [00:00<00:00, 90.50it/s]\n"
     ]
    },
    {
     "name": "stdout",
     "output_type": "stream",
     "text": [
      "Epoch 3, Training loss: 246.9711, Validation loss: 248.8078\n"
     ]
    },
    {
     "name": "stderr",
     "output_type": "stream",
     "text": [
      "Epoch 4/10 Training: 100%|██████████| 938/938 [00:13<00:00, 68.86it/s]\n",
      "Epoch 4/10 Validation: 100%|██████████| 79/79 [00:00<00:00, 89.03it/s]\n"
     ]
    },
    {
     "name": "stdout",
     "output_type": "stream",
     "text": [
      "Epoch 4, Training loss: 244.9168, Validation loss: 247.1028\n"
     ]
    },
    {
     "name": "stderr",
     "output_type": "stream",
     "text": [
      "Epoch 5/10 Training: 100%|██████████| 938/938 [00:13<00:00, 67.83it/s]\n",
      "Epoch 5/10 Validation: 100%|██████████| 79/79 [00:00<00:00, 84.24it/s]\n"
     ]
    },
    {
     "name": "stdout",
     "output_type": "stream",
     "text": [
      "Epoch 5, Training loss: 243.5278, Validation loss: 246.1455\n"
     ]
    },
    {
     "name": "stderr",
     "output_type": "stream",
     "text": [
      "Epoch 6/10 Training: 100%|██████████| 938/938 [00:13<00:00, 67.28it/s]\n",
      "Epoch 6/10 Validation: 100%|██████████| 79/79 [00:00<00:00, 84.62it/s]\n"
     ]
    },
    {
     "name": "stdout",
     "output_type": "stream",
     "text": [
      "Epoch 6, Training loss: 242.6336, Validation loss: 245.3233\n"
     ]
    },
    {
     "name": "stderr",
     "output_type": "stream",
     "text": [
      "Epoch 7/10 Training: 100%|██████████| 938/938 [00:14<00:00, 64.77it/s]\n",
      "Epoch 7/10 Validation: 100%|██████████| 79/79 [00:00<00:00, 79.25it/s]\n"
     ]
    },
    {
     "name": "stdout",
     "output_type": "stream",
     "text": [
      "Epoch 7, Training loss: 241.8311, Validation loss: 244.3101\n"
     ]
    },
    {
     "name": "stderr",
     "output_type": "stream",
     "text": [
      "Epoch 8/10 Training: 100%|██████████| 938/938 [00:14<00:00, 64.72it/s]\n",
      "Epoch 8/10 Validation: 100%|██████████| 79/79 [00:01<00:00, 73.63it/s]\n"
     ]
    },
    {
     "name": "stdout",
     "output_type": "stream",
     "text": [
      "Epoch 8, Training loss: 241.2865, Validation loss: 244.6751\n"
     ]
    },
    {
     "name": "stderr",
     "output_type": "stream",
     "text": [
      "Epoch 9/10 Training: 100%|██████████| 938/938 [00:15<00:00, 61.93it/s]\n",
      "Epoch 9/10 Validation: 100%|██████████| 79/79 [00:00<00:00, 83.84it/s]\n"
     ]
    },
    {
     "name": "stdout",
     "output_type": "stream",
     "text": [
      "Epoch 9, Training loss: 240.8238, Validation loss: 244.1119\n"
     ]
    },
    {
     "name": "stderr",
     "output_type": "stream",
     "text": [
      "Epoch 10/10 Training: 100%|██████████| 938/938 [00:14<00:00, 65.26it/s]\n",
      "Epoch 10/10 Validation: 100%|██████████| 79/79 [00:00<00:00, 83.29it/s]"
     ]
    },
    {
     "name": "stdout",
     "output_type": "stream",
     "text": [
      "Epoch 10, Training loss: 240.3993, Validation loss: 243.8183\n"
     ]
    },
    {
     "name": "stderr",
     "output_type": "stream",
     "text": [
      "\n"
     ]
    }
   ],
   "source": [
    "cvae = CVAE(FEATURE_SIZE, LATENT_SIZE, CLASS_SIZE)\n",
    "cvae.to(DEVICE)\n",
    "optimizer = optim.Adam(cvae.parameters(), lr=LEARNING_RATE)\n",
    "\n",
    "for epoch in range(1, MAX_EPOCHS + 1):\n",
    "\n",
    "    # Training part\n",
    "    cvae.train()\n",
    "    running_train_loss = 0.0\n",
    "    t_train = tqdm(train_loader, desc=f\"Epoch {epoch}/{MAX_EPOCHS} Training\")\n",
    "    for data, labels in t_train:\n",
    "        data, labels = data.to(DEVICE), labels.to(DEVICE)\n",
    "        labels = one_hot(labels, CLASS_SIZE)\n",
    "        recon_batch, mu, logvar = cvae(data, labels)\n",
    "        optimizer.zero_grad()\n",
    "        loss = loss_function(recon_batch, data.view(data.size(0), -1), mu, logvar)\n",
    "        loss.backward()\n",
    "        optimizer.step()\n",
    "\n",
    "        running_train_loss += loss.item()\n",
    "    train_loss = running_train_loss / len(train_loader.dataset)\n",
    "\n",
    "    # Validation part\n",
    "    cvae.eval()  # Set model to evaluation mode\n",
    "    with torch.no_grad():  # Disable gradient calculation for validation\n",
    "        running_val_loss = 0.0\n",
    "        t_val = tqdm(val_loader, desc=f\"Epoch {epoch}/{MAX_EPOCHS} Validation\")\n",
    "        for data, labels in t_val:\n",
    "            data, labels = data.to(DEVICE), labels.to(DEVICE)\n",
    "            labels = one_hot(labels, CLASS_SIZE)\n",
    "            recon_batch, mu, logvar = cvae(data, labels)            \n",
    "            loss = loss_function(recon_batch, data.view(data.size(0), -1), mu, logvar)\n",
    "\n",
    "            running_val_loss += loss.item()\n",
    "\n",
    "    val_loss = running_val_loss / len(val_loader.dataset)\n",
    "    \n",
    "    print(f'Epoch {epoch}, Training loss: {train_loss:.4f}, Validation loss: {val_loss:.4f}')\n",
    "\n",
    "# Saving part (if needed)\n",
    "torch.save(cvae.state_dict(), 'cvae_weights.pth')"
   ]
  },
  {
   "cell_type": "code",
   "execution_count": 18,
   "metadata": {},
   "outputs": [
    {
     "name": "stderr",
     "output_type": "stream",
     "text": [
      "Testing...:   0%|          | 0/5000 [00:00<?, ?it/s]"
     ]
    },
    {
     "name": "stderr",
     "output_type": "stream",
     "text": [
      "Testing...: 100%|██████████| 5000/5000 [00:09<00:00, 502.86it/s]"
     ]
    },
    {
     "name": "stdout",
     "output_type": "stream",
     "text": [
      "Test loss: 241.16283074951173\n"
     ]
    },
    {
     "name": "stderr",
     "output_type": "stream",
     "text": [
      "\n"
     ]
    }
   ],
   "source": [
    "cvae = CVAE(FEATURE_SIZE, LATENT_SIZE, CLASS_SIZE)\n",
    "cvae.to(DEVICE)\n",
    "cvae.load_state_dict(torch.load('cvae_weights.pth', weights_only=True))\n",
    "cvae.eval()\n",
    "with torch.no_grad():\n",
    "    running_test_loss = 0.0\n",
    "    t_test = tqdm(test_loader, desc=\"Testing...\")\n",
    "    for data, labels in t_test:\n",
    "        data, labels = data.to(DEVICE), labels.to(DEVICE)\n",
    "        labels = one_hot(labels, CLASS_SIZE)\n",
    "        recon_batch, mu, logvar = cvae(data, labels)            \n",
    "        loss = loss_function(recon_batch, data.view(data.size(0), -1), mu, logvar)\n",
    "\n",
    "        running_test_loss += loss.item()\n",
    "test_loss = running_test_loss / len(test_loader.dataset)\n",
    "print(f\"Test loss: {test_loss}\")\n",
    "        "
   ]
  },
  {
   "cell_type": "code",
   "execution_count": 30,
   "metadata": {},
   "outputs": [
    {
     "data": {
      "image/png": "[encoded data removed]",
      "text/plain": [
       "<Figure size 600x600 with 4 Axes>"
      ]
     },
     "metadata": {},
     "output_type": "display_data"
    }
   ],
   "source": [
    "# Makes some plots\n",
    "fig, axs = plt.subplots(nrows=2, ncols=2, figsize=(6,6))\n",
    "\n",
    "loader_iter = iter(test_loader)\n",
    "\n",
    "data1, labels1 = next(loader_iter)\n",
    "data1, labels1 = data1.to(DEVICE), labels1.to(DEVICE)\n",
    "labels1 = one_hot(labels1, CLASS_SIZE)\n",
    "recon1, _, _ = cvae(data1, labels1)\n",
    "\n",
    "data2, labels2 = next(loader_iter)\n",
    "data2, labels2 = data2.to(DEVICE), labels2.to(DEVICE)\n",
    "labels2 = one_hot(labels2, CLASS_SIZE)\n",
    "recon2, _, _ = cvae(data2, labels2)\n",
    "\n",
    "# Moving back to cpu\n",
    "data1, data2 = data1.cpu(), data2.cpu()\n",
    "labels1, labels2 = labels1.cpu(), labels2.cpu()\n",
    "recon1, recon2 = recon1.detach().cpu(), recon2.detach().cpu()\n",
    "\n",
    "# Plots\n",
    "axs[0,0].imshow(data1.squeeze(), cmap='gray')\n",
    "axs[0,0].set_title(f\"{list(CLASSES_TO_IDX.keys())[labels1[0].argmax()]}\")\n",
    "\n",
    "axs[0,1].imshow(data2.squeeze(), cmap='gray')\n",
    "axs[0,1].set_title(f\"{list(CLASSES_TO_IDX.keys())[labels2[0].argmax()]}\")\n",
    "\n",
    "axs[1,0].imshow(recon1.view(1, 1, 28, 28).squeeze(), cmap='gray')\n",
    "axs[1,1].imshow(recon2.view(1, 1, 28, 28).squeeze(), cmap='gray')\n",
    "\n",
    "plt.tight_layout()\n",
    "plt.show()"
   ]
  }
 ],
 "metadata": {
  "kernelspec": {
   "display_name": "torch",
   "language": "python",
   "name": "torch"
  },
  "language_info": {
   "codemirror_mode": {
    "name": "ipython",
    "version": 3
   },
   "file_extension": ".py",
   "mimetype": "text/x-python",
   "name": "python",
   "nbconvert_exporter": "python",
   "pygments_lexer": "ipython3",
   "version": "3.12.3"
  }
 },
 "nbformat": 4,
 "nbformat_minor": 2
}
